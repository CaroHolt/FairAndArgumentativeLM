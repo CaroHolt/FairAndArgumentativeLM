{
 "cells": [
  {
   "cell_type": "code",
   "execution_count": 26,
   "id": "accomplished-timothy",
   "metadata": {},
   "outputs": [
    {
     "name": "stdout",
     "output_type": "stream",
     "text": [
      "Collecting prettytable\n",
      "  Downloading https://files.pythonhosted.org/packages/26/1b/42b59a4038bc0442e3a0085bc0de385658131eef8a88946333f870559b09/prettytable-2.1.0-py3-none-any.whl\n",
      "Requirement already satisfied: wcwidth in c:\\users\\d067795\\appdata\\local\\continuum\\anaconda3\\lib\\site-packages (from prettytable) (0.2.5)\n",
      "Requirement already satisfied: importlib-metadata; python_version < \"3.8\" in c:\\users\\d067795\\appdata\\local\\continuum\\anaconda3\\lib\\site-packages (from prettytable) (2.0.0)\n",
      "Requirement already satisfied: zipp>=0.5 in c:\\users\\d067795\\appdata\\local\\continuum\\anaconda3\\lib\\site-packages (from importlib-metadata; python_version < \"3.8\"->prettytable) (3.4.0)\n",
      "Installing collected packages: prettytable\n",
      "Successfully installed prettytable-2.1.0\n"
     ]
    }
   ],
   "source": [
    "!pip install prettytable"
   ]
  },
  {
   "cell_type": "code",
   "execution_count": 118,
   "id": "considered-float",
   "metadata": {},
   "outputs": [],
   "source": [
    "# Imports\n",
    "import json\n",
    "import pandas as pd\n",
    "from tqdm import tqdm\n",
    "import logging\n",
    "from prettytable import PrettyTable\n",
    "import matplotlib.pyplot as plt\n",
    "import seaborn as sns\n",
    "import numpy as np\n",
    "\n",
    "pd.set_option('display.max_colwidth', None)\n",
    "\n",
    "import warnings\n",
    "warnings.filterwarnings('ignore')"
   ]
  },
  {
   "cell_type": "code",
   "execution_count": 37,
   "id": "previous-tomato",
   "metadata": {},
   "outputs": [],
   "source": [
    "# Helper Functions\n",
    "def calculateMeanVote(row):\n",
    "    totalVote = 0\n",
    "    voteCount = 0\n",
    "    for vote in row:\n",
    "        try:\n",
    "            totalVote = totalVote + int(vote['Total points awarded'])\n",
    "            voteCount = voteCount + 1\n",
    "        except KeyError:\n",
    "            continue\n",
    "    if voteCount > 0:\n",
    "        return round(totalVote / voteCount, 1)\n",
    "    else:\n",
    "        return 0\n",
    "    \n",
    "# Returns number of words in string\n",
    "def countWords(string):\n",
    "    state = 'OUT'\n",
    "    wc = 0\n",
    " \n",
    "    # Scan all characters one by one\n",
    "    for i in range(len(string)):\n",
    " \n",
    "        # If next character is a separator,\n",
    "        # set the state as OUT\n",
    "        if (string[i] == ' ' or string[i] == '\\n' or\n",
    "            string[i] == '\\t'):\n",
    "            state = 'OUT'\n",
    " \n",
    "        # If next character is not a word\n",
    "        # separator and state is OUT, then\n",
    "        # set the state as IN and increment\n",
    "        # word count\n",
    "        elif state == 'OUT':\n",
    "            state = 'IN'\n",
    "            wc += 1\n",
    " \n",
    "    # Return the number of words\n",
    "    return wc"
   ]
  },
  {
   "cell_type": "markdown",
   "id": "incorrect-southeast",
   "metadata": {},
   "source": [
    "# Load Debate.org Dataset"
   ]
  },
  {
   "cell_type": "code",
   "execution_count": 7,
   "id": "adjusted-carroll",
   "metadata": {},
   "outputs": [],
   "source": [
    "with open(\"./data/debateorg.json\", \"r\") as d:\n",
    "    debates_dict = json.load(d)\n",
    "with open(\"./data/users.json\", \"r\") as u:\n",
    "      users_dict = json.load(u)"
   ]
  },
  {
   "cell_type": "code",
   "execution_count": 10,
   "id": "exempt-railway",
   "metadata": {},
   "outputs": [],
   "source": [
    "# Extract the data and write in a pandas DataFrame\n",
    "def extract_data(debates_data: dict, users_data: dict) -> pd.DataFrame:\n",
    "    \"\"\"Extract and combines debates and user data into a single dataframe. Return the dataframe.\n",
    "    Currently, only the birthday, education, gender and political orientation are extracted and\n",
    "    returned as user-defining features.\n",
    "    Arguments:\n",
    "    debates_data -- Dictionary containing the debates data.\n",
    "    users_data -- Dictionary containing the users and their properties.\n",
    "    \"\"\"\n",
    "    extracted_data = []\n",
    "    # The user data that should be extracted\n",
    "    properties_of_interest = [\"birthday\", \"ethnicity\", \"gender\", \"political_ideology\", \"education\", \n",
    "                              \"interested\", \"income\", \"looking\", \"party\", \"relationship\", \"win_ratio\", \n",
    "                              \"religious_ideology\", \"number_of_all_debates\", \"big_issues_dict\"]\n",
    "\n",
    "    for key, debate in tqdm(debates_data.items()):\n",
    "        # Sometimes, the users of the debate didn't exist anymore at the time\n",
    "        # the data was collected.\n",
    "        try:\n",
    "            category = debate[\"category\"]\n",
    "        except KeyError:\n",
    "            category = None\n",
    "            \n",
    "        try:\n",
    "            title = debate[\"title\"]\n",
    "        except KeyError:\n",
    "            title = None\n",
    "        \n",
    "        try:\n",
    "            date = debate[\"start_date\"]\n",
    "        except KeyError:\n",
    "            date = None\n",
    "        \n",
    "        try:\n",
    "            user1 = users_data[debate[\"participant_1_name\"]]\n",
    "        except KeyError:\n",
    "            user1 = None\n",
    "\n",
    "        try:\n",
    "            user2 = users_data[debate[\"participant_2_name\"]]\n",
    "        except KeyError:\n",
    "            user2 = None\n",
    "\n",
    "        # If both users do not exist, skip this debate\n",
    "        if not user1 and not user2:\n",
    "            logging.debug(\"Both users are absent from debate data. Skipping.\")\n",
    "            continue\n",
    "\n",
    "        # For each round in this debate...\n",
    "        for debate_round in debate[\"rounds\"]:\n",
    "            # For each argument in this round...\n",
    "            for argument in debate_round:\n",
    "                arguing_user = (\n",
    "                    user1 if argument[\"side\"] == debate[\"participant_1_position\"] else user2)\n",
    "                \n",
    "                arguing_user_name = (\n",
    "                    debate[\"participant_1_name\"] if argument[\"side\"] == debate[\"participant_1_position\"] else debate[\"participant_2_name\"])\n",
    "\n",
    "                # Skip this argument if arguing user does not exist in the dta\n",
    "                if not arguing_user:\n",
    "                    continue\n",
    "                    \n",
    "                # Filtering for votes\n",
    "                votes = []\n",
    "                for vote in debate['votes']:\n",
    "                    votes.append(vote['votes_map'][arguing_user_name])\n",
    "\n",
    "                # Filtering for relevant properties\n",
    "                properties = {\n",
    "                    key: value\n",
    "                    for key, value in arguing_user.items() if key in properties_of_interest}\n",
    "\n",
    "                # Save the text and find the political ideology of the user.\n",
    "                extracted_data.append({\n",
    "                    \"argument\": argument[\"text\"],\n",
    "                    \"title\": title,\n",
    "                    \"category\": category,\n",
    "                    \"date\": date,\n",
    "                    **properties,\n",
    "                    \"votes\": votes})\n",
    "\n",
    "    return pd.DataFrame(columns=[\"argument\", \"title\", \"category\", \"date\", *properties_of_interest, \"votes\"], data=extracted_data)"
   ]
  },
  {
   "cell_type": "code",
   "execution_count": 15,
   "id": "suspended-imagination",
   "metadata": {},
   "outputs": [
    {
     "name": "stderr",
     "output_type": "stream",
     "text": [
      "100%|██████████████████████████████████████████████████████████████████████████| 78376/78376 [00:09<00:00, 8265.88it/s]\n"
     ]
    }
   ],
   "source": [
    "df_debates = extract_data(debates_dict, users_dict)"
   ]
  },
  {
   "cell_type": "code",
   "execution_count": 102,
   "id": "viral-mumbai",
   "metadata": {},
   "outputs": [],
   "source": [
    "# Extract the data and write in a pandas DataFrame\n",
    "def extract_user_data(users_data: dict) -> pd.DataFrame:\n",
    "    extracted_data = []\n",
    "    # The user data that should be extracted\n",
    "    properties_of_interest = [\"birthday\", \"ethnicity\", \"gender\", \"political_ideology\", \"education\", \n",
    "                              \"interested\", \"income\", \"looking\", \"party\", \"relationship\", \"win_ratio\", \n",
    "                              \"religious_ideology\", \"number_of_all_debates\", \"big_issues_dict\"]\n",
    "\n",
    "    for key, user in tqdm(users_data.items()):\n",
    "\n",
    "        # Filtering for relevant properties\n",
    "        properties = {\n",
    "            key: value\n",
    "            for key, value in user.items() if key in properties_of_interest}\n",
    "\n",
    "        # Save the text and find the political ideology of the user.\n",
    "        extracted_data.append({\n",
    "            \"user\": key,\n",
    "            **properties})\n",
    "\n",
    "    return pd.DataFrame(columns=[\"user\", *properties_of_interest], data=extracted_data)"
   ]
  },
  {
   "cell_type": "code",
   "execution_count": 104,
   "id": "pursuant-stewart",
   "metadata": {},
   "outputs": [
    {
     "name": "stderr",
     "output_type": "stream",
     "text": [
      "100%|█████████████████████████████████████████████████████████████████████████| 45348/45348 [00:00<00:00, 76472.55it/s]\n"
     ]
    }
   ],
   "source": [
    "df_users = extract_user_data(users_dict)"
   ]
  },
  {
   "cell_type": "code",
   "execution_count": 106,
   "id": "challenging-rendering",
   "metadata": {},
   "outputs": [
    {
     "data": {
      "text/plain": [
       "45348"
      ]
     },
     "execution_count": 106,
     "metadata": {},
     "output_type": "execute_result"
    }
   ],
   "source": [
    "len(df_users)"
   ]
  },
  {
   "cell_type": "markdown",
   "id": "integral-illness",
   "metadata": {},
   "source": [
    "# Basic Statistics"
   ]
  },
  {
   "cell_type": "markdown",
   "id": "limited-selection",
   "metadata": {},
   "source": [
    "## Arguments"
   ]
  },
  {
   "cell_type": "code",
   "execution_count": 31,
   "id": "official-import",
   "metadata": {},
   "outputs": [
    {
     "name": "stdout",
     "output_type": "stream",
     "text": [
      "Number of different debates: 78376\n",
      "Number of arguments: 510771\n",
      "Number of users: 45348\n",
      "All Attributes: ['argument', 'title', 'category', 'date', 'birthday', 'ethnicity', 'gender', 'political_ideology', 'education', 'interested', 'income', 'looking', 'party', 'relationship', 'win_ratio', 'religious_ideology', 'number_of_all_debates', 'big_issues_dict', 'votes']\n"
     ]
    }
   ],
   "source": [
    "print('Number of different debates: ' + str(len(debates_dict))) \n",
    "print('Number of arguments: ' + str(len(df_debates)))\n",
    "print('Number of users: ' + str(len(users_dict)))\n",
    "print('All Attributes: ' + str(df_debates.columns.tolist()))"
   ]
  },
  {
   "cell_type": "code",
   "execution_count": 92,
   "id": "aggregate-music",
   "metadata": {},
   "outputs": [],
   "source": [
    "def printAllBasicStatisticsArgument():\n",
    "    \n",
    "    t = PrettyTable(['Attribute', 'Mean', 'Min', 'Max', 'Median', 'Mode'])\n",
    "    \n",
    "    # Date\n",
    "    df_debates[\"date\"] = pd.to_datetime(df_debates[\"date\"])\n",
    "    df_debates['year'] = df_debates.apply(lambda row: row['date'].year, axis = 1)\n",
    "    \n",
    "    t.add_row(['Debate Start', df_debates[\"year\"].mean(), df_debates[\"year\"].min(), \n",
    "               df_debates[\"year\"].max(), df_debates[\"year\"].median(), df_debates[\"year\"].mode()[0]])\n",
    "    \n",
    "    # Category\n",
    "    t.add_row(['Category', '', '', '', '', df_debates['category'].mode()[0]])\n",
    "    \n",
    "    # Argumentlength\n",
    "    #df_debates['argument_length'] = df_debates.apply(lambda row: len(row['argument'].split()), axis = 1)\n",
    "    t.add_row(['Argument Length', df_debates[\"argument_length\"].mean(), df_debates[\"argument_length\"].min(), \n",
    "               df_debates[\"argument_length\"].max(), df_debates[\"argument_length\"].median(), \n",
    "               df_debates[\"argument_length\"].mode()[0]])\n",
    "    \n",
    "    # votes\n",
    "    df_debates[\"mean_vote\"] = df_debates.apply(lambda row: calculateMeanVote(row['votes']), axis = 1)\n",
    "        \n",
    "    t.add_row(['Mean vote', df_debates[\"mean_vote\"].mean(), df_debates[\"mean_vote\"].min(), \n",
    "               df_debates[\"mean_vote\"].max(), df_debates[\"mean_vote\"].median(), df_debates[\"mean_vote\"].mode()[0]])\n",
    "    \n",
    "    \n",
    "    variables = ['year', 'mean_vote', 'category', 'argument_length']\n",
    "    colors = ['skyblue', 'olive', 'gold', 'teal']\n",
    "        \n",
    "    print(t)\n",
    "\n",
    "    fig=plt.figure(figsize=(10, 5))\n",
    "    for i, var_name in enumerate(variables):\n",
    "        ax=fig.add_subplot(2,2,i+1)\n",
    "        g = sns.histplot(data=df_debates, x=var_name, color=np.random.rand(3,), bins=10, ax=ax)\n",
    "        plt.xticks(rotation=90)\n",
    "    fig.tight_layout()  # Improves appearance a bit.\n",
    "    plt.show()\n",
    "    "
   ]
  },
  {
   "cell_type": "code",
   "execution_count": 91,
   "id": "cordless-atlanta",
   "metadata": {},
   "outputs": [
    {
     "name": "stdout",
     "output_type": "stream",
     "text": [
      "+-----------------+--------------------+------+-------+--------+----------+\n",
      "|    Attribute    |        Mean        | Min  |  Max  | Median |   Mode   |\n",
      "+-----------------+--------------------+------+-------+--------+----------+\n",
      "|   Debate Start  | 2013.785794416676  | 2007 |  2018 | 2014.0 |   2014   |\n",
      "|     Category    |                    |      |       |        | Politics |\n",
      "| Argument Length | 219.51759203243725 |  0   | 16174 |  52.0  |    1     |\n",
      "|    Mean vote    | 1.253838412909102  | 0.0  |  7.0  |  0.0   |   0.0    |\n",
      "+-----------------+--------------------+------+-------+--------+----------+\n"
     ]
    },
    {
     "data": {
      "image/png": "[encoded data removed]",
      "text/plain": [
       "<Figure size 720x360 with 4 Axes>"
      ]
     },
     "metadata": {
      "needs_background": "light"
     },
     "output_type": "display_data"
    }
   ],
   "source": [
    "printAllBasicStatisticsArgument()"
   ]
  },
  {
   "cell_type": "markdown",
   "id": "inner-student",
   "metadata": {},
   "source": [
    "## User data"
   ]
  },
  {
   "cell_type": "code",
   "execution_count": null,
   "id": "prescribed-retention",
   "metadata": {},
   "outputs": [],
   "source": [
    "df_users.columns"
   ]
  },
  {
   "cell_type": "code",
   "execution_count": 113,
   "id": "lasting-disposition",
   "metadata": {},
   "outputs": [
    {
     "data": {
      "text/plain": [
       "45348"
      ]
     },
     "execution_count": 113,
     "metadata": {},
     "output_type": "execute_result"
    }
   ],
   "source": [
    "len(df_users)"
   ]
  },
  {
   "cell_type": "markdown",
   "id": "vulnerable-carter",
   "metadata": {},
   "source": [
    "### Birthday"
   ]
  },
  {
   "cell_type": "code",
   "execution_count": 236,
   "id": "stupid-february",
   "metadata": {},
   "outputs": [],
   "source": [
    "# Subset of non empty values\n",
    "bday = df_users[df_users['birthday'] != '- Private -'] \n",
    "bday['birthday'] = pd.to_datetime(bday['birthday'])\n",
    "bday['birthYear'] = bday.apply(lambda row: row['birthday'].year, axis = 1)\n",
    "bday['age'] = bday.apply(lambda row: (2021 - row['birthYear']), axis = 1)\n",
    "\n",
    "# Calculate Statistics\n",
    "age_missing = len(df_users[df_users['birthday'] == '- Private -'])\n",
    "age_mean = bday['age'].mean()\n",
    "age_median = bday['age'].median()\n",
    "age_min = bday['age'].min()\n",
    "age_max = bday['age'].max()"
   ]
  },
  {
   "cell_type": "code",
   "execution_count": 120,
   "id": "vocal-picnic",
   "metadata": {},
   "outputs": [
    {
     "data": {
      "text/plain": [
       "Text(0.5, 0.98, 'Age')"
      ]
     },
     "execution_count": 120,
     "metadata": {},
     "output_type": "execute_result"
    },
    {
     "data": {
      "image/png": "[encoded data removed]",
      "text/plain": [
       "<Figure size 360x360 with 1 Axes>"
      ]
     },
     "metadata": {
      "needs_background": "light"
     },
     "output_type": "display_data"
    }
   ],
   "source": [
    "sns.set_palette(sns.color_palette(\"Blues\"))\n",
    "\n",
    "ageHist = sns.displot(bday, \n",
    "            x=\"age\",\n",
    "           binwidth=3)\n",
    "\n",
    "ageHist.fig.suptitle(\"Age\")"
   ]
  },
  {
   "cell_type": "markdown",
   "id": "satellite-lewis",
   "metadata": {},
   "source": [
    "### Gender"
   ]
  },
  {
   "cell_type": "code",
   "execution_count": 247,
   "id": "involved-sunglasses",
   "metadata": {},
   "outputs": [
    {
     "data": {
      "text/plain": [
       "Prefer not to say     28780\n",
       "Male                  11234\n",
       "Female                 5216\n",
       "Genderqueer              39\n",
       "Agender                  26\n",
       "Transgender Female       16\n",
       "Transgender Male         14\n",
       "Bigender                 14\n",
       "Androgyne                 9\n",
       "Name: gender, dtype: int64"
      ]
     },
     "execution_count": 247,
     "metadata": {},
     "output_type": "execute_result"
    }
   ],
   "source": [
    "df_users['gender'].value_counts()"
   ]
  },
  {
   "cell_type": "code",
   "execution_count": 248,
   "id": "arranged-bread",
   "metadata": {},
   "outputs": [],
   "source": [
    "# Subset of non empty values\n",
    "gender = df_users[df_users['gender'] != 'Prefer not to say'] \n",
    "\n",
    "# Calculate Statistics\n",
    "gender_missing = len(df_users[df_users['gender'] == 'Prefer not to say'])\n",
    "gender_max = gender['gender'].mode()"
   ]
  },
  {
   "cell_type": "code",
   "execution_count": 250,
   "id": "operational-render",
   "metadata": {},
   "outputs": [
    {
     "data": {
      "text/plain": [
       "Text(0.5, 0.98, 'Gender')"
      ]
     },
     "execution_count": 250,
     "metadata": {},
     "output_type": "execute_result"
    },
    {
     "data": {
      "image/png": "[encoded data removed]",
      "text/plain": [
       "<Figure size 360x360 with 1 Axes>"
      ]
     },
     "metadata": {
      "needs_background": "light"
     },
     "output_type": "display_data"
    }
   ],
   "source": [
    "sns.set_palette(sns.color_palette(\"Blues\"))\n",
    "\n",
    "genderHist = sns.displot(gender, \n",
    "            x=\"gender\",\n",
    "           binwidth=3)\n",
    "plt.xticks(rotation=90)\n",
    "genderHist.fig.suptitle(\"Gender\")"
   ]
  },
  {
   "cell_type": "markdown",
   "id": "racial-norfolk",
   "metadata": {},
   "source": [
    "### Ethnicity"
   ]
  },
  {
   "cell_type": "code",
   "execution_count": 126,
   "id": "solar-segment",
   "metadata": {},
   "outputs": [],
   "source": [
    "# Subset of non empty values\n",
    "ethnicity = df_users[df_users['ethnicity'] != 'Not Saying']\n",
    "\n",
    "# Calculate Statistics\n",
    "ethnicity_missing = len(df_users[df_users['ethnicity'] == 'Not Saying'])\n",
    "ethnicity_max = ethnicity['ethnicity'].mode()"
   ]
  },
  {
   "cell_type": "code",
   "execution_count": 135,
   "id": "about-alexander",
   "metadata": {},
   "outputs": [
    {
     "data": {
      "text/plain": [
       "Text(0.5, 0.98, 'Ethnicity')"
      ]
     },
     "execution_count": 135,
     "metadata": {},
     "output_type": "execute_result"
    },
    {
     "data": {
      "image/png": "[encoded data removed]",
      "text/plain": [
       "<Figure size 360x360 with 1 Axes>"
      ]
     },
     "metadata": {
      "needs_background": "light"
     },
     "output_type": "display_data"
    }
   ],
   "source": [
    "sns.set_palette(sns.color_palette(\"Blues\"))\n",
    "\n",
    "ethnicityHist = sns.displot(ethnicity, \n",
    "            x=\"ethnicity\",\n",
    "           binwidth=3)\n",
    "plt.xticks(rotation=90)\n",
    "ethnicityHist.fig.suptitle(\"Ethnicity\")"
   ]
  },
  {
   "cell_type": "markdown",
   "id": "domestic-compensation",
   "metadata": {},
   "source": [
    "### Pol. Ideology"
   ]
  },
  {
   "cell_type": "code",
   "execution_count": 146,
   "id": "given-uniform",
   "metadata": {},
   "outputs": [],
   "source": [
    "# Subset of non empty values\n",
    "pol_ideol = df_users[df_users['political_ideology'] != 'Not Saying']\n",
    "\n",
    "# Calculate Statistics\n",
    "pol_ideol_missing = len(df_users[df_users['political_ideology'] == 'Not Saying'])\n",
    "pol_ideol_max = pol_ideol['political_ideology'].mode()"
   ]
  },
  {
   "cell_type": "code",
   "execution_count": 147,
   "id": "neural-express",
   "metadata": {},
   "outputs": [
    {
     "data": {
      "text/plain": [
       "Text(0.5, 0.98, 'Pol. Ideology')"
      ]
     },
     "execution_count": 147,
     "metadata": {},
     "output_type": "execute_result"
    },
    {
     "data": {
      "image/png": "[encoded data removed]",
      "text/plain": [
       "<Figure size 360x360 with 1 Axes>"
      ]
     },
     "metadata": {
      "needs_background": "light"
     },
     "output_type": "display_data"
    }
   ],
   "source": [
    "sns.set_palette(sns.color_palette(\"Blues\"))\n",
    "\n",
    "pol_ideolHist = sns.displot(pol_ideol, \n",
    "            x=\"political_ideology\",\n",
    "           binwidth=3)\n",
    "plt.xticks(rotation=90)\n",
    "pol_ideolHist.fig.suptitle(\"Pol. Ideology\")"
   ]
  },
  {
   "cell_type": "markdown",
   "id": "necessary-reality",
   "metadata": {},
   "source": [
    "### Party"
   ]
  },
  {
   "cell_type": "code",
   "execution_count": 154,
   "id": "coordinate-valentine",
   "metadata": {},
   "outputs": [],
   "source": [
    "# Subset of non empty values\n",
    "party = df_users[df_users['party'] != 'Not Saying']\n",
    "\n",
    "# Calculate Statistics\n",
    "party_missing = len(df_users[df_users['party'] == 'Not Saying'])\n",
    "party_max = party['party'].mode()"
   ]
  },
  {
   "cell_type": "code",
   "execution_count": 232,
   "id": "grave-stocks",
   "metadata": {},
   "outputs": [
    {
     "data": {
      "text/plain": [
       "Text(0.5, 0.98, 'Party')"
      ]
     },
     "execution_count": 232,
     "metadata": {},
     "output_type": "execute_result"
    },
    {
     "data": {
      "image/png": "[encoded data removed]",
      "text/plain": [
       "<Figure size 360x360 with 1 Axes>"
      ]
     },
     "metadata": {
      "needs_background": "light"
     },
     "output_type": "display_data"
    }
   ],
   "source": [
    "sns.set_palette(sns.color_palette(\"Blues\"))\n",
    "\n",
    "largestParties = party['party'].value_counts()[:20].index.tolist()\n",
    "subsetParties = df_users[df_users['party'].isin(largestParties)]\n",
    "\n",
    "\n",
    "partyHist = sns.displot(subsetParties, \n",
    "            x=\"party\",\n",
    "           binwidth=3)\n",
    "plt.xticks(rotation=90)\n",
    "partyHist.fig.suptitle(\"Party\")"
   ]
  },
  {
   "cell_type": "markdown",
   "id": "provincial-spanish",
   "metadata": {},
   "source": [
    "### Education"
   ]
  },
  {
   "cell_type": "code",
   "execution_count": 144,
   "id": "metropolitan-revelation",
   "metadata": {},
   "outputs": [],
   "source": [
    "# Subset of non empty values\n",
    "education = df_users[df_users['education'] != 'Not Saying']\n",
    "\n",
    "# Calculate Statistics\n",
    "education_missing = len(df_users[df_users['education'] == 'Not Saying'])\n",
    "education_max = education['education'].mode()"
   ]
  },
  {
   "cell_type": "code",
   "execution_count": 145,
   "id": "fiscal-austin",
   "metadata": {},
   "outputs": [
    {
     "data": {
      "text/plain": [
       "Text(0.5, 0.98, 'Education')"
      ]
     },
     "execution_count": 145,
     "metadata": {},
     "output_type": "execute_result"
    },
    {
     "data": {
      "image/png": "[encoded data removed]",
      "text/plain": [
       "<Figure size 360x360 with 1 Axes>"
      ]
     },
     "metadata": {
      "needs_background": "light"
     },
     "output_type": "display_data"
    }
   ],
   "source": [
    "sns.set_palette(sns.color_palette(\"Blues\"))\n",
    "\n",
    "educationHist = sns.displot(education, \n",
    "            x=\"education\",\n",
    "           binwidth=3)\n",
    "plt.xticks(rotation=90)\n",
    "educationHist.fig.suptitle(\"Education\")"
   ]
  },
  {
   "cell_type": "markdown",
   "id": "surface-phone",
   "metadata": {},
   "source": [
    "### Interested"
   ]
  },
  {
   "cell_type": "code",
   "execution_count": 150,
   "id": "wooden-curtis",
   "metadata": {},
   "outputs": [],
   "source": [
    "# Subset of non empty values\n",
    "interested = df_users[(df_users['interested'] != 'Not Saying') & (df_users['interested'] != '- Private -')]\n",
    "\n",
    "# Calculate Statistics\n",
    "interested_missing = len(df_users[(df_users['interested'] == 'Not Saying') | (df_users['interested'] == '- Private -')])\n",
    "interested_max = interested['interested'].mode()"
   ]
  },
  {
   "cell_type": "code",
   "execution_count": 152,
   "id": "political-accreditation",
   "metadata": {},
   "outputs": [
    {
     "data": {
      "text/plain": [
       "Text(0.5, 0.98, 'Interested')"
      ]
     },
     "execution_count": 152,
     "metadata": {},
     "output_type": "execute_result"
    },
    {
     "data": {
      "image/png": "[encoded data removed]",
      "text/plain": [
       "<Figure size 360x360 with 1 Axes>"
      ]
     },
     "metadata": {
      "needs_background": "light"
     },
     "output_type": "display_data"
    }
   ],
   "source": [
    "sns.set_palette(sns.color_palette(\"Blues\"))\n",
    "\n",
    "interestedHist = sns.displot(interested, \n",
    "            x=\"interested\",\n",
    "           binwidth=3)\n",
    "plt.xticks(rotation=90)\n",
    "interestedHist.fig.suptitle(\"Interested\")"
   ]
  },
  {
   "cell_type": "markdown",
   "id": "noted-harris",
   "metadata": {},
   "source": [
    "### Looking"
   ]
  },
  {
   "cell_type": "code",
   "execution_count": 174,
   "id": "satisfactory-inclusion",
   "metadata": {},
   "outputs": [],
   "source": [
    "# Subset of non empty values\n",
    "looking = df_users[(df_users['looking'] != 'No Answer') & (df_users['looking'] != '- Private -')]\n",
    "\n",
    "# Calculate Statistics\n",
    "looking_missing = len(df_users[(df_users['looking'] == 'Not Saying') | (df_users['looking'] == '- Private -')])\n",
    "looking_max = looking['looking'].mode()"
   ]
  },
  {
   "cell_type": "code",
   "execution_count": 180,
   "id": "plain-intent",
   "metadata": {},
   "outputs": [
    {
     "data": {
      "text/plain": [
       "Text(0.5, 0.98, 'Looking')"
      ]
     },
     "execution_count": 180,
     "metadata": {},
     "output_type": "execute_result"
    },
    {
     "data": {
      "image/png": "[encoded data removed]",
      "text/plain": [
       "<Figure size 360x360 with 1 Axes>"
      ]
     },
     "metadata": {
      "needs_background": "light"
     },
     "output_type": "display_data"
    }
   ],
   "source": [
    "sns.set_palette(sns.color_palette(\"Blues\"))\n",
    "\n",
    "lookingHist = sns.displot(looking, \n",
    "            x=\"looking\",\n",
    "           binwidth=3)\n",
    "plt.xticks(rotation=90)\n",
    "lookingHist.fig.suptitle(\"Looking\")"
   ]
  },
  {
   "cell_type": "markdown",
   "id": "traditional-recruitment",
   "metadata": {},
   "source": [
    "### Income"
   ]
  },
  {
   "cell_type": "code",
   "execution_count": 179,
   "id": "associate-responsibility",
   "metadata": {},
   "outputs": [],
   "source": [
    "# Subset of non empty values\n",
    "income = df_users[(df_users['income'] != 'Not Saying') & (df_users['income'] != '- Private -')]\n",
    "\n",
    "# Calculate Statistics\n",
    "income_missing = len(df_users[(df_users['income'] == 'Not Saying') | (df_users['income'] == '- Private -')])\n",
    "income_max = looking['income'].mode()"
   ]
  },
  {
   "cell_type": "code",
   "execution_count": 181,
   "id": "described-species",
   "metadata": {},
   "outputs": [
    {
     "data": {
      "text/plain": [
       "Text(0.5, 0.98, 'Income')"
      ]
     },
     "execution_count": 181,
     "metadata": {},
     "output_type": "execute_result"
    },
    {
     "data": {
      "image/png": "[encoded data removed]",
      "text/plain": [
       "<Figure size 360x360 with 1 Axes>"
      ]
     },
     "metadata": {
      "needs_background": "light"
     },
     "output_type": "display_data"
    }
   ],
   "source": [
    "sns.set_palette(sns.color_palette(\"Blues\"))\n",
    "\n",
    "incomeHist = sns.displot(income, \n",
    "            x=\"income\",\n",
    "           binwidth=3)\n",
    "plt.xticks(rotation=90)\n",
    "incomeHist.fig.suptitle(\"Income\")"
   ]
  },
  {
   "cell_type": "markdown",
   "id": "local-manual",
   "metadata": {},
   "source": [
    "## Number of all debates"
   ]
  },
  {
   "cell_type": "code",
   "execution_count": 184,
   "id": "comparative-multimedia",
   "metadata": {},
   "outputs": [],
   "source": [
    "num_debates\n",
    "# Calculate Statistics\n",
    "num_debates_mean = df_users['number_of_all_debates'].mean()\n",
    "num_debates_median = df_users['number_of_all_debates'].median()\n",
    "num_debates_min = df_users['number_of_all_debates'].min()\n",
    "num_debates_max = df_users['number_of_all_debates'].max()"
   ]
  },
  {
   "cell_type": "code",
   "execution_count": 197,
   "id": "developing-visit",
   "metadata": {},
   "outputs": [
    {
     "data": {
      "text/plain": [
       "1      17762\n",
       "0      10603\n",
       "2       6309\n",
       "3       3187\n",
       "4       1935\n",
       "       ...  \n",
       "111        1\n",
       "203        1\n",
       "144        1\n",
       "158        1\n",
       "120        1\n",
       "Name: number_of_all_debates, Length: 162, dtype: int64"
      ]
     },
     "execution_count": 197,
     "metadata": {},
     "output_type": "execute_result"
    }
   ],
   "source": [
    "df_users['number_of_all_debates'].value_counts()"
   ]
  },
  {
   "cell_type": "markdown",
   "id": "municipal-symposium",
   "metadata": {},
   "source": [
    "### Religious Ideology"
   ]
  },
  {
   "cell_type": "code",
   "execution_count": 216,
   "id": "bigger-alliance",
   "metadata": {},
   "outputs": [],
   "source": [
    "def cleanReligious(row):\n",
    "    if 'Hindu' in row['religious_ideology']:\n",
    "        return 'Hindu'\n",
    "    elif 'Christian' in row['religious_ideology']:\n",
    "        return 'Christian'\n",
    "    elif 'Buddhist' in row['religious_ideology']:\n",
    "        return 'Buddhist'   \n",
    "    elif 'Jewish' in row['religious_ideology']:\n",
    "        return 'Jewish'   \n",
    "    elif 'Muslim' in row['religious_ideology']:\n",
    "        return 'Islamic' \n",
    "    else:\n",
    "        return row['religious_ideology']\n",
    "    "
   ]
  },
  {
   "cell_type": "code",
   "execution_count": 219,
   "id": "democratic-korean",
   "metadata": {},
   "outputs": [],
   "source": [
    "# Subset of non empty values\n",
    "rel_ideo = df_users[(df_users['religious_ideology'] != 'Not Saying')]\n",
    "\n",
    "rel_ideo['religious_ideology'] = rel_ideo.apply(lambda row: cleanReligious(row), axis = 1)\n",
    "\n",
    "# Calculate Statistics\n",
    "rel_ideo_missing = len(df_users[(df_users['religious_ideology'] == 'Not Saying')])\n",
    "rel_ideo_max = looking['income'].mode()"
   ]
  },
  {
   "cell_type": "code",
   "execution_count": 233,
   "id": "numerical-peeing",
   "metadata": {},
   "outputs": [
    {
     "data": {
      "text/plain": [
       "Text(0.5, 0.98, 'Religious Ideology')"
      ]
     },
     "execution_count": 233,
     "metadata": {},
     "output_type": "execute_result"
    },
    {
     "data": {
      "image/png": "[encoded data removed]",
      "text/plain": [
       "<Figure size 360x360 with 1 Axes>"
      ]
     },
     "metadata": {
      "needs_background": "light"
     },
     "output_type": "display_data"
    }
   ],
   "source": [
    "sns.set_palette(sns.color_palette(\"Blues\"))\n",
    "largestReligions = rel_ideo['religious_ideology'].value_counts()[:15].index.tolist()\n",
    "subsetReligions = df_users[df_users['religious_ideology'].isin(largestReligions)]\n",
    "\n",
    "\n",
    "# Only plot largest\n",
    "rel_ideoHist = sns.displot(subsetReligions, \n",
    "            x=\"religious_ideology\",\n",
    "           binwidth=3)\n",
    "plt.xticks(rotation=90)\n",
    "rel_ideoHist.fig.suptitle(\"Religious Ideology\")"
   ]
  },
  {
   "cell_type": "markdown",
   "id": "featured-sterling",
   "metadata": {},
   "source": [
    "## Create Table"
   ]
  },
  {
   "cell_type": "code",
   "execution_count": 256,
   "id": "prescription-flower",
   "metadata": {},
   "outputs": [
    {
     "name": "stdout",
     "output_type": "stream",
     "text": [
      "+---------------+-----------+-----------+-------+-----+-----+------------------+-------------------------------------------------------+\n",
      "|   Attribute   | Missing # | Missing % |  Mean | Min | Max |      Median      |                      3 - largest                      |\n",
      "+---------------+-----------+-----------+-------+-----+-----+------------------+-------------------------------------------------------+\n",
      "|      Age      |   44682   |    0.99   | 31.91 |  17 | 122 |       26.0       |                                                       |\n",
      "|   Ethincity   |           |    0.66   |       |     |     |      White       |              ['White', 'Asian', 'Black']              |\n",
      "|     Gender    |   28780   |    0.63   |       |     |     |       Male       |           ['Male', 'Female', 'Genderqueer']           |\n",
      "| Pol. Ideology |           |    0.72   |       |     |     |   Conservative   |       ['Conservative', 'Liberal', 'Libertarian']      |\n",
      "|   Education   |           |    0.76   |       |     |     |   High School    |  ['High School', 'Some College', 'Bachelors Degree']  |\n",
      "|     Party     |           |    0.75   |       |     |     | Republican Party | ['Republican Party', 'Democratic Party', 'Undecided'] |\n",
      "|   Interested  |           |    0.03   |       |     |     |    No Answer     |          ['No Answer', 'in Women', 'in Men']          |\n",
      "+---------------+-----------+-----------+-------+-----+-----+------------------+-------------------------------------------------------+\n"
     ]
    }
   ],
   "source": [
    "t = PrettyTable(['Attribute', 'Missing #', 'Missing %', 'Mean', 'Min', 'Max', 'Median', '3 - largest'])\n",
    "    \n",
    "# age\n",
    "t.add_row(['Age', age_missing, round(age_missing / len(df_users), 2), round(age_mean, 2), age_min, \n",
    "           age_max, age_median, ''])\n",
    "\n",
    "# ethnicity\n",
    "t.add_row(['Ethincity', '', round(ethnicity_missing / len(df_users),2), '', \n",
    "           '', '', ethnicity_max[0], ethnicity['ethnicity'].value_counts()[:3].index.tolist()])\n",
    "\n",
    "# gender\n",
    "t.add_row(['Gender', gender_missing, round(gender_missing / len(df_users), 2), '', '', \n",
    "           '', gender_max[0], gender['gender'].value_counts()[:3].index.tolist()])\n",
    "\n",
    "# Pol. Ideology\n",
    "t.add_row(['Pol. Ideology', '', round(pol_ideol_missing / len(df_users),2), '', \n",
    "           '', '', pol_ideol_max[0], pol_ideol['political_ideology'].value_counts()[:3].index.tolist()])\n",
    "\n",
    "# Education\n",
    "t.add_row(['Education', '', round(education_missing / len(df_users),2), '', \n",
    "           '', '', education_max[0], education['education'].value_counts()[:3].index.tolist()])\n",
    "\n",
    "# Party\n",
    "t.add_row(['Party', '', round(party_missing / len(df_users),2), '', \n",
    "           '', '', party_max[0], party['party'].value_counts()[:3].index.tolist()])\n",
    "\n",
    "# Interested\n",
    "t.add_row(['Interested', '', round(interested_missing / len(df_users),2), '', \n",
    "           '', '', interested_max[0], interested['interested'].value_counts()[:3].index.tolist()])\n",
    "print(t)\n",
    "    "
   ]
  },
  {
   "cell_type": "markdown",
   "id": "demonstrated-clothing",
   "metadata": {},
   "source": [
    "##  User data relative to arguments"
   ]
  },
  {
   "cell_type": "code",
   "execution_count": 93,
   "id": "written-archive",
   "metadata": {},
   "outputs": [
    {
     "data": {
      "text/plain": [
       "Index(['argument', 'title', 'category', 'date', 'birthday', 'ethnicity',\n",
       "       'gender', 'political_ideology', 'education', 'interested', 'income',\n",
       "       'looking', 'party', 'relationship', 'win_ratio', 'religious_ideology',\n",
       "       'number_of_all_debates', 'big_issues_dict', 'votes', 'year',\n",
       "       'argument_length', 'mean_vote'],\n",
       "      dtype='object')"
      ]
     },
     "execution_count": 93,
     "metadata": {},
     "output_type": "execute_result"
    }
   ],
   "source": [
    "df_debates.columns"
   ]
  },
  {
   "cell_type": "code",
   "execution_count": null,
   "id": "individual-thesaurus",
   "metadata": {},
   "outputs": [],
   "source": [
    "subsetWithBirthday['birthYear'] = subsetWithBirthday.apply(lambda row: row['birthday'].year, axis = 1)"
   ]
  },
  {
   "cell_type": "code",
   "execution_count": null,
   "id": "cutting-anaheim",
   "metadata": {},
   "outputs": [],
   "source": [
    "subsetWithBirthday['age'] = subsetWithBirthday.apply(lambda row: (2021 - row['birthYear']), axis = 1)"
   ]
  },
  {
   "cell_type": "code",
   "execution_count": null,
   "id": "passing-sperm",
   "metadata": {},
   "outputs": [],
   "source": [
    "subsetWithBirthday['age'].median()"
   ]
  },
  {
   "cell_type": "code",
   "execution_count": null,
   "id": "consecutive-empire",
   "metadata": {},
   "outputs": [],
   "source": [
    "df_debates['gender'].value_counts()"
   ]
  },
  {
   "cell_type": "code",
   "execution_count": null,
   "id": "technical-greece",
   "metadata": {},
   "outputs": [],
   "source": [
    "genderSubset = df_debates[df_debates['gender'] != 'Prefer not to say']"
   ]
  },
  {
   "cell_type": "code",
   "execution_count": null,
   "id": "applied-memphis",
   "metadata": {},
   "outputs": [],
   "source": [
    "df_debates['education'].value_counts()"
   ]
  },
  {
   "cell_type": "code",
   "execution_count": null,
   "id": "small-department",
   "metadata": {},
   "outputs": [],
   "source": [
    "educationSubset = df_debates[df_debates['education'] != 'Not Saying']"
   ]
  },
  {
   "cell_type": "code",
   "execution_count": null,
   "id": "finished-words",
   "metadata": {},
   "outputs": [],
   "source": [
    "sns.set_palette(sns.color_palette(\"Blues\"))\n",
    "\n",
    "educationHist = sns.displot(educationSubset, \n",
    "            x=\"education\",\n",
    "           binwidth=3)\n",
    "\n",
    "educationHist.set_xticklabels(rotation=60)\n",
    "\n",
    "educationHist.set(xlabel='')\n",
    "\n",
    "educationHist.fig.suptitle(\"Education\")\n",
    "\n",
    "educationHist.savefig(\"educationHist.png\")"
   ]
  },
  {
   "cell_type": "code",
   "execution_count": null,
   "id": "everyday-thickness",
   "metadata": {},
   "outputs": [],
   "source": [
    "df_debates['interested'].value_counts()"
   ]
  },
  {
   "cell_type": "code",
   "execution_count": null,
   "id": "monthly-acrylic",
   "metadata": {},
   "outputs": [],
   "source": [
    "len(df_debates[(df_debates['party'] == 'Republican Party') & (df_debates['gender'] == 'Male')])"
   ]
  },
  {
   "cell_type": "code",
   "execution_count": null,
   "id": "union-admission",
   "metadata": {},
   "outputs": [],
   "source": [
    "df_debates['party'].value_counts()"
   ]
  },
  {
   "cell_type": "code",
   "execution_count": null,
   "id": "logical-immune",
   "metadata": {},
   "outputs": [],
   "source": [
    "subsetParty = df_debates[df_debates['party'] != 'Not Saying']"
   ]
  },
  {
   "cell_type": "code",
   "execution_count": null,
   "id": "thorough-bronze",
   "metadata": {},
   "outputs": [],
   "source": [
    "largestParties = subsetParty['party'].value_counts()[:20].index.tolist()\n",
    "subsetParty = df_debates[(df_debates['party'] in largestParties)]"
   ]
  },
  {
   "cell_type": "code",
   "execution_count": null,
   "id": "popular-violin",
   "metadata": {},
   "outputs": [],
   "source": [
    "subsetParty = df_debates[(df_debates['party'] in largestParties)]"
   ]
  },
  {
   "cell_type": "code",
   "execution_count": null,
   "id": "heated-geology",
   "metadata": {},
   "outputs": [],
   "source": [
    "sns.set_palette(sns.color_palette(\"Blues\"))\n",
    "\n",
    "partyHist = sns.displot(subsetParty, \n",
    "            x=\"party\",\n",
    "           binwidth=3)\n",
    "\n",
    "partyHist.set_xticklabels(rotation=60)\n",
    "\n",
    "partyHist.set(xlabel='')\n",
    "\n",
    "partyHist.fig.suptitle(\"Party\")\n",
    "\n",
    "partyHist.savefig(\"partyHist.png\")"
   ]
  },
  {
   "cell_type": "code",
   "execution_count": null,
   "id": "informational-broadcasting",
   "metadata": {},
   "outputs": [],
   "source": [
    "df_debates['relationship'].value_counts()"
   ]
  },
  {
   "cell_type": "code",
   "execution_count": null,
   "id": "incorrect-tennis",
   "metadata": {},
   "outputs": [],
   "source": [
    "subsetRelationship = df_debates[df_debates['relationship'] != 'Not Saying']"
   ]
  },
  {
   "cell_type": "code",
   "execution_count": null,
   "id": "flush-avatar",
   "metadata": {},
   "outputs": [],
   "source": [
    "subsetRelationship = subsetRelationship[subsetRelationship['relationship'] != '- Private -']"
   ]
  },
  {
   "cell_type": "code",
   "execution_count": null,
   "id": "worst-malta",
   "metadata": {},
   "outputs": [],
   "source": [
    "sns.set_palette(sns.color_palette(\"Blues\"))\n",
    "\n",
    "relationshipHist = sns.displot(subsetRelationship, \n",
    "            x=\"relationship\",\n",
    "           binwidth=3)\n",
    "\n",
    "relationshipHist.set_xticklabels(rotation=60)\n",
    "\n",
    "relationshipHist.set(xlabel='')\n",
    "\n",
    "relationshipHist.fig.suptitle(\"Relationship\")\n",
    "\n",
    "relationshipHist.savefig(\"relationshipHist.png\")"
   ]
  },
  {
   "cell_type": "code",
   "execution_count": null,
   "id": "growing-apartment",
   "metadata": {},
   "outputs": [],
   "source": [
    "df_debates['win_ratio'].value_counts()"
   ]
  },
  {
   "cell_type": "code",
   "execution_count": null,
   "id": "continuous-allocation",
   "metadata": {},
   "outputs": [],
   "source": [
    "subsetReligious = df_debates[['religious_ideology']]"
   ]
  },
  {
   "cell_type": "code",
   "execution_count": null,
   "id": "homeless-stack",
   "metadata": {},
   "outputs": [],
   "source": [
    "def cleanReligious(row):\n",
    "    if 'Hindu' in row['religious_ideology']:\n",
    "        return 'Hindu'\n",
    "    else:\n",
    "        return row['religious_ideology']"
   ]
  },
  {
   "cell_type": "code",
   "execution_count": null,
   "id": "perfect-appeal",
   "metadata": {},
   "outputs": [],
   "source": [
    "subsetReligious['religious_ideology'] = subsetReligious.apply(lambda row: cleanReligious(row), axis = 1)"
   ]
  },
  {
   "cell_type": "code",
   "execution_count": null,
   "id": "checked-titanium",
   "metadata": {},
   "outputs": [],
   "source": [
    "subsetReligious = subsetReligious[subsetReligious['religious_ideology'] != 'Not Saying']"
   ]
  },
  {
   "cell_type": "code",
   "execution_count": null,
   "id": "typical-elephant",
   "metadata": {},
   "outputs": [],
   "source": [
    "sns.set_palette(sns.color_palette(\"Blues\"))\n",
    "\n",
    "religionHist = sns.displot(subsetReligious, \n",
    "            x=\"religious_ideology\",\n",
    "           binwidth=3)\n",
    "\n",
    "religionHist.set_xticklabels(rotation=60)\n",
    "\n",
    "religionHist.set(xlabel='')\n",
    "\n",
    "religionHist.fig.suptitle(\"Largest religious groups\")\n",
    "\n",
    "religionHist.savefig(\"religionHist.png\")"
   ]
  },
  {
   "cell_type": "code",
   "execution_count": null,
   "id": "northern-athens",
   "metadata": {},
   "outputs": [],
   "source": [
    "subsetReligious['religious_ideology'].value_counts()"
   ]
  },
  {
   "cell_type": "markdown",
   "id": "large-mason",
   "metadata": {},
   "source": [
    "#### Evaluation Big issues"
   ]
  },
  {
   "cell_type": "code",
   "execution_count": null,
   "id": "proud-alaska",
   "metadata": {},
   "outputs": [],
   "source": [
    "big_issues_list = []\n",
    "for entry in df_debates['big_issues_dict']:\n",
    "    big_issues_list.append(entry)\n",
    "    \n",
    "big_issues_df = pd.DataFrame(big_issues_list)\n",
    "big_issues_df"
   ]
  },
  {
   "cell_type": "code",
   "execution_count": null,
   "id": "modular-jerusalem",
   "metadata": {},
   "outputs": [],
   "source": [
    "big_issues_df.columns"
   ]
  },
  {
   "cell_type": "code",
   "execution_count": null,
   "id": "confidential-engine",
   "metadata": {},
   "outputs": [],
   "source": [
    "big_issues_df['Racial Profiling'].value_counts()"
   ]
  },
  {
   "cell_type": "code",
   "execution_count": null,
   "id": "inclusive-leader",
   "metadata": {},
   "outputs": [],
   "source": [
    "big_issues_df['Affirmative Action'].value_counts()"
   ]
  },
  {
   "cell_type": "code",
   "execution_count": null,
   "id": "under-sacramento",
   "metadata": {},
   "outputs": [],
   "source": [
    "big_issues_df['Animal Rights'].value_counts()"
   ]
  },
  {
   "cell_type": "code",
   "execution_count": null,
   "id": "infrared-motion",
   "metadata": {},
   "outputs": [],
   "source": [
    "big_issues_df['Barack Obama'].value_counts()"
   ]
  },
  {
   "cell_type": "code",
   "execution_count": null,
   "id": "noticed-climb",
   "metadata": {},
   "outputs": [],
   "source": [
    "big_issues_df['Torture'].value_counts()"
   ]
  },
  {
   "cell_type": "code",
   "execution_count": null,
   "id": "exposed-vietnam",
   "metadata": {},
   "outputs": [],
   "source": [
    "big_issues_df['Gay Marriage'].value_counts()"
   ]
  },
  {
   "cell_type": "code",
   "execution_count": null,
   "id": "severe-blues",
   "metadata": {},
   "outputs": [],
   "source": [
    "big_issues_df.reset_index(inplace = True)\n",
    "df_debates.reset_index(inplace = True)"
   ]
  },
  {
   "cell_type": "code",
   "execution_count": null,
   "id": "bound-lightning",
   "metadata": {},
   "outputs": [],
   "source": [
    "big_issues_df"
   ]
  },
  {
   "cell_type": "code",
   "execution_count": null,
   "id": "adjustable-resistance",
   "metadata": {},
   "outputs": [],
   "source": [
    "merged_df = big_issues_df.join(df_debates, lsuffix='_left')"
   ]
  },
  {
   "cell_type": "code",
   "execution_count": null,
   "id": "growing-president",
   "metadata": {},
   "outputs": [],
   "source": [
    "subset_gay_marriage = merged_df[(merged_df['Gay Marriage'] != 'N/S') & (merged_df['Gay Marriage'] != 'N/O')]"
   ]
  },
  {
   "cell_type": "code",
   "execution_count": null,
   "id": "exact-characteristic",
   "metadata": {},
   "outputs": [],
   "source": [
    "subset_gay_marriage_female = subset_gay_marriage[subset_gay_marriage['gender'] == 'Female']"
   ]
  },
  {
   "cell_type": "code",
   "execution_count": null,
   "id": "boxed-sixth",
   "metadata": {},
   "outputs": [],
   "source": [
    "sns.set_palette(sns.color_palette(\"Blues_r\"))\n",
    "\n",
    "subset_gay_marriage_femaleHist = sns.displot(subset_gay_marriage_female, \n",
    "            x=\"Gay Marriage\",\n",
    "           binwidth=3)\n",
    "\n",
    "subset_gay_marriage_femaleHist.set_xticklabels(rotation=60)\n",
    "\n",
    "subset_gay_marriage_femaleHist.set(xlabel='')\n",
    "\n",
    "subset_gay_marriage_femaleHist.fig.suptitle(\"Answers of females\")\n",
    "\n",
    "subset_gay_marriage_femaleHist.savefig(\"subset_gay_marriage_femaleHist.png\")"
   ]
  },
  {
   "cell_type": "code",
   "execution_count": null,
   "id": "handy-connectivity",
   "metadata": {},
   "outputs": [],
   "source": [
    "subset_gay_marriage_male = subset_gay_marriage[subset_gay_marriage['gender'] == 'Male']\n",
    "\n",
    "subset_gay_marriage_maleHist = sns.displot(subset_gay_marriage_male, \n",
    "            x=\"Gay Marriage\",\n",
    "           binwidth=3)\n",
    "\n",
    "subset_gay_marriage_maleHist.set_xticklabels(rotation=60)\n",
    "\n",
    "subset_gay_marriage_maleHist.set(xlabel='')\n",
    "\n",
    "subset_gay_marriage_maleHist.fig.suptitle(\"Answers of Males\")\n",
    "\n",
    "subset_gay_marriage_maleHist.savefig(\"subset_gay_marriage_maleHist.png\")"
   ]
  },
  {
   "cell_type": "code",
   "execution_count": null,
   "id": "demanding-herald",
   "metadata": {},
   "outputs": [],
   "source": [
    "subset_gay_marriage_genderqueer = subset_gay_marriage[subset_gay_marriage['gender'] == 'Genderqueer']\n",
    "\n",
    "subset_gay_marriage_genderqueerHist = sns.displot(subset_gay_marriage_genderqueer, \n",
    "            x=\"Gay Marriage\",\n",
    "           binwidth=3)\n",
    "\n",
    "subset_gay_marriage_genderqueerHist.set_xticklabels(rotation=60)\n",
    "\n",
    "subset_gay_marriage_genderqueerHist.set(xlabel='')\n",
    "\n",
    "subset_gay_marriage_genderqueerHist.fig.suptitle(\"Answers of Genderqueers\")\n",
    "\n",
    "subset_gay_marriage_genderqueerHist.savefig(\"subset_gay_marriage_genderqueerHist.png\")"
   ]
  },
  {
   "cell_type": "code",
   "execution_count": null,
   "id": "sixth-boxing",
   "metadata": {},
   "outputs": [],
   "source": [
    "subset_gay_marriage_white = subset_gay_marriage[subset_gay_marriage['ethnicity'] == 'White']"
   ]
  },
  {
   "cell_type": "code",
   "execution_count": null,
   "id": "happy-developer",
   "metadata": {},
   "outputs": [],
   "source": [
    "subset_gay_marriage_white = subset_gay_marriage[subset_gay_marriage['ethnicity'] == 'White']\n",
    "subset_gay_marriage_whiteHist = sns.displot(subset_gay_marriage_white, \n",
    "            x=\"Gay Marriage\",\n",
    "           binwidth=3)\n",
    "\n",
    "subset_gay_marriage_whiteHist.set_xticklabels(rotation=60)\n",
    "\n",
    "subset_gay_marriage_whiteHist.set(xlabel='')\n",
    "\n",
    "subset_gay_marriage_whiteHist.fig.suptitle(\"Answers of white people\")\n",
    "\n",
    "subset_gay_marriage_whiteHist.savefig(\"subset_gay_marriage_whiteHist.png\")"
   ]
  },
  {
   "cell_type": "code",
   "execution_count": null,
   "id": "industrial-passion",
   "metadata": {},
   "outputs": [],
   "source": [
    "subset_gay_marriage_asian = subset_gay_marriage[subset_gay_marriage['ethnicity'] == 'Asian']\n",
    "subset_gay_marriage_asianHist = sns.displot(subset_gay_marriage_asian, \n",
    "            x=\"Gay Marriage\",\n",
    "           binwidth=3)\n",
    "\n",
    "subset_gay_marriage_asianHist.set_xticklabels(rotation=60)\n",
    "\n",
    "subset_gay_marriage_asianHist.set(xlabel='')\n",
    "\n",
    "subset_gay_marriage_asianHist.fig.suptitle(\"Answers of asian people\")\n",
    "\n",
    "subset_gay_marriage_asianHist.savefig(\"subset_gay_marriage_asianHist.png\")"
   ]
  },
  {
   "cell_type": "code",
   "execution_count": null,
   "id": "respective-frame",
   "metadata": {},
   "outputs": [],
   "source": [
    "subset_gay_marriage_black = subset_gay_marriage[subset_gay_marriage['ethnicity'] == 'Black']\n",
    "subset_gay_marriage_blackHist = sns.displot(subset_gay_marriage_black, \n",
    "            x=\"Gay Marriage\",\n",
    "           binwidth=3)\n",
    "\n",
    "subset_gay_marriage_blackHist.set_xticklabels(rotation=60)\n",
    "\n",
    "subset_gay_marriage_blackHist.set(xlabel='')\n",
    "\n",
    "subset_gay_marriage_blackHist.fig.suptitle(\"Answers of black people\")\n",
    "\n",
    "subset_gay_marriage_blackHist.savefig(\"subset_gay_marriage_blackHist.png\")"
   ]
  },
  {
   "cell_type": "code",
   "execution_count": null,
   "id": "spiritual-opportunity",
   "metadata": {},
   "outputs": [],
   "source": [
    "subset_gay_marriage_bachelor = subset_gay_marriage[subset_gay_marriage['education'] == 'Bachelors Degree']\n",
    "\n",
    "subset_gay_marriage_bachelorHist = sns.displot(subset_gay_marriage_bachelor, \n",
    "            x=\"Gay Marriage\",\n",
    "           binwidth=3)\n",
    "\n",
    "subset_gay_marriage_bachelorHist.set_xticklabels(rotation=60)\n",
    "\n",
    "subset_gay_marriage_bachelorHist.set(xlabel='')\n",
    "\n",
    "subset_gay_marriage_bachelorHist.fig.suptitle(\"Answers of people with a Bachelors Degree\")\n",
    "\n",
    "subset_gay_marriage_bachelorHist.savefig(\"subset_gay_marriage_bachelorHist.png\")"
   ]
  },
  {
   "cell_type": "code",
   "execution_count": null,
   "id": "armed-windsor",
   "metadata": {},
   "outputs": [],
   "source": []
  },
  {
   "cell_type": "code",
   "execution_count": null,
   "id": "micro-referral",
   "metadata": {},
   "outputs": [],
   "source": [
    "subset_gay_marriage_highschool = subset_gay_marriage[subset_gay_marriage['education'] == 'High School']\n",
    "\n",
    "subset_gay_marriage_highschoolHist = sns.displot(subset_gay_marriage_highschool, \n",
    "            x=\"Gay Marriage\",\n",
    "           binwidth=3)\n",
    "\n",
    "subset_gay_marriage_highschoolHist.set_xticklabels(rotation=60)\n",
    "\n",
    "subset_gay_marriage_highschoolHist.set(xlabel='')\n",
    "\n",
    "subset_gay_marriage_highschoolHist.fig.suptitle(\"Answers of people with High School Education\")\n",
    "\n",
    "subset_gay_marriage_highschoolHist.savefig(\"subset_gay_marriage_highschoolHist.png\")"
   ]
  },
  {
   "cell_type": "code",
   "execution_count": null,
   "id": "spanish-malta",
   "metadata": {},
   "outputs": [],
   "source": [
    "subset_affirm_action = merged_df[(merged_df['Affirmative Action'] != 'N/S') & (merged_df['Affirmative Action'] != 'N/O')]"
   ]
  },
  {
   "cell_type": "code",
   "execution_count": null,
   "id": "toxic-gambling",
   "metadata": {},
   "outputs": [],
   "source": [
    "subset_affirm_action_male = subset_affirm_action[subset_affirm_action['gender'] == 'Male']\n",
    "\n",
    "subset_affirm_action_maleHist = sns.displot(subset_affirm_action_male, \n",
    "            x=\"Affirmative Action\",\n",
    "           binwidth=3)\n",
    "\n",
    "subset_affirm_action_maleHist.set_xticklabels(rotation=60)\n",
    "\n",
    "subset_affirm_action_maleHist.set(xlabel='')\n",
    "\n",
    "subset_affirm_action_maleHist.fig.suptitle(\"Answers of Males\")\n",
    "\n",
    "subset_affirm_action_maleHist.savefig(\"subset_affirm_action_maleHist.png\")"
   ]
  },
  {
   "cell_type": "code",
   "execution_count": null,
   "id": "rubber-force",
   "metadata": {},
   "outputs": [],
   "source": [
    "subset_affirm_action_female = subset_affirm_action[subset_affirm_action['gender'] == 'Female']\n",
    "\n",
    "subset_affirm_action_femaleHist = sns.displot(subset_affirm_action_female, \n",
    "            x=\"Affirmative Action\",\n",
    "           binwidth=3)\n",
    "\n",
    "subset_affirm_action_femaleHist.set_xticklabels(rotation=60)\n",
    "\n",
    "subset_affirm_action_femaleHist.set(xlabel='')\n",
    "\n",
    "subset_affirm_action_femaleHist.fig.suptitle(\"Answers of Females\")\n",
    "\n",
    "subset_affirm_action_femaleHist.savefig(\"subset_affirm_action_femaleHist.png\")"
   ]
  },
  {
   "cell_type": "code",
   "execution_count": null,
   "id": "acute-vertical",
   "metadata": {},
   "outputs": [],
   "source": [
    "subset_affirm_action_genderqueer = subset_affirm_action[subset_affirm_action['gender'] == 'Genderqueer']\n",
    "\n",
    "subset_affirm_action_genderqueerHist = sns.displot(subset_affirm_action_genderqueer, \n",
    "            x=\"Affirmative Action\",\n",
    "           binwidth=3)\n",
    "\n",
    "subset_affirm_action_genderqueerHist.set_xticklabels(rotation=60)\n",
    "\n",
    "subset_affirm_action_genderqueerHist.set(xlabel='')\n",
    "\n",
    "subset_affirm_action_genderqueerHist.fig.suptitle(\"Answers of Genderqueers\")\n",
    "\n",
    "subset_affirm_action_genderqueerHist.savefig(\"subset_affirm_action_genderqueerHist.png\")"
   ]
  },
  {
   "cell_type": "code",
   "execution_count": null,
   "id": "noble-occasion",
   "metadata": {},
   "outputs": [],
   "source": [
    "subset_affirm_action_white = subset_affirm_action[subset_affirm_action['ethnicity'] == 'White']\n",
    "\n",
    "subset_affirm_action_whiteHist = sns.displot(subset_affirm_action_white, \n",
    "            x=\"Affirmative Action\",\n",
    "           binwidth=3)\n",
    "\n",
    "subset_affirm_action_whiteHist.set_xticklabels(rotation=60)\n",
    "\n",
    "subset_affirm_action_whiteHist.set(xlabel='')\n",
    "\n",
    "subset_affirm_action_whiteHist.fig.suptitle(\"Answers of white people\")\n",
    "\n",
    "subset_affirm_action_whiteHist.savefig(\"subset_affirm_action_whiteHist.png\")"
   ]
  },
  {
   "cell_type": "code",
   "execution_count": null,
   "id": "careful-tunnel",
   "metadata": {},
   "outputs": [],
   "source": [
    "subset_affirm_action_asian = subset_affirm_action[subset_affirm_action['ethnicity'] == 'Asian']\n",
    "\n",
    "subset_affirm_action_asianHist = sns.displot(subset_affirm_action_asian, \n",
    "            x=\"Affirmative Action\",\n",
    "           binwidth=3)\n",
    "\n",
    "subset_affirm_action_asianHist.set_xticklabels(rotation=60)\n",
    "\n",
    "subset_affirm_action_asianHist.set(xlabel='')\n",
    "\n",
    "subset_affirm_action_asianHist.fig.suptitle(\"Answers of asian people\")\n",
    "\n",
    "subset_affirm_action_asianHist.savefig(\"subset_affirm_action_asianHist.png\")"
   ]
  },
  {
   "cell_type": "code",
   "execution_count": null,
   "id": "handy-serbia",
   "metadata": {},
   "outputs": [],
   "source": [
    "subset_affirm_action_black = subset_affirm_action[subset_affirm_action['ethnicity'] == 'Black']\n",
    "\n",
    "subset_affirm_action_blackHist = sns.displot(subset_affirm_action_black, \n",
    "            x=\"Affirmative Action\",\n",
    "           binwidth=3)\n",
    "\n",
    "subset_affirm_action_blackHist.set_xticklabels(rotation=60)\n",
    "\n",
    "subset_affirm_action_blackHist.set(xlabel='')\n",
    "\n",
    "subset_affirm_action_blackHist.fig.suptitle(\"Answers of black people\")\n",
    "\n",
    "subset_affirm_action_blackHist.savefig(\"subset_affirm_action_blackHist.png\")"
   ]
  },
  {
   "cell_type": "code",
   "execution_count": null,
   "id": "searching-marketplace",
   "metadata": {},
   "outputs": [],
   "source": [
    "subset_affirm_action_bachelor = subset_affirm_action[subset_affirm_action['education'] == 'Bachelors Degree']\n",
    "\n",
    "subset_affirm_action_bachelorHist = sns.displot(subset_affirm_action_bachelor, \n",
    "            x=\"Affirmative Action\",\n",
    "           binwidth=3)\n",
    "\n",
    "subset_affirm_action_bachelorHist.set_xticklabels(rotation=60)\n",
    "\n",
    "subset_affirm_action_bachelorHist.set(xlabel='')\n",
    "\n",
    "subset_affirm_action_bachelorHist.fig.suptitle(\"Answers of people with a Bachelor degree\")\n",
    "\n",
    "subset_affirm_action_bachelorHist.savefig(\"subset_affirm_action_bachelorHist.png\")"
   ]
  },
  {
   "cell_type": "code",
   "execution_count": null,
   "id": "lovely-patrol",
   "metadata": {},
   "outputs": [],
   "source": [
    "subset_racial_profiling = merged_df[(merged_df['Racial Profiling'] != 'N/S') & (merged_df['Racial Profiling'] != 'N/O')]"
   ]
  },
  {
   "cell_type": "code",
   "execution_count": null,
   "id": "operating-distribution",
   "metadata": {},
   "outputs": [],
   "source": [
    "subset_racial_profiling_male = subset_racial_profiling[subset_racial_profiling['gender'] == 'Male']\n",
    "\n",
    "subset_racial_profiling_maleHist = sns.displot(subset_racial_profiling_male, \n",
    "            x=\"Racial Profiling\",\n",
    "           binwidth=3)\n",
    "\n",
    "subset_racial_profiling_maleHist.set_xticklabels(rotation=60)\n",
    "\n",
    "subset_racial_profiling_maleHist.set(xlabel='')\n",
    "\n",
    "subset_racial_profiling_maleHist.fig.suptitle(\"Answers of Male\")\n",
    "\n",
    "subset_racial_profiling_maleHist.savefig(\"subset_racial_profiling_maleHist.png\")"
   ]
  },
  {
   "cell_type": "code",
   "execution_count": null,
   "id": "tired-chuck",
   "metadata": {},
   "outputs": [],
   "source": [
    "subset_racial_profiling_female = subset_racial_profiling[subset_racial_profiling['gender'] == 'Female']\n",
    "\n",
    "subset_racial_profiling_femaleHist = sns.displot(subset_racial_profiling_female, \n",
    "            x=\"Racial Profiling\",\n",
    "           binwidth=3)\n",
    "\n",
    "subset_racial_profiling_femaleHist.set_xticklabels(rotation=60)\n",
    "\n",
    "subset_racial_profiling_femaleHist.set(xlabel='')\n",
    "\n",
    "subset_racial_profiling_femaleHist.fig.suptitle(\"Answers of Female\")\n",
    "\n",
    "subset_racial_profiling_femaleHist.savefig(\"subset_racial_profiling_femaleHist.png\")"
   ]
  },
  {
   "cell_type": "code",
   "execution_count": null,
   "id": "general-auckland",
   "metadata": {},
   "outputs": [],
   "source": [
    "subset_racial_profiling_genderqueer = subset_racial_profiling[subset_racial_profiling['gender'] == 'Genderqueer']\n",
    "\n",
    "subset_racial_profiling_genderqueerHist = sns.displot(subset_racial_profiling_genderqueer, \n",
    "            x=\"Racial Profiling\",\n",
    "           binwidth=3)\n",
    "\n",
    "subset_racial_profiling_genderqueerHist.set_xticklabels(rotation=60)\n",
    "\n",
    "subset_racial_profiling_genderqueerHist.set(xlabel='')\n",
    "\n",
    "subset_racial_profiling_genderqueerHist.fig.suptitle(\"Answers of Genderqueer\")\n",
    "\n",
    "subset_racial_profiling_genderqueerHist.savefig(\"subset_racial_profiling_genderqueerHist.png\")"
   ]
  },
  {
   "cell_type": "code",
   "execution_count": null,
   "id": "absent-search",
   "metadata": {},
   "outputs": [],
   "source": [
    "subset_racial_profiling_white = subset_racial_profiling[subset_racial_profiling['ethnicity'] == 'White']\n",
    "\n",
    "subset_racial_profiling_whiteHist = sns.displot(subset_racial_profiling_white, \n",
    "            x=\"Racial Profiling\",\n",
    "           binwidth=3)\n",
    "\n",
    "subset_racial_profiling_whiteHist.set_xticklabels(rotation=60)\n",
    "\n",
    "subset_racial_profiling_whiteHist.set(xlabel='')\n",
    "\n",
    "subset_racial_profiling_whiteHist.fig.suptitle(\"Answers of white people\")\n",
    "\n",
    "subset_racial_profiling_whiteHist.savefig(\"subset_racial_profiling_whiteHist.png\")"
   ]
  },
  {
   "cell_type": "code",
   "execution_count": null,
   "id": "general-memorial",
   "metadata": {},
   "outputs": [],
   "source": [
    "subset_racial_profiling_asian = subset_racial_profiling[subset_racial_profiling['ethnicity'] == 'Asian']\n",
    "\n",
    "subset_racial_profiling_asianHist = sns.displot(subset_racial_profiling_asian, \n",
    "            x=\"Racial Profiling\",\n",
    "           binwidth=3)\n",
    "\n",
    "subset_racial_profiling_asianHist.set_xticklabels(rotation=60)\n",
    "\n",
    "subset_racial_profiling_asianHist.set(xlabel='')\n",
    "\n",
    "subset_racial_profiling_asianHist.fig.suptitle(\"Answers of asian people\")\n",
    "\n",
    "subset_racial_profiling_asianHist.savefig(\"subset_racial_profiling_asianHist.png\")"
   ]
  },
  {
   "cell_type": "code",
   "execution_count": null,
   "id": "dress-universe",
   "metadata": {},
   "outputs": [],
   "source": [
    "subset_racial_profiling_black = subset_racial_profiling[subset_racial_profiling['ethnicity'] == 'Black']\n",
    "\n",
    "subset_racial_profiling_blackHist = sns.displot(subset_racial_profiling_black, \n",
    "            x=\"Racial Profiling\",\n",
    "           binwidth=3)\n",
    "\n",
    "subset_racial_profiling_blackHist.set_xticklabels(rotation=60)\n",
    "\n",
    "subset_racial_profiling_blackHist.set(xlabel='')\n",
    "\n",
    "subset_racial_profiling_blackHist.fig.suptitle(\"Answers of black people\")\n",
    "\n",
    "subset_racial_profiling_blackHist.savefig(\"subset_racial_profiling_blackHist.png\")"
   ]
  },
  {
   "cell_type": "code",
   "execution_count": null,
   "id": "instructional-capability",
   "metadata": {},
   "outputs": [],
   "source": [
    "subset_racial_profiling_postdoc = subset_racial_profiling[subset_racial_profiling['education'] == 'Post Doctoral']\n",
    "\n",
    "subset_racial_profiling_postdocHist = sns.displot(subset_racial_profiling_postdoc, \n",
    "            x=\"Racial Profiling\",\n",
    "           binwidth=3)\n",
    "\n",
    "subset_racial_profiling_postdocHist.set_xticklabels(rotation=60)\n",
    "\n",
    "subset_racial_profiling_postdocHist.set(xlabel='')\n",
    "\n",
    "subset_racial_profiling_postdocHist.fig.suptitle(\"Answers of people with a Postdoctoral degree\")\n",
    "\n",
    "subset_racial_profiling_postdocHist.savefig(\"subset_racial_profiling_postdocHist.png\")"
   ]
  },
  {
   "cell_type": "code",
   "execution_count": null,
   "id": "artistic-windows",
   "metadata": {},
   "outputs": [],
   "source": [
    "dfTrial = pd.read_csv(\"debatesSentence.csv\",  delimiter=\";\",\n",
    "                      converters={\"preprocessedArgSentences\": lambda x: x.strip(\"[]\").split(\", \")})"
   ]
  },
  {
   "cell_type": "code",
   "execution_count": null,
   "id": "third-merit",
   "metadata": {},
   "outputs": [],
   "source": [
    "dfTrial['preprocessedArgSentences'][0][1]"
   ]
  },
  {
   "cell_type": "markdown",
   "id": "coupled-basketball",
   "metadata": {},
   "source": [
    "# Statistics user data"
   ]
  },
  {
   "cell_type": "code",
   "execution_count": null,
   "id": "chemical-yahoo",
   "metadata": {},
   "outputs": [],
   "source": [
    "# Create userframe\n",
    "def extract_user_data(users_data: dict) -> pd.DataFrame:\n",
    "    \"\"\"Extract and combines debates and user data into a single dataframe. Return the dataframe.\n",
    "    Currently, only the birthday, education, gender and political orientation are extracted and\n",
    "    returned as user-defining features.\n",
    "    Arguments:\n",
    "    debates_data -- Dictionary containing the debates data.\n",
    "    users_data -- Dictionary containing the users and their properties.\n",
    "    \"\"\"\n",
    "    extracted_data = []\n",
    "    properties_of_interest = [\"birthday\", \"ethnicity\", \"gender\", \"political_ideology\", \"education\", \n",
    "                              \"interested\", \"income\", \"looking\", \"party\", \"relationship\", \"win_ratio\", \n",
    "                              \"religious_ideology\", \"number_of_all_debates\", \"big_issues_dict\"]\n",
    "\n",
    "    for key, user in tqdm(users_data.items()):\n",
    "        # Sometimes, the users of the debate didn't exist anymore at the time\n",
    "        # the data was collected.\n",
    "        properties = { key: value\n",
    "                      for key, value in user.items() if key in properties_of_interest}\n",
    "\n",
    "                # Save the text and find the political ideology of the user.\n",
    "        extracted_data.append({\n",
    "            **properties})\n",
    "\n",
    "    return pd.DataFrame(columns=[*properties_of_interest], data=extracted_data)"
   ]
  },
  {
   "cell_type": "code",
   "execution_count": null,
   "id": "charming-australia",
   "metadata": {},
   "outputs": [],
   "source": [
    "users_df = extract_user_data(users_dict)"
   ]
  },
  {
   "cell_type": "code",
   "execution_count": null,
   "id": "extensive-invasion",
   "metadata": {},
   "outputs": [],
   "source": [
    "len(users_df)"
   ]
  },
  {
   "cell_type": "code",
   "execution_count": null,
   "id": "robust-arrest",
   "metadata": {},
   "outputs": [],
   "source": [
    "users_df.columns"
   ]
  },
  {
   "cell_type": "code",
   "execution_count": null,
   "id": "emerging-poland",
   "metadata": {},
   "outputs": [],
   "source": [
    "users_df['birthday'].value_counts()"
   ]
  },
  {
   "cell_type": "code",
   "execution_count": null,
   "id": "direct-america",
   "metadata": {},
   "outputs": [],
   "source": [
    "birthday_subset = users_df[users_df['birthday'] != '- Private -']"
   ]
  },
  {
   "cell_type": "code",
   "execution_count": null,
   "id": "prime-magnitude",
   "metadata": {},
   "outputs": [],
   "source": [
    "len(birthday_subset)"
   ]
  },
  {
   "cell_type": "code",
   "execution_count": null,
   "id": "round-education",
   "metadata": {},
   "outputs": [],
   "source": [
    "birthday_subset = birthday_subset[['birthday']]"
   ]
  },
  {
   "cell_type": "code",
   "execution_count": null,
   "id": "detected-africa",
   "metadata": {},
   "outputs": [],
   "source": [
    "birthday_subset['birthday'] = pd.to_datetime(birthday_subset['birthday'])"
   ]
  },
  {
   "cell_type": "code",
   "execution_count": null,
   "id": "comparative-dialogue",
   "metadata": {},
   "outputs": [],
   "source": [
    "birthday_subset['year'] = birthday_subset.apply(lambda row: row['birthday'].year, axis=1)"
   ]
  },
  {
   "cell_type": "code",
   "execution_count": null,
   "id": "deadly-sweden",
   "metadata": {},
   "outputs": [],
   "source": [
    "birthday_subset['age'] = birthday_subset.apply(lambda row: 2021 - row['year'], axis=1)"
   ]
  },
  {
   "cell_type": "code",
   "execution_count": null,
   "id": "antique-clarity",
   "metadata": {},
   "outputs": [],
   "source": [
    "birthday_subset['age'].hist()"
   ]
  },
  {
   "cell_type": "code",
   "execution_count": null,
   "id": "coordinated-snake",
   "metadata": {},
   "outputs": [],
   "source": [
    "print(\"Summary of Age\")\n",
    "print(\"Mean: \" + str(birthday_subset['age'].mean()))\n",
    "print(\"Median: \" + str(birthday_subset['age'].median()))\n",
    "print(\"Mode: \" + str(birthday_subset['age'].mode()))"
   ]
  },
  {
   "cell_type": "code",
   "execution_count": null,
   "id": "working-advance",
   "metadata": {},
   "outputs": [],
   "source": [
    "users_df['ethnicity'].value_counts()"
   ]
  },
  {
   "cell_type": "code",
   "execution_count": null,
   "id": "southeast-prairie",
   "metadata": {},
   "outputs": [],
   "source": [
    "ethnicity_subset = users_df[users_df['ethnicity'] != 'Not Saying']"
   ]
  },
  {
   "cell_type": "code",
   "execution_count": null,
   "id": "satisfactory-agreement",
   "metadata": {},
   "outputs": [],
   "source": [
    "len(ethnicity_subset)"
   ]
  },
  {
   "cell_type": "code",
   "execution_count": null,
   "id": "fatal-senegal",
   "metadata": {},
   "outputs": [],
   "source": [
    "ethnicity_subset['ethnicity'].hist()\n",
    "plt.xticks(rotation = 90)"
   ]
  },
  {
   "cell_type": "code",
   "execution_count": null,
   "id": "persistent-jefferson",
   "metadata": {},
   "outputs": [],
   "source": [
    "users_df['gender'].value_counts()"
   ]
  },
  {
   "cell_type": "code",
   "execution_count": null,
   "id": "suffering-electron",
   "metadata": {},
   "outputs": [],
   "source": [
    "gender_subset = users_df[users_df['gender'] != 'Prefer not to say']"
   ]
  },
  {
   "cell_type": "code",
   "execution_count": null,
   "id": "essential-treasure",
   "metadata": {},
   "outputs": [],
   "source": [
    "gender_subset['gender'].hist()\n",
    "plt.xticks(rotation = 90)"
   ]
  },
  {
   "cell_type": "code",
   "execution_count": null,
   "id": "intensive-mother",
   "metadata": {},
   "outputs": [],
   "source": [
    "users_df['political_ideology'].value_counts()"
   ]
  },
  {
   "cell_type": "code",
   "execution_count": null,
   "id": "upset-mandate",
   "metadata": {},
   "outputs": [],
   "source": [
    "pol_ideo_subet = users_df[users_df['political_ideology'] != 'Not Saying']"
   ]
  },
  {
   "cell_type": "code",
   "execution_count": null,
   "id": "chinese-marsh",
   "metadata": {},
   "outputs": [],
   "source": [
    "pol_ideo_subet['political_ideology'].hist()\n",
    "plt.xticks(rotation = 45)"
   ]
  },
  {
   "cell_type": "code",
   "execution_count": null,
   "id": "naval-graph",
   "metadata": {},
   "outputs": [],
   "source": [
    "users_df['education'].value_counts()"
   ]
  },
  {
   "cell_type": "code",
   "execution_count": null,
   "id": "above-stock",
   "metadata": {},
   "outputs": [],
   "source": [
    "education_subset = users_df[users_df['education'] != 'Not Saying']"
   ]
  },
  {
   "cell_type": "code",
   "execution_count": null,
   "id": "authentic-pollution",
   "metadata": {},
   "outputs": [],
   "source": [
    "education_subset['education'].hist()\n",
    "plt.xticks(rotation = 90)"
   ]
  },
  {
   "cell_type": "code",
   "execution_count": null,
   "id": "second-landing",
   "metadata": {},
   "outputs": [],
   "source": [
    "users_df.columns"
   ]
  },
  {
   "cell_type": "code",
   "execution_count": null,
   "id": "polished-pioneer",
   "metadata": {},
   "outputs": [],
   "source": [
    "users_df['interested'].value_counts()"
   ]
  },
  {
   "cell_type": "code",
   "execution_count": null,
   "id": "peripheral-inside",
   "metadata": {},
   "outputs": [],
   "source": [
    "interested_subset = users_df[(users_df['interested'] != 'No Answer') & (users_df['interested'] != '- Private -')]"
   ]
  },
  {
   "cell_type": "code",
   "execution_count": null,
   "id": "decimal-constitutional",
   "metadata": {},
   "outputs": [],
   "source": [
    "len(interested_subset)"
   ]
  },
  {
   "cell_type": "code",
   "execution_count": null,
   "id": "dependent-summary",
   "metadata": {},
   "outputs": [],
   "source": [
    "interested_subset['interested'].hist()"
   ]
  },
  {
   "cell_type": "code",
   "execution_count": null,
   "id": "detected-rover",
   "metadata": {},
   "outputs": [],
   "source": [
    "len(interested_subset[(interested_subset['interested'] == 'in Women') & (interested_subset['gender'] == 'Female')])"
   ]
  },
  {
   "cell_type": "code",
   "execution_count": null,
   "id": "strong-coalition",
   "metadata": {},
   "outputs": [],
   "source": [
    "len(interested_subset[(interested_subset['interested'] == 'in Men') & (interested_subset['gender'] == 'Male')])"
   ]
  },
  {
   "cell_type": "code",
   "execution_count": null,
   "id": "dimensional-seminar",
   "metadata": {},
   "outputs": [],
   "source": [
    "user_pol_ideology = users_df['political_ideology'].value_counts().reset_index()"
   ]
  },
  {
   "cell_type": "code",
   "execution_count": null,
   "id": "urban-patent",
   "metadata": {},
   "outputs": [],
   "source": [
    "user_pol_ideology"
   ]
  },
  {
   "cell_type": "code",
   "execution_count": null,
   "id": "comparable-community",
   "metadata": {},
   "outputs": [],
   "source": [
    "user_pol_ideology.to_csv('user_pol_ideology.csv', index = False)"
   ]
  },
  {
   "cell_type": "code",
   "execution_count": null,
   "id": "comfortable-richardson",
   "metadata": {},
   "outputs": [],
   "source": [
    "religion_subset = users_df[users_df['religious_ideology'] != 'Not Saying']"
   ]
  },
  {
   "cell_type": "code",
   "execution_count": null,
   "id": "legal-tobago",
   "metadata": {},
   "outputs": [],
   "source": [
    "def cleanReligious(row):\n",
    "    if 'Buddhist' in row['religious_ideology']:\n",
    "        return 'Buddhist'\n",
    "    else:\n",
    "        return row['religious_ideology']"
   ]
  },
  {
   "cell_type": "code",
   "execution_count": null,
   "id": "governing-algebra",
   "metadata": {},
   "outputs": [],
   "source": [
    "religion_subset['religious_ideology'] = religion_subset.apply(lambda row: cleanReligious(row), axis = 1)"
   ]
  },
  {
   "cell_type": "code",
   "execution_count": null,
   "id": "executive-moral",
   "metadata": {},
   "outputs": [],
   "source": [
    "religion_subset['religious_ideology'].value_counts()[:20]"
   ]
  },
  {
   "cell_type": "code",
   "execution_count": null,
   "id": "hidden-morrison",
   "metadata": {},
   "outputs": [],
   "source": [
    "most_occur = religion_subset['religious_ideology'].value_counts()[:20].reset_index()"
   ]
  },
  {
   "cell_type": "code",
   "execution_count": null,
   "id": "conservative-brick",
   "metadata": {},
   "outputs": [],
   "source": [
    "most_occur.plot.bar(x = 'index', y='religious_ideology')"
   ]
  },
  {
   "cell_type": "code",
   "execution_count": null,
   "id": "closing-lawrence",
   "metadata": {},
   "outputs": [],
   "source": [
    "users_df['income'].value_counts()"
   ]
  }
 ],
 "metadata": {
  "kernelspec": {
   "display_name": "Python 3",
   "language": "python",
   "name": "python3"
  },
  "language_info": {
   "codemirror_mode": {
    "name": "ipython",
    "version": 3
   },
   "file_extension": ".py",
   "mimetype": "text/x-python",
   "name": "python",
   "nbconvert_exporter": "python",
   "pygments_lexer": "ipython3",
   "version": "3.7.10"
  },
  "toc": {
   "base_numbering": 1,
   "nav_menu": {},
   "number_sections": true,
   "sideBar": true,
   "skip_h1_title": false,
   "title_cell": "Table of Contents",
   "title_sidebar": "Contents",
   "toc_cell": false,
   "toc_position": {},
   "toc_section_display": true,
   "toc_window_display": true
  }
 },
 "nbformat": 4,
 "nbformat_minor": 5
}
