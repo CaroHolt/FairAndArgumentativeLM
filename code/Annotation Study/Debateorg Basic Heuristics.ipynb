{
 "cells": [
  {
   "cell_type": "markdown",
   "id": "documentary-generic",
   "metadata": {},
   "source": [
    "# Load utils"
   ]
  },
  {
   "cell_type": "code",
   "execution_count": 3,
   "id": "considered-float",
   "metadata": {},
   "outputs": [
    {
     "name": "stdout",
     "output_type": "stream",
     "text": [
      "Requirement already satisfied: prettytable in c:\\users\\d067795\\appdata\\local\\continuum\\anaconda3\\lib\\site-packages (2.1.0)\n",
      "Requirement already satisfied: wcwidth in c:\\users\\d067795\\appdata\\local\\continuum\\anaconda3\\lib\\site-packages (from prettytable) (0.2.5)\n",
      "Requirement already satisfied: importlib-metadata; python_version < \"3.8\" in c:\\users\\d067795\\appdata\\local\\continuum\\anaconda3\\lib\\site-packages (from prettytable) (2.0.0)\n",
      "Requirement already satisfied: zipp>=0.5 in c:\\users\\d067795\\appdata\\local\\continuum\\anaconda3\\lib\\site-packages (from importlib-metadata; python_version < \"3.8\"->prettytable) (3.4.0)\n"
     ]
    }
   ],
   "source": [
    "# Imports\n",
    "import json\n",
    "import pandas as pd\n",
    "from tqdm import tqdm\n",
    "import logging\n",
    "from prettytable import PrettyTable\n",
    "import matplotlib.pyplot as plt\n",
    "import seaborn as sns\n",
    "import numpy as np\n",
    "\n",
    "pd.set_option('display.max_colwidth', None)\n",
    "\n",
    "import warnings\n",
    "warnings.filterwarnings('ignore')\n",
    "\n",
    "!pip install prettytable"
   ]
  },
  {
   "cell_type": "code",
   "execution_count": 2,
   "id": "previous-tomato",
   "metadata": {},
   "outputs": [],
   "source": [
    "%run utils/helper_functions.py\n",
    "\n",
    "# Additional Functions\n",
    "def calculateMeanVote(row):\n",
    "    totalVote = 0\n",
    "    voteCount = 0\n",
    "    for vote in row:\n",
    "        try:\n",
    "            totalVote = totalVote + int(vote['Total points awarded'])\n",
    "            voteCount = voteCount + 1\n",
    "        except KeyError:\n",
    "            continue\n",
    "    if voteCount > 0:\n",
    "        return round(totalVote / voteCount, 1)\n",
    "    else:\n",
    "        return 0"
   ]
  },
  {
   "cell_type": "markdown",
   "id": "incorrect-southeast",
   "metadata": {},
   "source": [
    "# Load Debate.org Dataset"
   ]
  },
  {
   "cell_type": "code",
   "execution_count": 6,
   "id": "adjusted-carroll",
   "metadata": {},
   "outputs": [],
   "source": [
    "with open(\"../data/debateorg/debateorg.json\", \"r\") as d:\n",
    "    debates_dict = json.load(d)\n",
    "with open(\"../data/debateorg/users.json\", \"r\") as u:\n",
    "      users_dict = json.load(u)"
   ]
  },
  {
   "cell_type": "code",
   "execution_count": 7,
   "id": "exempt-railway",
   "metadata": {},
   "outputs": [],
   "source": [
    "# Extract the debate data and write in a pandas DataFrame\n",
    "def extract_data(debates_data: dict, users_data: dict) -> pd.DataFrame:\n",
    "    \"\"\"Extract and combines debates and user data into a single dataframe. Return the dataframe.\n",
    "    Currently, only the birthday, education, gender and political orientation are extracted and\n",
    "    returned as user-defining features.\n",
    "    Arguments:\n",
    "    debates_data -- Dictionary containing the debates data.\n",
    "    users_data -- Dictionary containing the users and their properties.\n",
    "    \"\"\"\n",
    "    extracted_data = []\n",
    "    # The user data that should be extracted\n",
    "    properties_of_interest = [\"birthday\", \"ethnicity\", \"gender\", \"political_ideology\", \"education\", \n",
    "                              \"interested\", \"income\", \"looking\", \"party\", \"relationship\", \"win_ratio\", \n",
    "                              \"religious_ideology\", \"number_of_all_debates\", \"big_issues_dict\"]\n",
    "\n",
    "    for key, debate in tqdm(debates_data.items()):\n",
    "        # Sometimes, the users of the debate didn't exist anymore at the time\n",
    "        # the data was collected.\n",
    "        try:\n",
    "            category = debate[\"category\"]\n",
    "        except KeyError:\n",
    "            category = None\n",
    "            \n",
    "        try:\n",
    "            title = debate[\"title\"]\n",
    "        except KeyError:\n",
    "            title = None\n",
    "        \n",
    "        try:\n",
    "            date = debate[\"start_date\"]\n",
    "        except KeyError:\n",
    "            date = None\n",
    "        \n",
    "        try:\n",
    "            user1 = users_data[debate[\"participant_1_name\"]]\n",
    "        except KeyError:\n",
    "            user1 = None\n",
    "\n",
    "        try:\n",
    "            user2 = users_data[debate[\"participant_2_name\"]]\n",
    "        except KeyError:\n",
    "            user2 = None\n",
    "\n",
    "        # If both users do not exist, skip this debate\n",
    "        if not user1 and not user2:\n",
    "            logging.debug(\"Both users are absent from debate data. Skipping.\")\n",
    "            continue\n",
    "\n",
    "        # For each round in this debate...\n",
    "        for debate_round in debate[\"rounds\"]:\n",
    "            # For each argument in this round...\n",
    "            for argument in debate_round:\n",
    "                arguing_user = (\n",
    "                    user1 if argument[\"side\"] == debate[\"participant_1_position\"] else user2)\n",
    "                \n",
    "                arguing_user_name = (\n",
    "                    debate[\"participant_1_name\"] if argument[\"side\"] == debate[\"participant_1_position\"] else debate[\"participant_2_name\"])\n",
    "\n",
    "                # Skip this argument if arguing user does not exist in the dta\n",
    "                if not arguing_user:\n",
    "                    continue\n",
    "                    \n",
    "                # Filtering for votes\n",
    "                votes = []\n",
    "                for vote in debate['votes']:\n",
    "                    votes.append(vote['votes_map'][arguing_user_name])\n",
    "\n",
    "                # Filtering for relevant properties\n",
    "                properties = {\n",
    "                    key: value\n",
    "                    for key, value in arguing_user.items() if key in properties_of_interest}\n",
    "\n",
    "                # Save the text and find the political ideology of the user.\n",
    "                extracted_data.append({\n",
    "                    \"argument\": argument[\"text\"],\n",
    "                    \"title\": title,\n",
    "                    \"category\": category,\n",
    "                    \"date\": date,\n",
    "                    **properties,\n",
    "                    \"votes\": votes})\n",
    "\n",
    "    return pd.DataFrame(columns=[\"argument\", \"title\", \"category\", \"date\", *properties_of_interest, \"votes\"], data=extracted_data)"
   ]
  },
  {
   "cell_type": "code",
   "execution_count": 8,
   "id": "suspended-imagination",
   "metadata": {},
   "outputs": [
    {
     "name": "stderr",
     "output_type": "stream",
     "text": [
      "100%|██████████████████████████████████████████████████████████████████████████| 78376/78376 [00:07<00:00, 9945.52it/s]\n"
     ]
    }
   ],
   "source": [
    "df_debates = extract_data(debates_dict, users_dict)"
   ]
  },
  {
   "cell_type": "code",
   "execution_count": 9,
   "id": "creative-broadcast",
   "metadata": {},
   "outputs": [
    {
     "name": "stdout",
     "output_type": "stream",
     "text": [
      "Length of debate data set: 510771\n"
     ]
    }
   ],
   "source": [
    "print('Length of debate data set: '+str(len(df_debates)))"
   ]
  },
  {
   "cell_type": "code",
   "execution_count": 10,
   "id": "viral-mumbai",
   "metadata": {},
   "outputs": [],
   "source": [
    "# Extract the data and write in a pandas DataFrame\n",
    "def extract_user_data(users_data: dict) -> pd.DataFrame:\n",
    "    extracted_data = []\n",
    "    # The user data that should be extracted\n",
    "    properties_of_interest = [\"birthday\", \"ethnicity\", \"gender\", \"political_ideology\", \"education\", \n",
    "                              \"interested\", \"income\", \"looking\", \"party\", \"relationship\", \"win_ratio\", \n",
    "                              \"religious_ideology\", \"number_of_all_debates\", \"big_issues_dict\"]\n",
    "\n",
    "    for key, user in tqdm(users_data.items()):\n",
    "\n",
    "        # Filtering for relevant properties\n",
    "        properties = {\n",
    "            key: value\n",
    "            for key, value in user.items() if key in properties_of_interest}\n",
    "\n",
    "        # Save the text and find the political ideology of the user.\n",
    "        extracted_data.append({\n",
    "            \"user\": key,\n",
    "            **properties})\n",
    "\n",
    "    return pd.DataFrame(columns=[\"user\", *properties_of_interest], data=extracted_data)"
   ]
  },
  {
   "cell_type": "code",
   "execution_count": 11,
   "id": "pursuant-stewart",
   "metadata": {},
   "outputs": [
    {
     "name": "stderr",
     "output_type": "stream",
     "text": [
      "100%|█████████████████████████████████████████████████████████████████████████| 45348/45348 [00:00<00:00, 76991.42it/s]\n"
     ]
    }
   ],
   "source": [
    "df_users = extract_user_data(users_dict)"
   ]
  },
  {
   "cell_type": "code",
   "execution_count": 12,
   "id": "challenging-rendering",
   "metadata": {},
   "outputs": [
    {
     "name": "stdout",
     "output_type": "stream",
     "text": [
      "Length of user data set: 45348\n"
     ]
    }
   ],
   "source": [
    "print('Length of user data set: '+str(len(df_users)))"
   ]
  },
  {
   "cell_type": "markdown",
   "id": "integral-illness",
   "metadata": {},
   "source": [
    "# Basic Statistics"
   ]
  },
  {
   "cell_type": "markdown",
   "id": "limited-selection",
   "metadata": {},
   "source": [
    "## Debates"
   ]
  },
  {
   "cell_type": "code",
   "execution_count": 13,
   "id": "official-import",
   "metadata": {},
   "outputs": [
    {
     "name": "stdout",
     "output_type": "stream",
     "text": [
      "Number of different debates: 78376\n",
      "Number of arguments: 510771\n",
      "Number of users: 45348\n",
      "All Attributes: ['argument', 'title', 'category', 'date', 'birthday', 'ethnicity', 'gender', 'political_ideology', 'education', 'interested', 'income', 'looking', 'party', 'relationship', 'win_ratio', 'religious_ideology', 'number_of_all_debates', 'big_issues_dict', 'votes']\n"
     ]
    }
   ],
   "source": [
    "print('Number of different debates: ' + str(len(debates_dict))) \n",
    "print('Number of arguments: ' + str(len(df_debates)))\n",
    "print('Number of users: ' + str(len(users_dict)))\n",
    "print('All Attributes: ' + str(df_debates.columns.tolist()))"
   ]
  },
  {
   "cell_type": "code",
   "execution_count": 16,
   "id": "aggregate-music",
   "metadata": {},
   "outputs": [],
   "source": [
    "def printAllBasicStatisticsArgument():\n",
    "    \n",
    "    t = PrettyTable(['Attribute', 'Mean', 'Min', 'Max', 'Median', 'Mode'])\n",
    "    \n",
    "    # Date\n",
    "    df_debates[\"date\"] = pd.to_datetime(df_debates[\"date\"])\n",
    "    df_debates['year'] = df_debates.apply(lambda row: row['date'].year, axis = 1)\n",
    "    \n",
    "    t.add_row(['Debate Start', df_debates[\"year\"].mean(), df_debates[\"year\"].min(), \n",
    "               df_debates[\"year\"].max(), df_debates[\"year\"].median(), df_debates[\"year\"].mode()[0]])\n",
    "    \n",
    "    # Category\n",
    "    t.add_row(['Category', '', '', '', '', df_debates['category'].mode()[0]])\n",
    "    \n",
    "    # Argumentlength\n",
    "    df_debates['argument_length'] = df_debates.apply(lambda row: len(row['argument'].split()), axis = 1)\n",
    "    t.add_row(['Argument Length', df_debates[\"argument_length\"].mean(), df_debates[\"argument_length\"].min(), \n",
    "               df_debates[\"argument_length\"].max(), df_debates[\"argument_length\"].median(), \n",
    "               df_debates[\"argument_length\"].mode()[0]])\n",
    "    \n",
    "    # votes\n",
    "    df_debates[\"mean_vote\"] = df_debates.apply(lambda row: calculateMeanVote(row['votes']), axis = 1)\n",
    "        \n",
    "    t.add_row(['Mean vote', df_debates[\"mean_vote\"].mean(), df_debates[\"mean_vote\"].min(), \n",
    "               df_debates[\"mean_vote\"].max(), df_debates[\"mean_vote\"].median(), df_debates[\"mean_vote\"].mode()[0]])\n",
    "    \n",
    "    \n",
    "    variables = ['year', 'mean_vote', 'category', 'argument_length']\n",
    "    colors = ['skyblue', 'olive', 'gold', 'teal']\n",
    "        \n",
    "    print(t)\n",
    "\n",
    "    fig=plt.figure(figsize=(10, 5))\n",
    "    for i, var_name in enumerate(variables):\n",
    "        ax=fig.add_subplot(2,2,i+1)\n",
    "        g = sns.histplot(data=df_debates, x=var_name, color=np.random.rand(3,), bins=10, ax=ax)\n",
    "        plt.xticks(rotation=90)\n",
    "    fig.tight_layout()  # Improves appearance a bit.\n",
    "    plt.show()\n",
    "    "
   ]
  },
  {
   "cell_type": "code",
   "execution_count": 17,
   "id": "cordless-atlanta",
   "metadata": {},
   "outputs": [
    {
     "name": "stdout",
     "output_type": "stream",
     "text": [
      "+-----------------+--------------------+------+-------+--------+----------+\n",
      "|    Attribute    |        Mean        | Min  |  Max  | Median |   Mode   |\n",
      "+-----------------+--------------------+------+-------+--------+----------+\n",
      "|   Debate Start  | 2013.785794416676  | 2007 |  2018 | 2014.0 |   2014   |\n",
      "|     Category    |                    |      |       |        | Politics |\n",
      "| Argument Length | 219.51759203243725 |  0   | 16174 |  52.0  |    1     |\n",
      "|    Mean vote    | 1.253838412909102  | 0.0  |  7.0  |  0.0   |   0.0    |\n",
      "+-----------------+--------------------+------+-------+--------+----------+\n"
     ]
    },
    {
     "data": {
      "image/png": "[encoded data removed]",
      "text/plain": [
       "<Figure size 720x360 with 4 Axes>"
      ]
     },
     "metadata": {
      "needs_background": "light"
     },
     "output_type": "display_data"
    }
   ],
   "source": [
    "printAllBasicStatisticsArgument()"
   ]
  },
  {
   "cell_type": "markdown",
   "id": "inner-student",
   "metadata": {},
   "source": [
    "## Users"
   ]
  },
  {
   "cell_type": "code",
   "execution_count": 18,
   "id": "prescribed-retention",
   "metadata": {},
   "outputs": [
    {
     "name": "stdout",
     "output_type": "stream",
     "text": [
      "All user attributes: ['user', 'birthday', 'ethnicity', 'gender', 'political_ideology', 'education', 'interested', 'income', 'looking', 'party', 'relationship', 'win_ratio', 'religious_ideology', 'number_of_all_debates', 'big_issues_dict']\n"
     ]
    }
   ],
   "source": [
    "print('All user attributes: ' + str(df_users.columns.tolist()))"
   ]
  },
  {
   "cell_type": "markdown",
   "id": "vulnerable-carter",
   "metadata": {},
   "source": [
    "### Birthday / Age"
   ]
  },
  {
   "cell_type": "code",
   "execution_count": 21,
   "id": "stupid-february",
   "metadata": {},
   "outputs": [
    {
     "name": "stdout",
     "output_type": "stream",
     "text": [
      "+-----------+---------+-------------------+--------+-----+-----+\n",
      "| Attribute | Missing |        Mean       | Median | Min | Max |\n",
      "+-----------+---------+-------------------+--------+-----+-----+\n",
      "|    Age    |  44682  | 31.90990990990991 |  26.0  |  17 | 122 |\n",
      "+-----------+---------+-------------------+--------+-----+-----+\n"
     ]
    },
    {
     "data": {
      "text/plain": [
       "Text(0.5, 0.98, 'Age')"
      ]
     },
     "execution_count": 21,
     "metadata": {},
     "output_type": "execute_result"
    },
    {
     "data": {
      "image/png": "[encoded data removed]",
      "text/plain": [
       "<Figure size 360x360 with 1 Axes>"
      ]
     },
     "metadata": {
      "needs_background": "light"
     },
     "output_type": "display_data"
    }
   ],
   "source": [
    "# Subset of non empty values\n",
    "bday = df_users[df_users['birthday'] != '- Private -'] \n",
    "bday['birthday'] = pd.to_datetime(bday['birthday'])\n",
    "bday['birthYear'] = bday.apply(lambda row: row['birthday'].year, axis = 1)\n",
    "bday['age'] = bday.apply(lambda row: (2021 - row['birthYear']), axis = 1)\n",
    "\n",
    "# Calculate Statistics\n",
    "age_missing = len(df_users[df_users['birthday'] == '- Private -'])\n",
    "age_mean = bday['age'].mean()\n",
    "age_median = bday['age'].median()\n",
    "age_min = bday['age'].min()\n",
    "age_max = bday['age'].max()\n",
    "\n",
    "# Print basic statistics\n",
    "t_birthday = PrettyTable(['Attribute', 'Missing', 'Mean', 'Median', 'Min', 'Max'])\n",
    "\n",
    "t_birthday.add_row(['Age', age_missing, age_mean, age_median, age_min, age_max])\n",
    "\n",
    "print(t_birthday)\n",
    "\n",
    "# Create plot\n",
    "sns.set_palette(sns.color_palette(\"Blues\"))\n",
    "\n",
    "ageHist = sns.displot(bday, \n",
    "            x=\"age\",\n",
    "           binwidth=3)\n",
    "\n",
    "ageHist.fig.suptitle(\"Age\")"
   ]
  },
  {
   "cell_type": "markdown",
   "id": "satellite-lewis",
   "metadata": {},
   "source": [
    "### Gender"
   ]
  },
  {
   "cell_type": "code",
   "execution_count": 22,
   "id": "involved-sunglasses",
   "metadata": {},
   "outputs": [
    {
     "data": {
      "text/plain": [
       "Prefer not to say     28780\n",
       "Male                  11234\n",
       "Female                 5216\n",
       "Genderqueer              39\n",
       "Agender                  26\n",
       "Transgender Female       16\n",
       "Transgender Male         14\n",
       "Bigender                 14\n",
       "Androgyne                 9\n",
       "Name: gender, dtype: int64"
      ]
     },
     "execution_count": 22,
     "metadata": {},
     "output_type": "execute_result"
    }
   ],
   "source": [
    "df_users['gender'].value_counts()"
   ]
  },
  {
   "cell_type": "code",
   "execution_count": 23,
   "id": "arranged-bread",
   "metadata": {},
   "outputs": [
    {
     "name": "stdout",
     "output_type": "stream",
     "text": [
      "+-----------+---------+---------------+\n",
      "| Attribute | Missing |      Mode     |\n",
      "+-----------+---------+---------------+\n",
      "|   Gender  |  28780  |   0    Male   |\n",
      "|           |         | dtype: object |\n",
      "+-----------+---------+---------------+\n"
     ]
    },
    {
     "data": {
      "text/plain": [
       "Text(0.5, 0.98, 'Gender')"
      ]
     },
     "execution_count": 23,
     "metadata": {},
     "output_type": "execute_result"
    },
    {
     "data": {
      "image/png": "[encoded data removed]",
      "text/plain": [
       "<Figure size 360x360 with 1 Axes>"
      ]
     },
     "metadata": {
      "needs_background": "light"
     },
     "output_type": "display_data"
    }
   ],
   "source": [
    "# Subset of non empty values\n",
    "gender = df_users[df_users['gender'] != 'Prefer not to say'] \n",
    "\n",
    "# Calculate Statistics\n",
    "gender_missing = len(df_users[df_users['gender'] == 'Prefer not to say'])\n",
    "gender_max = gender['gender'].mode()\n",
    "\n",
    "# Print basic statistics\n",
    "t_gender = PrettyTable(['Attribute', 'Missing', 'Mode'])\n",
    "\n",
    "t_gender.add_row(['Gender', gender_missing, gender_max])\n",
    "\n",
    "print(t_gender)\n",
    "\n",
    "# Create plot\n",
    "sns.set_palette(sns.color_palette(\"Blues\"))\n",
    "\n",
    "genderHist = sns.displot(gender, \n",
    "            x=\"gender\",\n",
    "           binwidth=3)\n",
    "plt.xticks(rotation=90)\n",
    "genderHist.fig.suptitle(\"Gender\")"
   ]
  },
  {
   "cell_type": "markdown",
   "id": "racial-norfolk",
   "metadata": {},
   "source": [
    "### Ethnicity"
   ]
  },
  {
   "cell_type": "code",
   "execution_count": 24,
   "id": "solar-segment",
   "metadata": {},
   "outputs": [
    {
     "name": "stdout",
     "output_type": "stream",
     "text": [
      "+-----------+---------+---------------+\n",
      "| Attribute | Missing |      Mode     |\n",
      "+-----------+---------+---------------+\n",
      "| Ethnicity |  30118  |   0    White  |\n",
      "|           |         | dtype: object |\n",
      "+-----------+---------+---------------+\n"
     ]
    },
    {
     "data": {
      "text/plain": [
       "Text(0.5, 0.98, 'Ethnicity')"
      ]
     },
     "execution_count": 24,
     "metadata": {},
     "output_type": "execute_result"
    },
    {
     "data": {
      "image/png": "[encoded data removed]",
      "text/plain": [
       "<Figure size 360x360 with 1 Axes>"
      ]
     },
     "metadata": {
      "needs_background": "light"
     },
     "output_type": "display_data"
    }
   ],
   "source": [
    "# Subset of non empty values\n",
    "ethnicity = df_users[df_users['ethnicity'] != 'Not Saying']\n",
    "\n",
    "# Calculate Statistics\n",
    "ethnicity_missing = len(df_users[df_users['ethnicity'] == 'Not Saying'])\n",
    "ethnicity_max = ethnicity['ethnicity'].mode()\n",
    "\n",
    "# Print basic statistics\n",
    "t_ethnicity = PrettyTable(['Attribute', 'Missing', 'Mode'])\n",
    "\n",
    "t_ethnicity.add_row(['Ethnicity', ethnicity_missing, ethnicity_max])\n",
    "\n",
    "print(t_ethnicity)\n",
    "\n",
    "# Create plot\n",
    "sns.set_palette(sns.color_palette(\"Blues\"))\n",
    "\n",
    "ethnicityHist = sns.displot(ethnicity, \n",
    "            x=\"ethnicity\",\n",
    "           binwidth=3)\n",
    "plt.xticks(rotation=90)\n",
    "ethnicityHist.fig.suptitle(\"Ethnicity\")"
   ]
  },
  {
   "cell_type": "markdown",
   "id": "domestic-compensation",
   "metadata": {},
   "source": [
    "### Pol. Ideology"
   ]
  },
  {
   "cell_type": "code",
   "execution_count": 25,
   "id": "given-uniform",
   "metadata": {},
   "outputs": [
    {
     "name": "stdout",
     "output_type": "stream",
     "text": [
      "+--------------------+---------+-------------------+\n",
      "|     Attribute      | Missing |        Mode       |\n",
      "+--------------------+---------+-------------------+\n",
      "| Political Ideology |  32806  | 0    Conservative |\n",
      "|                    |         |   dtype: object   |\n",
      "+--------------------+---------+-------------------+\n"
     ]
    },
    {
     "data": {
      "text/plain": [
       "Text(0.5, 0.98, 'Pol. Ideology')"
      ]
     },
     "execution_count": 25,
     "metadata": {},
     "output_type": "execute_result"
    },
    {
     "data": {
      "image/png": "[encoded data removed]",
      "text/plain": [
       "<Figure size 360x360 with 1 Axes>"
      ]
     },
     "metadata": {
      "needs_background": "light"
     },
     "output_type": "display_data"
    }
   ],
   "source": [
    "# Subset of non empty values\n",
    "pol_ideol = df_users[df_users['political_ideology'] != 'Not Saying']\n",
    "\n",
    "# Calculate Statistics\n",
    "pol_ideol_missing = len(df_users[df_users['political_ideology'] == 'Not Saying'])\n",
    "pol_ideol_max = pol_ideol['political_ideology'].mode()\n",
    "\n",
    "# Print basic statistics\n",
    "t_pol_ideology = PrettyTable(['Attribute', 'Missing', 'Mode'])\n",
    "\n",
    "t_pol_ideology.add_row(['Political Ideology', pol_ideol_missing, pol_ideol_max])\n",
    "\n",
    "print(t_pol_ideology)\n",
    "\n",
    "# Create plot\n",
    "sns.set_palette(sns.color_palette(\"Blues\"))\n",
    "\n",
    "pol_ideolHist = sns.displot(pol_ideol, \n",
    "            x=\"political_ideology\",\n",
    "           binwidth=3)\n",
    "plt.xticks(rotation=90)\n",
    "pol_ideolHist.fig.suptitle(\"Pol. Ideology\")"
   ]
  },
  {
   "cell_type": "markdown",
   "id": "necessary-reality",
   "metadata": {},
   "source": [
    "### Party"
   ]
  },
  {
   "cell_type": "code",
   "execution_count": 26,
   "id": "coordinate-valentine",
   "metadata": {},
   "outputs": [
    {
     "name": "stdout",
     "output_type": "stream",
     "text": [
      "+-----------+---------+-----------------------+\n",
      "| Attribute | Missing |          Mode         |\n",
      "+-----------+---------+-----------------------+\n",
      "|   Party   |  33910  | 0    Republican Party |\n",
      "|           |         |     dtype: object     |\n",
      "+-----------+---------+-----------------------+\n"
     ]
    },
    {
     "data": {
      "text/plain": [
       "Text(0.5, 0.98, 'Party')"
      ]
     },
     "execution_count": 26,
     "metadata": {},
     "output_type": "execute_result"
    },
    {
     "data": {
      "image/png": "[encoded data removed]",
      "text/plain": [
       "<Figure size 360x360 with 1 Axes>"
      ]
     },
     "metadata": {
      "needs_background": "light"
     },
     "output_type": "display_data"
    }
   ],
   "source": [
    "# Subset of non empty values\n",
    "party = df_users[df_users['party'] != 'Not Saying']\n",
    "\n",
    "# Calculate Statistics\n",
    "party_missing = len(df_users[df_users['party'] == 'Not Saying'])\n",
    "party_max = party['party'].mode()\n",
    "\n",
    "\n",
    "# Print basic statistics\n",
    "t_party = PrettyTable(['Attribute', 'Missing', 'Mode'])\n",
    "\n",
    "t_party.add_row(['Party', party_missing, party_max])\n",
    "\n",
    "print(t_party)\n",
    "\n",
    "# Create plot\n",
    "sns.set_palette(sns.color_palette(\"Blues\"))\n",
    "\n",
    "largestParties = party['party'].value_counts()[:20].index.tolist()\n",
    "subsetParties = df_users[df_users['party'].isin(largestParties)]\n",
    "\n",
    "\n",
    "partyHist = sns.displot(subsetParties, \n",
    "            x=\"party\",\n",
    "           binwidth=3)\n",
    "plt.xticks(rotation=90)\n",
    "partyHist.fig.suptitle(\"Party\")"
   ]
  },
  {
   "cell_type": "markdown",
   "id": "provincial-spanish",
   "metadata": {},
   "source": [
    "### Education"
   ]
  },
  {
   "cell_type": "code",
   "execution_count": 27,
   "id": "metropolitan-revelation",
   "metadata": {},
   "outputs": [
    {
     "name": "stdout",
     "output_type": "stream",
     "text": [
      "+-----------+---------+------------------+\n",
      "| Attribute | Missing |       Mode       |\n",
      "+-----------+---------+------------------+\n",
      "| Education |  34596  | 0    High School |\n",
      "|           |         |  dtype: object   |\n",
      "+-----------+---------+------------------+\n"
     ]
    },
    {
     "data": {
      "text/plain": [
       "Text(0.5, 0.98, 'Education')"
      ]
     },
     "execution_count": 27,
     "metadata": {},
     "output_type": "execute_result"
    },
    {
     "data": {
      "image/png": "[encoded data removed]",
      "text/plain": [
       "<Figure size 360x360 with 1 Axes>"
      ]
     },
     "metadata": {
      "needs_background": "light"
     },
     "output_type": "display_data"
    }
   ],
   "source": [
    "# Subset of non empty values\n",
    "education = df_users[df_users['education'] != 'Not Saying']\n",
    "\n",
    "# Calculate Statistics\n",
    "education_missing = len(df_users[df_users['education'] == 'Not Saying'])\n",
    "education_max = education['education'].mode()\n",
    "\n",
    "# Print basic statistics\n",
    "t_education = PrettyTable(['Attribute', 'Missing', 'Mode'])\n",
    "\n",
    "t_education.add_row(['Education', education_missing, education_max])\n",
    "\n",
    "print(t_education)\n",
    "\n",
    "# Create plot\n",
    "sns.set_palette(sns.color_palette(\"Blues\"))\n",
    "\n",
    "educationHist = sns.displot(education, \n",
    "            x=\"education\",\n",
    "           binwidth=3)\n",
    "plt.xticks(rotation=90)\n",
    "educationHist.fig.suptitle(\"Education\")"
   ]
  },
  {
   "cell_type": "markdown",
   "id": "surface-phone",
   "metadata": {},
   "source": [
    "### Interested"
   ]
  },
  {
   "cell_type": "code",
   "execution_count": 28,
   "id": "wooden-curtis",
   "metadata": {},
   "outputs": [
    {
     "name": "stdout",
     "output_type": "stream",
     "text": [
      "+------------+---------+----------------+\n",
      "| Attribute  | Missing |      Mode      |\n",
      "+------------+---------+----------------+\n",
      "| Interested |   1358  | 0    No Answer |\n",
      "|            |         | dtype: object  |\n",
      "+------------+---------+----------------+\n"
     ]
    },
    {
     "data": {
      "text/plain": [
       "Text(0.5, 0.98, 'Interested')"
      ]
     },
     "execution_count": 28,
     "metadata": {},
     "output_type": "execute_result"
    },
    {
     "data": {
      "image/png": "[encoded data removed]",
      "text/plain": [
       "<Figure size 360x360 with 1 Axes>"
      ]
     },
     "metadata": {
      "needs_background": "light"
     },
     "output_type": "display_data"
    }
   ],
   "source": [
    "# Subset of non empty values\n",
    "interested = df_users[(df_users['interested'] != 'Not Saying') & (df_users['interested'] != '- Private -')]\n",
    "\n",
    "# Calculate Statistics\n",
    "interested_missing = len(df_users[(df_users['interested'] == 'Not Saying') | (df_users['interested'] == '- Private -')])\n",
    "interested_max = interested['interested'].mode()\n",
    "\n",
    "# Print basic statistics\n",
    "t_interested = PrettyTable(['Attribute', 'Missing', 'Mode'])\n",
    "\n",
    "t_interested.add_row(['Interested', interested_missing, interested_max])\n",
    "\n",
    "print(t_interested)\n",
    "\n",
    "# Create plot\n",
    "sns.set_palette(sns.color_palette(\"Blues\"))\n",
    "\n",
    "interestedHist = sns.displot(interested, \n",
    "            x=\"interested\",\n",
    "           binwidth=3)\n",
    "plt.xticks(rotation=90)\n",
    "interestedHist.fig.suptitle(\"Interested\")"
   ]
  },
  {
   "cell_type": "markdown",
   "id": "noted-harris",
   "metadata": {},
   "source": [
    "### Looking"
   ]
  },
  {
   "cell_type": "code",
   "execution_count": 29,
   "id": "satisfactory-inclusion",
   "metadata": {},
   "outputs": [
    {
     "name": "stdout",
     "output_type": "stream",
     "text": [
      "+-----------+---------+-----------------+\n",
      "| Attribute | Missing |       Mode      |\n",
      "+-----------+---------+-----------------+\n",
      "|  Looking  |   1225  | 0    Friendship |\n",
      "|           |         |  dtype: object  |\n",
      "+-----------+---------+-----------------+\n"
     ]
    },
    {
     "data": {
      "text/plain": [
       "Text(0.5, 0.98, 'Looking')"
      ]
     },
     "execution_count": 29,
     "metadata": {},
     "output_type": "execute_result"
    },
    {
     "data": {
      "image/png": "[encoded data removed]",
      "text/plain": [
       "<Figure size 360x360 with 1 Axes>"
      ]
     },
     "metadata": {
      "needs_background": "light"
     },
     "output_type": "display_data"
    }
   ],
   "source": [
    "# Subset of non empty values\n",
    "looking = df_users[(df_users['looking'] != 'No Answer') & (df_users['looking'] != '- Private -')]\n",
    "\n",
    "# Calculate Statistics\n",
    "looking_missing = len(df_users[(df_users['looking'] == 'Not Saying') | (df_users['looking'] == '- Private -')])\n",
    "looking_max = looking['looking'].mode()\n",
    "\n",
    "# Print basic statistics\n",
    "t_looking = PrettyTable(['Attribute', 'Missing', 'Mode'])\n",
    "\n",
    "t_looking.add_row(['Looking', looking_missing, looking_max])\n",
    "\n",
    "print(t_looking)\n",
    "\n",
    "# Create plot\n",
    "sns.set_palette(sns.color_palette(\"Blues\"))\n",
    "\n",
    "lookingHist = sns.displot(looking, \n",
    "            x=\"looking\",\n",
    "           binwidth=3)\n",
    "plt.xticks(rotation=90)\n",
    "lookingHist.fig.suptitle(\"Looking\")"
   ]
  },
  {
   "cell_type": "markdown",
   "id": "traditional-recruitment",
   "metadata": {},
   "source": [
    "### Income"
   ]
  },
  {
   "cell_type": "code",
   "execution_count": 34,
   "id": "associate-responsibility",
   "metadata": {},
   "outputs": [
    {
     "name": "stdout",
     "output_type": "stream",
     "text": [
      "+-----------+---------+-----------------+\n",
      "| Attribute | Missing |       Mode      |\n",
      "+-----------+---------+-----------------+\n",
      "|   Income  |  39751  | 0    Not Saying |\n",
      "|           |         |  dtype: object  |\n",
      "+-----------+---------+-----------------+\n"
     ]
    },
    {
     "data": {
      "text/plain": [
       "Text(0.5, 0.98, 'Income')"
      ]
     },
     "execution_count": 34,
     "metadata": {},
     "output_type": "execute_result"
    },
    {
     "data": {
      "image/png": "[encoded data removed]",
      "text/plain": [
       "<Figure size 360x360 with 1 Axes>"
      ]
     },
     "metadata": {
      "needs_background": "light"
     },
     "output_type": "display_data"
    }
   ],
   "source": [
    "# Subset of non empty values\n",
    "income = df_users[(df_users['income'] != 'Not Saying') & (df_users['income'] != '- Private -')]\n",
    "\n",
    "# Calculate Statistics\n",
    "income_missing = len(df_users[(df_users['income'] == 'Not Saying') | (df_users['income'] == '- Private -')])\n",
    "income_max = looking['income'].mode()\n",
    "\n",
    "# Print basic statistics\n",
    "t_income = PrettyTable(['Attribute', 'Missing', 'Mode'])\n",
    "\n",
    "t_income.add_row(['Income', income_missing, income_max])\n",
    "\n",
    "print(t_income)\n",
    "\n",
    "# Create plot\n",
    "sns.set_palette(sns.color_palette(\"Blues\"))\n",
    "\n",
    "incomeHist = sns.displot(income, \n",
    "            x=\"income\",\n",
    "           binwidth=3)\n",
    "plt.xticks(rotation=90)\n",
    "incomeHist.fig.suptitle(\"Income\")"
   ]
  },
  {
   "cell_type": "markdown",
   "id": "municipal-symposium",
   "metadata": {},
   "source": [
    "### Religious Ideology"
   ]
  },
  {
   "cell_type": "code",
   "execution_count": 31,
   "id": "bigger-alliance",
   "metadata": {},
   "outputs": [],
   "source": [
    "def cleanReligiousIdeology(row):\n",
    "    if 'Hindu' in row['religious_ideology']:\n",
    "        return 'Hindu'\n",
    "    elif 'Christian' in row['religious_ideology']:\n",
    "        return 'Christian'\n",
    "    elif 'Buddhist' in row['religious_ideology']:\n",
    "        return 'Buddhist'   \n",
    "    elif 'Jewish' in row['religious_ideology']:\n",
    "        return 'Jewish'   \n",
    "    elif 'Muslim' in row['religious_ideology']:\n",
    "        return 'Islamic' \n",
    "    else:\n",
    "        return row['religious_ideology']"
   ]
  },
  {
   "cell_type": "code",
   "execution_count": 35,
   "id": "democratic-korean",
   "metadata": {},
   "outputs": [
    {
     "name": "stdout",
     "output_type": "stream",
     "text": [
      "+--------------------+---------+-----------------+\n",
      "|     Attribute      | Missing |       Mode      |\n",
      "+--------------------+---------+-----------------+\n",
      "| Religious Ideology |  29961  | 0    Not Saying |\n",
      "|                    |         |  dtype: object  |\n",
      "+--------------------+---------+-----------------+\n"
     ]
    },
    {
     "data": {
      "text/plain": [
       "Text(0.5, 0.98, 'Religious Ideology')"
      ]
     },
     "execution_count": 35,
     "metadata": {},
     "output_type": "execute_result"
    },
    {
     "data": {
      "image/png": "[encoded data removed]",
      "text/plain": [
       "<Figure size 360x360 with 1 Axes>"
      ]
     },
     "metadata": {
      "needs_background": "light"
     },
     "output_type": "display_data"
    }
   ],
   "source": [
    "# Subset of non empty values\n",
    "rel_ideo = df_users[(df_users['religious_ideology'] != 'Not Saying')]\n",
    "\n",
    "rel_ideo['religious_ideology'] = rel_ideo.apply(lambda row: cleanReligiousIdeology(row), axis = 1)\n",
    "\n",
    "# Calculate Statistics\n",
    "rel_ideo_missing = len(df_users[(df_users['religious_ideology'] == 'Not Saying')])\n",
    "rel_ideo_max = looking['income'].mode()\n",
    "\n",
    "# Print basic statistics\n",
    "t_rel_ideo = PrettyTable(['Attribute', 'Missing', 'Mode'])\n",
    "\n",
    "t_rel_ideo.add_row(['Religious Ideology', rel_ideo_missing, rel_ideo_max])\n",
    "\n",
    "print(t_rel_ideo)\n",
    "\n",
    "# Create plot\n",
    "sns.set_palette(sns.color_palette(\"Blues\"))\n",
    "largestReligions = rel_ideo['religious_ideology'].value_counts()[:15].index.tolist()\n",
    "subsetReligions = df_users[df_users['religious_ideology'].isin(largestReligions)]\n",
    "\n",
    "\n",
    "# Only plot largest\n",
    "rel_ideoHist = sns.displot(subsetReligions, \n",
    "            x=\"religious_ideology\",\n",
    "           binwidth=3)\n",
    "plt.xticks(rotation=90)\n",
    "rel_ideoHist.fig.suptitle(\"Religious Ideology\")\n"
   ]
  },
  {
   "cell_type": "markdown",
   "id": "featured-sterling",
   "metadata": {},
   "source": [
    "### Create Table"
   ]
  },
  {
   "cell_type": "code",
   "execution_count": 37,
   "id": "prescription-flower",
   "metadata": {},
   "outputs": [
    {
     "name": "stdout",
     "output_type": "stream",
     "text": [
      "+-------------+-----------+-----------+-------+-----+-----+------------------+-------------------------------------------------------+\n",
      "|  Attribute  | Missing # | Missing % |  Mean | Min | Max |      Median      |                      3 - largest                      |\n",
      "+-------------+-----------+-----------+-------+-----+-----+------------------+-------------------------------------------------------+\n",
      "|     Age     |   44682   |    0.99   | 31.91 |  17 | 122 |       26.0       |                                                       |\n",
      "|  Ethincity  |           |    0.66   |       |     |     |      White       |              ['White', 'Asian', 'Black']              |\n",
      "|    Gender   |   28780   |    0.63   |       |     |     |       Male       |           ['Male', 'Female', 'Genderqueer']           |\n",
      "| Pol. Ideol. |           |    0.72   |       |     |     |   Conservative   |       ['Conservative', 'Liberal', 'Libertarian']      |\n",
      "|  Education  |           |    0.76   |       |     |     |   High School    |  ['High School', 'Some College', 'Bachelors Degree']  |\n",
      "|    Party    |           |    0.75   |       |     |     | Republican Party | ['Republican Party', 'Democratic Party', 'Undecided'] |\n",
      "|  Interested |           |    0.03   |       |     |     |    No Answer     |          ['No Answer', 'in Women', 'in Men']          |\n",
      "+-------------+-----------+-----------+-------+-----+-----+------------------+-------------------------------------------------------+\n"
     ]
    }
   ],
   "source": [
    "t = PrettyTable(['Attribute', 'Missing #', 'Missing %', 'Mean', 'Min', 'Max', 'Median', '3 - largest'])\n",
    "    \n",
    "# age\n",
    "t.add_row(['Age', age_missing, round(age_missing / len(df_users), 2), round(age_mean, 2), age_min, \n",
    "           age_max, age_median, ''])\n",
    "\n",
    "# ethnicity\n",
    "t.add_row(['Ethincity', '', round(ethnicity_missing / len(df_users),2), '', \n",
    "           '', '', ethnicity_max[0], ethnicity['ethnicity'].value_counts()[:3].index.tolist()])\n",
    "\n",
    "# gender\n",
    "t.add_row(['Gender', gender_missing, round(gender_missing / len(df_users), 2), '', '', \n",
    "           '', gender_max[0], gender['gender'].value_counts()[:3].index.tolist()])\n",
    "\n",
    "# Pol. Ideology\n",
    "t.add_row(['Pol. Ideol.', '', round(pol_ideol_missing / len(df_users),2), '', \n",
    "           '', '', pol_ideol_max[0], pol_ideol['political_ideology'].value_counts()[:3].index.tolist()])\n",
    "\n",
    "# Education\n",
    "t.add_row(['Education', '', round(education_missing / len(df_users),2), '', \n",
    "           '', '', education_max[0], education['education'].value_counts()[:3].index.tolist()])\n",
    "\n",
    "# Party\n",
    "t.add_row(['Party', '', round(party_missing / len(df_users),2), '', \n",
    "           '', '', party_max[0], party['party'].value_counts()[:3].index.tolist()])\n",
    "\n",
    "# Interested\n",
    "t.add_row(['Interested', '', round(interested_missing / len(df_users),2), '', \n",
    "           '', '', interested_max[0], interested['interested'].value_counts()[:3].index.tolist()])\n",
    "print(t)\n",
    "    "
   ]
  },
  {
   "cell_type": "markdown",
   "id": "large-mason",
   "metadata": {},
   "source": [
    "### Evaluation of Big issues"
   ]
  },
  {
   "cell_type": "code",
   "execution_count": 48,
   "id": "proud-alaska",
   "metadata": {},
   "outputs": [
    {
     "data": {
      "text/html": [
       "<div>\n",
       "<style scoped>\n",
       "    .dataframe tbody tr th:only-of-type {\n",
       "        vertical-align: middle;\n",
       "    }\n",
       "\n",
       "    .dataframe tbody tr th {\n",
       "        vertical-align: top;\n",
       "    }\n",
       "\n",
       "    .dataframe thead th {\n",
       "        text-align: right;\n",
       "    }\n",
       "</style>\n",
       "<table border=\"1\" class=\"dataframe\">\n",
       "  <thead>\n",
       "    <tr style=\"text-align: right;\">\n",
       "      <th></th>\n",
       "      <th>Abortion</th>\n",
       "      <th>Affirmative Action</th>\n",
       "      <th>Animal Rights</th>\n",
       "      <th>Barack Obama</th>\n",
       "      <th>Border Fence</th>\n",
       "      <th>Capitalism</th>\n",
       "      <th>Civil Unions</th>\n",
       "      <th>Death Penalty</th>\n",
       "      <th>Drug Legalization</th>\n",
       "      <th>Electoral College</th>\n",
       "      <th>...</th>\n",
       "      <th>Social Programs</th>\n",
       "      <th>Social Security</th>\n",
       "      <th>Socialism</th>\n",
       "      <th>Stimulus Spending</th>\n",
       "      <th>Term Limits</th>\n",
       "      <th>Torture</th>\n",
       "      <th>United Nations</th>\n",
       "      <th>War in Afghanistan</th>\n",
       "      <th>War on Terror</th>\n",
       "      <th>Welfare</th>\n",
       "    </tr>\n",
       "  </thead>\n",
       "  <tbody>\n",
       "    <tr>\n",
       "      <th>0</th>\n",
       "      <td>N/S</td>\n",
       "      <td>N/S</td>\n",
       "      <td>N/S</td>\n",
       "      <td>N/S</td>\n",
       "      <td>N/S</td>\n",
       "      <td>N/S</td>\n",
       "      <td>N/S</td>\n",
       "      <td>N/S</td>\n",
       "      <td>N/S</td>\n",
       "      <td>N/S</td>\n",
       "      <td>...</td>\n",
       "      <td>N/S</td>\n",
       "      <td>N/S</td>\n",
       "      <td>N/S</td>\n",
       "      <td>N/S</td>\n",
       "      <td>N/S</td>\n",
       "      <td>N/S</td>\n",
       "      <td>N/S</td>\n",
       "      <td>N/S</td>\n",
       "      <td>N/S</td>\n",
       "      <td>N/S</td>\n",
       "    </tr>\n",
       "    <tr>\n",
       "      <th>1</th>\n",
       "      <td>N/S</td>\n",
       "      <td>N/S</td>\n",
       "      <td>N/S</td>\n",
       "      <td>N/S</td>\n",
       "      <td>N/S</td>\n",
       "      <td>N/S</td>\n",
       "      <td>N/S</td>\n",
       "      <td>N/S</td>\n",
       "      <td>N/S</td>\n",
       "      <td>N/S</td>\n",
       "      <td>...</td>\n",
       "      <td>N/S</td>\n",
       "      <td>N/S</td>\n",
       "      <td>N/S</td>\n",
       "      <td>N/S</td>\n",
       "      <td>N/S</td>\n",
       "      <td>N/S</td>\n",
       "      <td>N/S</td>\n",
       "      <td>N/S</td>\n",
       "      <td>N/S</td>\n",
       "      <td>N/S</td>\n",
       "    </tr>\n",
       "    <tr>\n",
       "      <th>2</th>\n",
       "      <td>Pro</td>\n",
       "      <td>N/O</td>\n",
       "      <td>Pro</td>\n",
       "      <td>Pro</td>\n",
       "      <td>N/O</td>\n",
       "      <td>Pro</td>\n",
       "      <td>N/O</td>\n",
       "      <td>Und</td>\n",
       "      <td>Und</td>\n",
       "      <td>Und</td>\n",
       "      <td>...</td>\n",
       "      <td>Pro</td>\n",
       "      <td>Pro</td>\n",
       "      <td>Con</td>\n",
       "      <td>Pro</td>\n",
       "      <td>Pro</td>\n",
       "      <td>Con</td>\n",
       "      <td>Pro</td>\n",
       "      <td>Pro</td>\n",
       "      <td>Pro</td>\n",
       "      <td>Pro</td>\n",
       "    </tr>\n",
       "    <tr>\n",
       "      <th>3</th>\n",
       "      <td>Pro</td>\n",
       "      <td>N/S</td>\n",
       "      <td>N/S</td>\n",
       "      <td>N/S</td>\n",
       "      <td>N/S</td>\n",
       "      <td>N/S</td>\n",
       "      <td>N/S</td>\n",
       "      <td>N/S</td>\n",
       "      <td>N/S</td>\n",
       "      <td>N/S</td>\n",
       "      <td>...</td>\n",
       "      <td>N/S</td>\n",
       "      <td>N/S</td>\n",
       "      <td>N/S</td>\n",
       "      <td>N/S</td>\n",
       "      <td>N/S</td>\n",
       "      <td>N/S</td>\n",
       "      <td>N/S</td>\n",
       "      <td>N/S</td>\n",
       "      <td>N/S</td>\n",
       "      <td>N/S</td>\n",
       "    </tr>\n",
       "    <tr>\n",
       "      <th>4</th>\n",
       "      <td>N/S</td>\n",
       "      <td>N/S</td>\n",
       "      <td>N/S</td>\n",
       "      <td>N/S</td>\n",
       "      <td>N/S</td>\n",
       "      <td>N/S</td>\n",
       "      <td>N/S</td>\n",
       "      <td>N/S</td>\n",
       "      <td>N/S</td>\n",
       "      <td>N/S</td>\n",
       "      <td>...</td>\n",
       "      <td>N/S</td>\n",
       "      <td>N/S</td>\n",
       "      <td>N/S</td>\n",
       "      <td>N/S</td>\n",
       "      <td>N/S</td>\n",
       "      <td>N/S</td>\n",
       "      <td>N/S</td>\n",
       "      <td>N/S</td>\n",
       "      <td>N/S</td>\n",
       "      <td>N/S</td>\n",
       "    </tr>\n",
       "    <tr>\n",
       "      <th>...</th>\n",
       "      <td>...</td>\n",
       "      <td>...</td>\n",
       "      <td>...</td>\n",
       "      <td>...</td>\n",
       "      <td>...</td>\n",
       "      <td>...</td>\n",
       "      <td>...</td>\n",
       "      <td>...</td>\n",
       "      <td>...</td>\n",
       "      <td>...</td>\n",
       "      <td>...</td>\n",
       "      <td>...</td>\n",
       "      <td>...</td>\n",
       "      <td>...</td>\n",
       "      <td>...</td>\n",
       "      <td>...</td>\n",
       "      <td>...</td>\n",
       "      <td>...</td>\n",
       "      <td>...</td>\n",
       "      <td>...</td>\n",
       "      <td>...</td>\n",
       "    </tr>\n",
       "    <tr>\n",
       "      <th>45343</th>\n",
       "      <td>N/S</td>\n",
       "      <td>N/S</td>\n",
       "      <td>N/S</td>\n",
       "      <td>N/S</td>\n",
       "      <td>N/S</td>\n",
       "      <td>N/S</td>\n",
       "      <td>N/S</td>\n",
       "      <td>N/S</td>\n",
       "      <td>N/S</td>\n",
       "      <td>N/S</td>\n",
       "      <td>...</td>\n",
       "      <td>N/S</td>\n",
       "      <td>N/S</td>\n",
       "      <td>N/S</td>\n",
       "      <td>N/S</td>\n",
       "      <td>N/S</td>\n",
       "      <td>N/S</td>\n",
       "      <td>N/S</td>\n",
       "      <td>N/S</td>\n",
       "      <td>N/S</td>\n",
       "      <td>N/S</td>\n",
       "    </tr>\n",
       "    <tr>\n",
       "      <th>45344</th>\n",
       "      <td>N/S</td>\n",
       "      <td>N/S</td>\n",
       "      <td>N/S</td>\n",
       "      <td>N/S</td>\n",
       "      <td>N/S</td>\n",
       "      <td>N/S</td>\n",
       "      <td>N/S</td>\n",
       "      <td>N/S</td>\n",
       "      <td>N/S</td>\n",
       "      <td>N/S</td>\n",
       "      <td>...</td>\n",
       "      <td>N/S</td>\n",
       "      <td>N/S</td>\n",
       "      <td>N/S</td>\n",
       "      <td>N/S</td>\n",
       "      <td>N/S</td>\n",
       "      <td>N/S</td>\n",
       "      <td>N/S</td>\n",
       "      <td>N/S</td>\n",
       "      <td>N/S</td>\n",
       "      <td>N/S</td>\n",
       "    </tr>\n",
       "    <tr>\n",
       "      <th>45345</th>\n",
       "      <td>Pro</td>\n",
       "      <td>Pro</td>\n",
       "      <td>Con</td>\n",
       "      <td>Und</td>\n",
       "      <td>Con</td>\n",
       "      <td>Pro</td>\n",
       "      <td>Pro</td>\n",
       "      <td>Und</td>\n",
       "      <td>Pro</td>\n",
       "      <td>Pro</td>\n",
       "      <td>...</td>\n",
       "      <td>Pro</td>\n",
       "      <td>Pro</td>\n",
       "      <td>Pro</td>\n",
       "      <td>Con</td>\n",
       "      <td>Pro</td>\n",
       "      <td>N/O</td>\n",
       "      <td>Pro</td>\n",
       "      <td>Con</td>\n",
       "      <td>Con</td>\n",
       "      <td>N/O</td>\n",
       "    </tr>\n",
       "    <tr>\n",
       "      <th>45346</th>\n",
       "      <td>N/S</td>\n",
       "      <td>N/S</td>\n",
       "      <td>N/S</td>\n",
       "      <td>N/S</td>\n",
       "      <td>N/S</td>\n",
       "      <td>N/S</td>\n",
       "      <td>N/S</td>\n",
       "      <td>N/S</td>\n",
       "      <td>N/S</td>\n",
       "      <td>N/S</td>\n",
       "      <td>...</td>\n",
       "      <td>N/S</td>\n",
       "      <td>N/S</td>\n",
       "      <td>N/S</td>\n",
       "      <td>N/S</td>\n",
       "      <td>N/S</td>\n",
       "      <td>N/S</td>\n",
       "      <td>N/S</td>\n",
       "      <td>N/S</td>\n",
       "      <td>N/S</td>\n",
       "      <td>N/S</td>\n",
       "    </tr>\n",
       "    <tr>\n",
       "      <th>45347</th>\n",
       "      <td>N/S</td>\n",
       "      <td>N/S</td>\n",
       "      <td>N/S</td>\n",
       "      <td>N/S</td>\n",
       "      <td>N/S</td>\n",
       "      <td>N/S</td>\n",
       "      <td>N/S</td>\n",
       "      <td>N/S</td>\n",
       "      <td>N/S</td>\n",
       "      <td>N/S</td>\n",
       "      <td>...</td>\n",
       "      <td>N/S</td>\n",
       "      <td>N/S</td>\n",
       "      <td>N/S</td>\n",
       "      <td>N/S</td>\n",
       "      <td>N/S</td>\n",
       "      <td>N/S</td>\n",
       "      <td>N/S</td>\n",
       "      <td>N/S</td>\n",
       "      <td>N/S</td>\n",
       "      <td>N/S</td>\n",
       "    </tr>\n",
       "  </tbody>\n",
       "</table>\n",
       "<p>45348 rows × 48 columns</p>\n",
       "</div>"
      ],
      "text/plain": [
       "      Abortion Affirmative Action Animal Rights Barack Obama Border Fence  \\\n",
       "0          N/S                N/S           N/S          N/S          N/S   \n",
       "1          N/S                N/S           N/S          N/S          N/S   \n",
       "2          Pro                N/O           Pro          Pro          N/O   \n",
       "3          Pro                N/S           N/S          N/S          N/S   \n",
       "4          N/S                N/S           N/S          N/S          N/S   \n",
       "...        ...                ...           ...          ...          ...   \n",
       "45343      N/S                N/S           N/S          N/S          N/S   \n",
       "45344      N/S                N/S           N/S          N/S          N/S   \n",
       "45345      Pro                Pro           Con          Und          Con   \n",
       "45346      N/S                N/S           N/S          N/S          N/S   \n",
       "45347      N/S                N/S           N/S          N/S          N/S   \n",
       "\n",
       "      Capitalism Civil Unions Death Penalty Drug Legalization  \\\n",
       "0            N/S          N/S           N/S               N/S   \n",
       "1            N/S          N/S           N/S               N/S   \n",
       "2            Pro          N/O           Und               Und   \n",
       "3            N/S          N/S           N/S               N/S   \n",
       "4            N/S          N/S           N/S               N/S   \n",
       "...          ...          ...           ...               ...   \n",
       "45343        N/S          N/S           N/S               N/S   \n",
       "45344        N/S          N/S           N/S               N/S   \n",
       "45345        Pro          Pro           Und               Pro   \n",
       "45346        N/S          N/S           N/S               N/S   \n",
       "45347        N/S          N/S           N/S               N/S   \n",
       "\n",
       "      Electoral College  ... Social Programs Social Security Socialism  \\\n",
       "0                   N/S  ...             N/S             N/S       N/S   \n",
       "1                   N/S  ...             N/S             N/S       N/S   \n",
       "2                   Und  ...             Pro             Pro       Con   \n",
       "3                   N/S  ...             N/S             N/S       N/S   \n",
       "4                   N/S  ...             N/S             N/S       N/S   \n",
       "...                 ...  ...             ...             ...       ...   \n",
       "45343               N/S  ...             N/S             N/S       N/S   \n",
       "45344               N/S  ...             N/S             N/S       N/S   \n",
       "45345               Pro  ...             Pro             Pro       Pro   \n",
       "45346               N/S  ...             N/S             N/S       N/S   \n",
       "45347               N/S  ...             N/S             N/S       N/S   \n",
       "\n",
       "      Stimulus Spending Term Limits Torture United Nations War in Afghanistan  \\\n",
       "0                   N/S         N/S     N/S            N/S                N/S   \n",
       "1                   N/S         N/S     N/S            N/S                N/S   \n",
       "2                   Pro         Pro     Con            Pro                Pro   \n",
       "3                   N/S         N/S     N/S            N/S                N/S   \n",
       "4                   N/S         N/S     N/S            N/S                N/S   \n",
       "...                 ...         ...     ...            ...                ...   \n",
       "45343               N/S         N/S     N/S            N/S                N/S   \n",
       "45344               N/S         N/S     N/S            N/S                N/S   \n",
       "45345               Con         Pro     N/O            Pro                Con   \n",
       "45346               N/S         N/S     N/S            N/S                N/S   \n",
       "45347               N/S         N/S     N/S            N/S                N/S   \n",
       "\n",
       "      War on Terror Welfare  \n",
       "0               N/S     N/S  \n",
       "1               N/S     N/S  \n",
       "2               Pro     Pro  \n",
       "3               N/S     N/S  \n",
       "4               N/S     N/S  \n",
       "...             ...     ...  \n",
       "45343           N/S     N/S  \n",
       "45344           N/S     N/S  \n",
       "45345           Con     N/O  \n",
       "45346           N/S     N/S  \n",
       "45347           N/S     N/S  \n",
       "\n",
       "[45348 rows x 48 columns]"
      ]
     },
     "execution_count": 48,
     "metadata": {},
     "output_type": "execute_result"
    }
   ],
   "source": [
    "big_issues_list = []\n",
    "for entry in df_users['big_issues_dict']:\n",
    "    big_issues_list.append(entry)\n",
    "    \n",
    "big_issues_df = pd.DataFrame(big_issues_list)\n",
    "big_issues_df"
   ]
  },
  {
   "cell_type": "code",
   "execution_count": 54,
   "id": "emotional-blair",
   "metadata": {},
   "outputs": [
    {
     "data": {
      "text/plain": [
       "N/S    29420\n",
       "Pro     6877\n",
       "Con     6798\n",
       "Und     1215\n",
       "N/O     1038\n",
       "Name: Abortion, dtype: int64"
      ]
     },
     "execution_count": 54,
     "metadata": {},
     "output_type": "execute_result"
    }
   ],
   "source": [
    "big_issues_df['Abortion'].value_counts()"
   ]
  },
  {
   "cell_type": "code",
   "execution_count": 56,
   "id": "modular-jerusalem",
   "metadata": {},
   "outputs": [
    {
     "name": "stdout",
     "output_type": "stream",
     "text": [
      "+---------------------------+------+------+-------+\n",
      "|           Topic           | PRO  | CON  |  N/A  |\n",
      "+---------------------------+------+------+-------+\n",
      "|          Abortion         | 6877 | 6798 | 31673 |\n",
      "|     Affirmative Action    | 2614 | 4651 | 38083 |\n",
      "|       Animal Rights       | 6568 | 1294 | 37486 |\n",
      "|        Barack Obama       | 2910 | 3984 | 38454 |\n",
      "|        Border Fence       | 4885 | 4418 | 36045 |\n",
      "|         Capitalism        | 4600 | 1763 | 38985 |\n",
      "|        Civil Unions       | 5563 | 2140 | 37645 |\n",
      "|       Death Penalty       | 6550 | 6252 | 32546 |\n",
      "|     Drug Legalization     | 6207 | 5802 | 33339 |\n",
      "|     Electoral College     | 1967 | 3129 | 40252 |\n",
      "|  Environmental Protection | 9409 | 1247 | 34692 |\n",
      "|         Estate Tax        | 2277 | 3916 | 39155 |\n",
      "|       European Union      | 2305 | 1569 | 41474 |\n",
      "|         Euthanasia        | 5011 | 2307 | 38030 |\n",
      "|      Federal Reserve      | 1397 | 1675 | 42276 |\n",
      "|          Flat Tax         | 2739 | 3329 | 39280 |\n",
      "|         Free Trade        | 3948 | 855  | 40545 |\n",
      "|        Gay Marriage       | 8756 | 3618 | 32974 |\n",
      "|   Global Warming Exists   | 7925 | 2804 | 34619 |\n",
      "|       Globalization       | 2768 | 1359 | 41221 |\n",
      "|       Gold Standard       | 1722 | 1390 | 42236 |\n",
      "|         Gun Rights        | 7796 | 3324 | 34228 |\n",
      "|       Homeschooling       | 4171 | 1777 | 39400 |\n",
      "|    Internet Censorship    | 943  | 6085 | 38320 |\n",
      "|       Iran-Iraq War       | 1507 | 6792 | 37049 |\n",
      "|        Labor Union        | 4527 | 2190 | 38631 |\n",
      "|   Legalized Prostitution  | 3391 | 2984 | 38973 |\n",
      "|    Medicaid & Medicare    | 5883 | 2143 | 37322 |\n",
      "|     Medical Marijuana     | 8289 | 2283 | 34776 |\n",
      "|   Military Intervention   | 2075 | 2507 | 40766 |\n",
      "|        Minimum Wage       | 6724 | 2669 | 35955 |\n",
      "|    National Health Care   | 5873 | 3206 | 36269 |\n",
      "| National Retail Sales Tax | 2510 | 2837 | 40001 |\n",
      "|      Occupy Movement      | 1448 | 1925 | 41975 |\n",
      "|      Progressive Tax      | 2722 | 2867 | 39759 |\n",
      "|      Racial Profiling     | 2130 | 6436 | 36782 |\n",
      "|       Redistribution      | 1249 | 2125 | 41974 |\n",
      "|        Smoking Ban        | 5430 | 4512 | 35406 |\n",
      "|      Social Programs      | 5260 | 1816 | 38272 |\n",
      "|      Social Security      | 6036 | 1982 | 37330 |\n",
      "|         Socialism         | 1949 | 3193 | 40206 |\n",
      "|     Stimulus Spending     | 1225 | 1747 | 42376 |\n",
      "|        Term Limits        | 5830 | 1545 | 37973 |\n",
      "|          Torture          | 1612 | 5264 | 38472 |\n",
      "|       United Nations      | 6412 | 2266 | 36670 |\n",
      "|     War in Afghanistan    | 2608 | 6194 | 36546 |\n",
      "|       War on Terror       | 4544 | 4723 | 36081 |\n",
      "|          Welfare          | 5124 | 3292 | 36932 |\n",
      "+---------------------------+------+------+-------+\n"
     ]
    }
   ],
   "source": [
    "# Calculate basic statistics\n",
    "big_issues_topics = big_issues_df.columns.values.tolist()\n",
    "\n",
    "t = PrettyTable(['Topic', 'PRO', 'CON', 'N/A'])\n",
    "\n",
    "for topic in big_issues_topics:\n",
    "    t.add_row([topic, \n",
    "               len(big_issues_df[big_issues_df[topic] =='Pro']), \n",
    "               len(big_issues_df[big_issues_df[topic] =='Con']),\n",
    "               len(big_issues_df[(big_issues_df[topic] !='Pro') & (big_issues_df[topic] !='Con')])])\n",
    "    \n",
    "print(t)    "
   ]
  },
  {
   "cell_type": "markdown",
   "id": "demonstrated-clothing",
   "metadata": {},
   "source": [
    "##  User statistics relative to arguments"
   ]
  },
  {
   "cell_type": "markdown",
   "id": "corrected-mortgage",
   "metadata": {},
   "source": [
    "### Gender"
   ]
  },
  {
   "cell_type": "code",
   "execution_count": 44,
   "id": "acknowledged-replication",
   "metadata": {
    "scrolled": true
   },
   "outputs": [
    {
     "data": {
      "text/plain": [
       "Text(0.5, 0.98, 'Gender')"
      ]
     },
     "execution_count": 44,
     "metadata": {},
     "output_type": "execute_result"
    },
    {
     "data": {
      "image/png": "[encoded data removed]",
      "text/plain": [
       "<Figure size 360x360 with 1 Axes>"
      ]
     },
     "metadata": {
      "needs_background": "light"
     },
     "output_type": "display_data"
    }
   ],
   "source": [
    "# Only keep records that contain a birthday\n",
    "genderSubset = df_debates[(df_debates['gender'] != 'Prefer not to say') & (df_debates['birthday'] != '- Private -')]\n",
    "\n",
    "genderHist = sns.displot(genderSubset, \n",
    "            x=\"gender\",\n",
    "           binwidth=3)\n",
    "\n",
    "genderHist.set_xticklabels(rotation=60)\n",
    "\n",
    "genderHist.set(xlabel='')\n",
    "\n",
    "genderHist.fig.suptitle(\"Gender\")"
   ]
  },
  {
   "cell_type": "markdown",
   "id": "disciplinary-medicaid",
   "metadata": {},
   "source": [
    "### Birthday"
   ]
  },
  {
   "cell_type": "code",
   "execution_count": 43,
   "id": "individual-thesaurus",
   "metadata": {
    "scrolled": true
   },
   "outputs": [
    {
     "data": {
      "text/plain": [
       "Text(0.5, 0.98, 'Birth Year')"
      ]
     },
     "execution_count": 43,
     "metadata": {},
     "output_type": "execute_result"
    },
    {
     "data": {
      "image/png": "[encoded data removed]",
      "text/plain": [
       "<Figure size 360x360 with 1 Axes>"
      ]
     },
     "metadata": {
      "needs_background": "light"
     },
     "output_type": "display_data"
    }
   ],
   "source": [
    "# Only keep records that contain a birthday\n",
    "birthdaySubset = df_debates[(df_debates['birthday'] != 'Prefer not to say') & (df_debates['birthday'] != '- Private -')]\n",
    "\n",
    "birthdaySubset['birthday'] = birthdaySubset['birthday'] = pd.to_datetime(birthdaySubset['birthday'])\n",
    "\n",
    "# Calculate year of birth\n",
    "birthdaySubset['birthYear'] = birthdaySubset.apply(lambda row: row['birthday'].year, axis = 1)\n",
    "\n",
    "# Calculate age\n",
    "birthdaySubset['age'] = birthdaySubset.apply(lambda row: (2021 - row['birthYear']), axis = 1)\n",
    "\n",
    "birthdayHist = sns.displot(birthdaySubset, \n",
    "            x=\"birthYear\",\n",
    "           binwidth=3)\n",
    "\n",
    "birthdayHist.set_xticklabels(rotation=60)\n",
    "\n",
    "birthdayHist.set(xlabel='')\n",
    "\n",
    "birthdayHist.fig.suptitle(\"Birth Year\")"
   ]
  },
  {
   "cell_type": "markdown",
   "id": "jewish-policy",
   "metadata": {},
   "source": [
    "### Education"
   ]
  },
  {
   "cell_type": "code",
   "execution_count": 39,
   "id": "small-department",
   "metadata": {
    "scrolled": true
   },
   "outputs": [
    {
     "data": {
      "text/plain": [
       "Text(0.5, 0.98, 'Education')"
      ]
     },
     "execution_count": 39,
     "metadata": {},
     "output_type": "execute_result"
    },
    {
     "data": {
      "image/png": "[encoded data removed]",
      "text/plain": [
       "<Figure size 360x360 with 1 Axes>"
      ]
     },
     "metadata": {
      "needs_background": "light"
     },
     "output_type": "display_data"
    }
   ],
   "source": [
    "# Only keep records that contain an education\n",
    "educationSubset = df_debates[df_debates['education'] != 'Not Saying']\n",
    "\n",
    "sns.set_palette(sns.color_palette(\"Blues\"))\n",
    "\n",
    "educationHist = sns.displot(educationSubset, \n",
    "            x=\"education\",\n",
    "           binwidth=3)\n",
    "\n",
    "educationHist.set_xticklabels(rotation=60)\n",
    "\n",
    "educationHist.set(xlabel='')\n",
    "\n",
    "educationHist.fig.suptitle(\"Education\")"
   ]
  },
  {
   "cell_type": "markdown",
   "id": "binary-forth",
   "metadata": {},
   "source": [
    "### Ethnicity"
   ]
  },
  {
   "cell_type": "code",
   "execution_count": 45,
   "id": "leading-beaver",
   "metadata": {},
   "outputs": [
    {
     "data": {
      "text/plain": [
       "Text(0.5, 0.98, 'Ethnicity')"
      ]
     },
     "execution_count": 45,
     "metadata": {},
     "output_type": "execute_result"
    },
    {
     "data": {
      "image/png": "[encoded data removed]",
      "text/plain": [
       "<Figure size 360x360 with 1 Axes>"
      ]
     },
     "metadata": {
      "needs_background": "light"
     },
     "output_type": "display_data"
    }
   ],
   "source": [
    "# Only keep records that contain a birthday\n",
    "ethnicitySubset = df_debates[(df_debates['gender'] != 'Prefer not to say') & (df_debates['ethnicity'] != '- Private -')]\n",
    "\n",
    "ethnicityHist = sns.displot(ethnicitySubset, \n",
    "            x=\"ethnicity\",\n",
    "           binwidth=3)\n",
    "\n",
    "ethnicityHist.set_xticklabels(rotation=60)\n",
    "\n",
    "ethnicityHist.set(xlabel='')\n",
    "\n",
    "ethnicityHist.fig.suptitle(\"Ethnicity\")"
   ]
  }
 ],
 "metadata": {
  "kernelspec": {
   "display_name": "Python 3",
   "language": "python",
   "name": "python3"
  },
  "language_info": {
   "codemirror_mode": {
    "name": "ipython",
    "version": 3
   },
   "file_extension": ".py",
   "mimetype": "text/x-python",
   "name": "python",
   "nbconvert_exporter": "python",
   "pygments_lexer": "ipython3",
   "version": "3.7.10"
  },
  "toc": {
   "base_numbering": 1,
   "nav_menu": {},
   "number_sections": true,
   "sideBar": true,
   "skip_h1_title": false,
   "title_cell": "Table of Contents",
   "title_sidebar": "Contents",
   "toc_cell": false,
   "toc_position": {},
   "toc_section_display": true,
   "toc_window_display": true
  }
 },
 "nbformat": 4,
 "nbformat_minor": 5
}
