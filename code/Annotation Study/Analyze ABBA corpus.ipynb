{
 "cells": [
  {
   "cell_type": "code",
   "execution_count": 2,
   "id": "colored-aviation",
   "metadata": {},
   "outputs": [],
   "source": [
    "import pandas as pd\n",
    "import re\n",
    "import nltk\n",
    "import json\n",
    "import itertools\n",
    "import string\n",
    "from nltk.tokenize import word_tokenize\n",
    "from nltk.corpus import stopwords\n",
    "from nltk import tokenize\n",
    "from itertools import *\n",
    "from click import style\n",
    "import numpy as np\n",
    "import matplotlib.pyplot as plt\n",
    "from tqdm import tqdm\n",
    "import logging\n",
    "import os\n",
    "import json_lines\n",
    "#import sbeval\n",
    "import sklearn\n",
    "\n",
    "from sklearn.metrics import cohen_kappa_score\n",
    "import statsmodels\n",
    "from statsmodels.stats.inter_rater import fleiss_kappa"
   ]
  },
  {
   "cell_type": "markdown",
   "id": "equipped-eleven",
   "metadata": {},
   "source": [
    "# Load ABBA corpus"
   ]
  },
  {
   "cell_type": "code",
   "execution_count": 62,
   "id": "seventh-truth",
   "metadata": {},
   "outputs": [
    {
     "data": {
      "text/html": [
       "<div>\n",
       "<style scoped>\n",
       "    .dataframe tbody tr th:only-of-type {\n",
       "        vertical-align: middle;\n",
       "    }\n",
       "\n",
       "    .dataframe tbody tr th {\n",
       "        vertical-align: top;\n",
       "    }\n",
       "\n",
       "    .dataframe thead th {\n",
       "        text-align: right;\n",
       "    }\n",
       "</style>\n",
       "<table border=\"1\" class=\"dataframe\">\n",
       "  <thead>\n",
       "    <tr style=\"text-align: right;\">\n",
       "      <th></th>\n",
       "      <th>Column2</th>\n",
       "      <th>Column1</th>\n",
       "      <th>ID</th>\n",
       "      <th>Argument</th>\n",
       "      <th>Sentence</th>\n",
       "      <th>newSent</th>\n",
       "      <th>Biased Tuple</th>\n",
       "      <th>Biased Sentence</th>\n",
       "      <th>Biased Comment</th>\n",
       "    </tr>\n",
       "  </thead>\n",
       "  <tbody>\n",
       "    <tr>\n",
       "      <th>0</th>\n",
       "      <td>0</td>\n",
       "      <td>0</td>\n",
       "      <td>4340</td>\n",
       "      <td>\"so remember this: since god condemns sinfulne...</td>\n",
       "      <td>\"here's the thing: if a christian chooses to b...</td>\n",
       "      <td>\"Here's the thing: if a Christian chooses to b...</td>\n",
       "      <td>('immoral', 'gay')</td>\n",
       "      <td>0.0</td>\n",
       "      <td>0.0</td>\n",
       "    </tr>\n",
       "    <tr>\n",
       "      <th>1</th>\n",
       "      <td>1</td>\n",
       "      <td>1</td>\n",
       "      <td>15987</td>\n",
       "      <td>nazi germany, pol pot, mao, mussolini, stalin,...</td>\n",
       "      <td>those who are against homosexual marriage must...</td>\n",
       "      <td>Those who are against homosexual marriage must...</td>\n",
       "      <td>('immoral', 'homosexual')</td>\n",
       "      <td>0.0</td>\n",
       "      <td>0.0</td>\n",
       "    </tr>\n",
       "    <tr>\n",
       "      <th>2</th>\n",
       "      <td>2</td>\n",
       "      <td>2</td>\n",
       "      <td>15988</td>\n",
       "      <td>\" in fact they were creating a only white race...</td>\n",
       "      <td>those who are against homosexual marriage must...</td>\n",
       "      <td>Those who are against homosexual marriage must...</td>\n",
       "      <td>('immoral', 'homosexual')</td>\n",
       "      <td>0.0</td>\n",
       "      <td>0.0</td>\n",
       "    </tr>\n",
       "    <tr>\n",
       "      <th>3</th>\n",
       "      <td>3</td>\n",
       "      <td>3</td>\n",
       "      <td>16562</td>\n",
       "      <td>this debate is on the protestant christian vie...</td>\n",
       "      <td>i am not arguing that the sexual orientation o...</td>\n",
       "      <td>I am not arguing that the sexual orientation o...</td>\n",
       "      <td>('sin', 'homosexual')</td>\n",
       "      <td>1.0</td>\n",
       "      <td>1.0</td>\n",
       "    </tr>\n",
       "    <tr>\n",
       "      <th>4</th>\n",
       "      <td>4</td>\n",
       "      <td>4</td>\n",
       "      <td>16562</td>\n",
       "      <td>this debate is on the protestant christian vie...</td>\n",
       "      <td>i am not arguing that the sexual orientation o...</td>\n",
       "      <td>I am not arguing that the sexual orientation o...</td>\n",
       "      <td>('emotional', 'homosexual')</td>\n",
       "      <td>1.0</td>\n",
       "      <td>1.0</td>\n",
       "    </tr>\n",
       "    <tr>\n",
       "      <th>...</th>\n",
       "      <td>...</td>\n",
       "      <td>...</td>\n",
       "      <td>...</td>\n",
       "      <td>...</td>\n",
       "      <td>...</td>\n",
       "      <td>...</td>\n",
       "      <td>...</td>\n",
       "      <td>...</td>\n",
       "      <td>...</td>\n",
       "    </tr>\n",
       "    <tr>\n",
       "      <th>882</th>\n",
       "      <td>887</td>\n",
       "      <td>887</td>\n",
       "      <td>507377</td>\n",
       "      <td>when i hear a person say, \"being gay is a choi...</td>\n",
       "      <td>this assumption that if you think people have ...</td>\n",
       "      <td>This assumption that if you think people have ...</td>\n",
       "      <td>('mental disorder', 'homosexual')</td>\n",
       "      <td>0.0</td>\n",
       "      <td>0.0</td>\n",
       "    </tr>\n",
       "    <tr>\n",
       "      <th>883</th>\n",
       "      <td>891</td>\n",
       "      <td>891</td>\n",
       "      <td>452476</td>\n",
       "      <td>no rules or structure for this debate. just de...</td>\n",
       "      <td>straight gay bisexual asexual intersex + bisex...</td>\n",
       "      <td>Straight    Gay    Bisexual    Asexual    Inte...</td>\n",
       "      <td>('asexual', 'intersex')</td>\n",
       "      <td>0.0</td>\n",
       "      <td>0.0</td>\n",
       "    </tr>\n",
       "    <tr>\n",
       "      <th>884</th>\n",
       "      <td>890</td>\n",
       "      <td>890</td>\n",
       "      <td>452476</td>\n",
       "      <td>no rules or structure for this debate. just de...</td>\n",
       "      <td>straight gay bisexual asexual intersex + bisex...</td>\n",
       "      <td>Straight    Gay    Bisexual    Asexual    Inte...</td>\n",
       "      <td>('asexual', 'intersex')</td>\n",
       "      <td>0.0</td>\n",
       "      <td>0.0</td>\n",
       "    </tr>\n",
       "    <tr>\n",
       "      <th>885</th>\n",
       "      <td>889</td>\n",
       "      <td>889</td>\n",
       "      <td>331360</td>\n",
       "      <td>nothing 'happened' to free speech. \"amendment ...</td>\n",
       "      <td>lesbian gay bisexual transexual questioning in...</td>\n",
       "      <td>Lesbian Gay Bisexual Transexual Questioning In...</td>\n",
       "      <td>('asexual', 'intersex')</td>\n",
       "      <td>0.0</td>\n",
       "      <td>0.0</td>\n",
       "    </tr>\n",
       "    <tr>\n",
       "      <th>886</th>\n",
       "      <td>888</td>\n",
       "      <td>888</td>\n",
       "      <td>507582</td>\n",
       "      <td>sorry, i am new to this, but let me rephrase m...</td>\n",
       "      <td>living a homosexual lifestyle is sin.</td>\n",
       "      <td>Living a homosexual lifestyle is sin.</td>\n",
       "      <td>('sin', 'homosexual')</td>\n",
       "      <td>1.0</td>\n",
       "      <td>1.0</td>\n",
       "    </tr>\n",
       "  </tbody>\n",
       "</table>\n",
       "<p>887 rows × 9 columns</p>\n",
       "</div>"
      ],
      "text/plain": [
       "     Column2  Column1      ID  \\\n",
       "0          0        0    4340   \n",
       "1          1        1   15987   \n",
       "2          2        2   15988   \n",
       "3          3        3   16562   \n",
       "4          4        4   16562   \n",
       "..       ...      ...     ...   \n",
       "882      887      887  507377   \n",
       "883      891      891  452476   \n",
       "884      890      890  452476   \n",
       "885      889      889  331360   \n",
       "886      888      888  507582   \n",
       "\n",
       "                                              Argument  \\\n",
       "0    \"so remember this: since god condemns sinfulne...   \n",
       "1    nazi germany, pol pot, mao, mussolini, stalin,...   \n",
       "2    \" in fact they were creating a only white race...   \n",
       "3    this debate is on the protestant christian vie...   \n",
       "4    this debate is on the protestant christian vie...   \n",
       "..                                                 ...   \n",
       "882  when i hear a person say, \"being gay is a choi...   \n",
       "883  no rules or structure for this debate. just de...   \n",
       "884  no rules or structure for this debate. just de...   \n",
       "885  nothing 'happened' to free speech. \"amendment ...   \n",
       "886  sorry, i am new to this, but let me rephrase m...   \n",
       "\n",
       "                                              Sentence  \\\n",
       "0    \"here's the thing: if a christian chooses to b...   \n",
       "1    those who are against homosexual marriage must...   \n",
       "2    those who are against homosexual marriage must...   \n",
       "3    i am not arguing that the sexual orientation o...   \n",
       "4    i am not arguing that the sexual orientation o...   \n",
       "..                                                 ...   \n",
       "882  this assumption that if you think people have ...   \n",
       "883  straight gay bisexual asexual intersex + bisex...   \n",
       "884  straight gay bisexual asexual intersex + bisex...   \n",
       "885  lesbian gay bisexual transexual questioning in...   \n",
       "886              living a homosexual lifestyle is sin.   \n",
       "\n",
       "                                               newSent  \\\n",
       "0    \"Here's the thing: if a Christian chooses to b...   \n",
       "1    Those who are against homosexual marriage must...   \n",
       "2    Those who are against homosexual marriage must...   \n",
       "3    I am not arguing that the sexual orientation o...   \n",
       "4    I am not arguing that the sexual orientation o...   \n",
       "..                                                 ...   \n",
       "882  This assumption that if you think people have ...   \n",
       "883  Straight    Gay    Bisexual    Asexual    Inte...   \n",
       "884  Straight    Gay    Bisexual    Asexual    Inte...   \n",
       "885  Lesbian Gay Bisexual Transexual Questioning In...   \n",
       "886              Living a homosexual lifestyle is sin.   \n",
       "\n",
       "                          Biased Tuple  Biased Sentence  Biased Comment  \n",
       "0                   ('immoral', 'gay')              0.0             0.0  \n",
       "1            ('immoral', 'homosexual')              0.0             0.0  \n",
       "2            ('immoral', 'homosexual')              0.0             0.0  \n",
       "3                ('sin', 'homosexual')              1.0             1.0  \n",
       "4          ('emotional', 'homosexual')              1.0             1.0  \n",
       "..                                 ...              ...             ...  \n",
       "882  ('mental disorder', 'homosexual')              0.0             0.0  \n",
       "883            ('asexual', 'intersex')              0.0             0.0  \n",
       "884            ('asexual', 'intersex')              0.0             0.0  \n",
       "885            ('asexual', 'intersex')              0.0             0.0  \n",
       "886              ('sin', 'homosexual')              1.0             1.0  \n",
       "\n",
       "[887 rows x 9 columns]"
      ]
     },
     "execution_count": 62,
     "metadata": {},
     "output_type": "execute_result"
    }
   ],
   "source": [
    "abba_qb = pd.read_excel('../data/ABBA/abba_queerness_annotations.xlsx')\n",
    "abba_qb"
   ]
  },
  {
   "cell_type": "code",
   "execution_count": 64,
   "id": "found-slope",
   "metadata": {},
   "outputs": [
    {
     "data": {
      "text/html": [
       "<div>\n",
       "<style scoped>\n",
       "    .dataframe tbody tr th:only-of-type {\n",
       "        vertical-align: middle;\n",
       "    }\n",
       "\n",
       "    .dataframe tbody tr th {\n",
       "        vertical-align: top;\n",
       "    }\n",
       "\n",
       "    .dataframe thead th {\n",
       "        text-align: right;\n",
       "    }\n",
       "</style>\n",
       "<table border=\"1\" class=\"dataframe\">\n",
       "  <thead>\n",
       "    <tr style=\"text-align: right;\">\n",
       "      <th></th>\n",
       "      <th>Column3</th>\n",
       "      <th>Column2</th>\n",
       "      <th>Column1</th>\n",
       "      <th>ID</th>\n",
       "      <th>Argument</th>\n",
       "      <th>Sentence</th>\n",
       "      <th>newSent</th>\n",
       "      <th>Biased Tuple</th>\n",
       "      <th>Biased Sentence</th>\n",
       "      <th>Biased Comment</th>\n",
       "    </tr>\n",
       "  </thead>\n",
       "  <tbody>\n",
       "    <tr>\n",
       "      <th>0</th>\n",
       "      <td>0</td>\n",
       "      <td>0</td>\n",
       "      <td>0</td>\n",
       "      <td>1275</td>\n",
       "      <td>we know that trump is a racist, a misogynist, ...</td>\n",
       "      <td>compared his \"sacrifices\" as a businessman wit...</td>\n",
       "      <td>Compared his \"sacrifices\" as a businessman wit...</td>\n",
       "      <td>('war', 'muslim')</td>\n",
       "      <td>0.0</td>\n",
       "      <td>0.0</td>\n",
       "    </tr>\n",
       "    <tr>\n",
       "      <th>1</th>\n",
       "      <td>1</td>\n",
       "      <td>1</td>\n",
       "      <td>1</td>\n",
       "      <td>2023</td>\n",
       "      <td>i don't call people insane for researching / t...</td>\n",
       "      <td>i don't call people insane for researching / t...</td>\n",
       "      <td>I don't call people insane for researching 9/1...</td>\n",
       "      <td>('extremist', 'islamic')</td>\n",
       "      <td>1.0</td>\n",
       "      <td>1.0</td>\n",
       "    </tr>\n",
       "    <tr>\n",
       "      <th>2</th>\n",
       "      <td>2</td>\n",
       "      <td>2</td>\n",
       "      <td>2</td>\n",
       "      <td>2056</td>\n",
       "      <td>i will be arguing that / must have been assist...</td>\n",
       "      <td>()terrorist hani hanjour was not capable of fl...</td>\n",
       "      <td>(2)Terrorist Hani Hanjour was not capable of f...</td>\n",
       "      <td>('terrorist', 'islamic')</td>\n",
       "      <td>1.0</td>\n",
       "      <td>1.0</td>\n",
       "    </tr>\n",
       "    <tr>\n",
       "      <th>3</th>\n",
       "      <td>3</td>\n",
       "      <td>3</td>\n",
       "      <td>3</td>\n",
       "      <td>2107</td>\n",
       "      <td>definitions conspiracy : a secret plan made by...</td>\n",
       "      <td>definitions conspiracy : a secret plan made by...</td>\n",
       "      <td>Definitions Conspiracy : a secret plan made by...</td>\n",
       "      <td>('terrorist', 'islamic')</td>\n",
       "      <td>0.0</td>\n",
       "      <td>0.0</td>\n",
       "    </tr>\n",
       "    <tr>\n",
       "      <th>4</th>\n",
       "      <td>4</td>\n",
       "      <td>4</td>\n",
       "      <td>4</td>\n",
       "      <td>2111</td>\n",
       "      <td>there is a devastating lack of evidence to sup...</td>\n",
       "      <td>there is a devastating lack of evidence to sup...</td>\n",
       "      <td>There is a devastating lack of evidence to sup...</td>\n",
       "      <td>('radical', 'muslims')</td>\n",
       "      <td>0.0</td>\n",
       "      <td>0.0</td>\n",
       "    </tr>\n",
       "    <tr>\n",
       "      <th>...</th>\n",
       "      <td>...</td>\n",
       "      <td>...</td>\n",
       "      <td>...</td>\n",
       "      <td>...</td>\n",
       "      <td>...</td>\n",
       "      <td>...</td>\n",
       "      <td>...</td>\n",
       "      <td>...</td>\n",
       "      <td>...</td>\n",
       "      <td>...</td>\n",
       "    </tr>\n",
       "    <tr>\n",
       "      <th>1826</th>\n",
       "      <td>1826</td>\n",
       "      <td>1874</td>\n",
       "      <td>1874</td>\n",
       "      <td>505201</td>\n",
       "      <td>canada has % of the worlds water and has .% of...</td>\n",
       "      <td>and if that does not start a war than the tens...</td>\n",
       "      <td>and if that does not start a war than the tens...</td>\n",
       "      <td>('war', 'muslims')</td>\n",
       "      <td>0.0</td>\n",
       "      <td>0.0</td>\n",
       "    </tr>\n",
       "    <tr>\n",
       "      <th>1827</th>\n",
       "      <td>1827</td>\n",
       "      <td>1875</td>\n",
       "      <td>1875</td>\n",
       "      <td>506120</td>\n",
       "      <td>. we don't need another for years if not more ...</td>\n",
       "      <td>this has led to the rise of new and dangerous ...</td>\n",
       "      <td>This has led to the rise of new and dangerous ...</td>\n",
       "      <td>('terrorist', 'islamic')</td>\n",
       "      <td>0.0</td>\n",
       "      <td>0.0</td>\n",
       "    </tr>\n",
       "    <tr>\n",
       "      <th>1828</th>\n",
       "      <td>1828</td>\n",
       "      <td>1876</td>\n",
       "      <td>1876</td>\n",
       "      <td>506120</td>\n",
       "      <td>. we don't need another for years if not more ...</td>\n",
       "      <td>this has led to the rise of new and dangerous ...</td>\n",
       "      <td>This has led to the rise of new and dangerous ...</td>\n",
       "      <td>('dangerous', 'islamic')</td>\n",
       "      <td>0.0</td>\n",
       "      <td>0.0</td>\n",
       "    </tr>\n",
       "    <tr>\n",
       "      <th>1829</th>\n",
       "      <td>1829</td>\n",
       "      <td>1877</td>\n",
       "      <td>1877</td>\n",
       "      <td>507373</td>\n",
       "      <td>before i give my opinion, i want to remain you...</td>\n",
       "      <td>if u see muslim who lazy, get drunk, they're n...</td>\n",
       "      <td>if u see muslim who lazy, get drunk, they're n...</td>\n",
       "      <td>('lazy', 'muslim')</td>\n",
       "      <td>0.0</td>\n",
       "      <td>0.0</td>\n",
       "    </tr>\n",
       "    <tr>\n",
       "      <th>1830</th>\n",
       "      <td>1830</td>\n",
       "      <td>1878</td>\n",
       "      <td>1878</td>\n",
       "      <td>507373</td>\n",
       "      <td>before i give my opinion, i want to remain you...</td>\n",
       "      <td>if u see muslim who lazy, get drunk, they're n...</td>\n",
       "      <td>if u see muslim who lazy, get drunk, they're n...</td>\n",
       "      <td>('lazy', 'muslim')</td>\n",
       "      <td>0.0</td>\n",
       "      <td>0.0</td>\n",
       "    </tr>\n",
       "  </tbody>\n",
       "</table>\n",
       "<p>1831 rows × 10 columns</p>\n",
       "</div>"
      ],
      "text/plain": [
       "      Column3  Column2  Column1      ID  \\\n",
       "0           0        0        0    1275   \n",
       "1           1        1        1    2023   \n",
       "2           2        2        2    2056   \n",
       "3           3        3        3    2107   \n",
       "4           4        4        4    2111   \n",
       "...       ...      ...      ...     ...   \n",
       "1826     1826     1874     1874  505201   \n",
       "1827     1827     1875     1875  506120   \n",
       "1828     1828     1876     1876  506120   \n",
       "1829     1829     1877     1877  507373   \n",
       "1830     1830     1878     1878  507373   \n",
       "\n",
       "                                               Argument  \\\n",
       "0     we know that trump is a racist, a misogynist, ...   \n",
       "1     i don't call people insane for researching / t...   \n",
       "2     i will be arguing that / must have been assist...   \n",
       "3     definitions conspiracy : a secret plan made by...   \n",
       "4     there is a devastating lack of evidence to sup...   \n",
       "...                                                 ...   \n",
       "1826  canada has % of the worlds water and has .% of...   \n",
       "1827  . we don't need another for years if not more ...   \n",
       "1828  . we don't need another for years if not more ...   \n",
       "1829  before i give my opinion, i want to remain you...   \n",
       "1830  before i give my opinion, i want to remain you...   \n",
       "\n",
       "                                               Sentence  \\\n",
       "0     compared his \"sacrifices\" as a businessman wit...   \n",
       "1     i don't call people insane for researching / t...   \n",
       "2     ()terrorist hani hanjour was not capable of fl...   \n",
       "3     definitions conspiracy : a secret plan made by...   \n",
       "4     there is a devastating lack of evidence to sup...   \n",
       "...                                                 ...   \n",
       "1826  and if that does not start a war than the tens...   \n",
       "1827  this has led to the rise of new and dangerous ...   \n",
       "1828  this has led to the rise of new and dangerous ...   \n",
       "1829  if u see muslim who lazy, get drunk, they're n...   \n",
       "1830  if u see muslim who lazy, get drunk, they're n...   \n",
       "\n",
       "                                                newSent  \\\n",
       "0     Compared his \"sacrifices\" as a businessman wit...   \n",
       "1     I don't call people insane for researching 9/1...   \n",
       "2     (2)Terrorist Hani Hanjour was not capable of f...   \n",
       "3     Definitions Conspiracy : a secret plan made by...   \n",
       "4     There is a devastating lack of evidence to sup...   \n",
       "...                                                 ...   \n",
       "1826  and if that does not start a war than the tens...   \n",
       "1827  This has led to the rise of new and dangerous ...   \n",
       "1828  This has led to the rise of new and dangerous ...   \n",
       "1829  if u see muslim who lazy, get drunk, they're n...   \n",
       "1830  if u see muslim who lazy, get drunk, they're n...   \n",
       "\n",
       "                  Biased Tuple  Biased Sentence  Biased Comment  \n",
       "0            ('war', 'muslim')              0.0             0.0  \n",
       "1     ('extremist', 'islamic')              1.0             1.0  \n",
       "2     ('terrorist', 'islamic')              1.0             1.0  \n",
       "3     ('terrorist', 'islamic')              0.0             0.0  \n",
       "4       ('radical', 'muslims')              0.0             0.0  \n",
       "...                        ...              ...             ...  \n",
       "1826        ('war', 'muslims')              0.0             0.0  \n",
       "1827  ('terrorist', 'islamic')              0.0             0.0  \n",
       "1828  ('dangerous', 'islamic')              0.0             0.0  \n",
       "1829        ('lazy', 'muslim')              0.0             0.0  \n",
       "1830        ('lazy', 'muslim')              0.0             0.0  \n",
       "\n",
       "[1831 rows x 10 columns]"
      ]
     },
     "execution_count": 64,
     "metadata": {},
     "output_type": "execute_result"
    }
   ],
   "source": [
    "abba_rb = pd.read_excel('../data/ABBA/abba_religious_annotations.xlsx')\n",
    "abba_rb"
   ]
  },
  {
   "cell_type": "code",
   "execution_count": 23,
   "id": "collected-plaintiff",
   "metadata": {},
   "outputs": [
    {
     "name": "stderr",
     "output_type": "stream",
     "text": [
      "100%|██████████████████████████████████████████████████████████████████████████| 78376/78376 [00:11<00:00, 6686.02it/s]\n"
     ]
    }
   ],
   "source": [
    "with open(\"../data/debateorg/debateorg.json\", \"r\") as d:\n",
    "    debates_dict = json.load(d)\n",
    "with open(\"../data/debateorg/users.json\", \"r\") as u:\n",
    "      users_dict = json.load(u)\n",
    "        \n",
    "def extract_data(debates_data: dict, users_data: dict) -> pd.DataFrame:\n",
    "    \"\"\"Extract and combines debates and user data into a single dataframe. Return the dataframe.\n",
    "    Currently, only the birthday, education, gender and political orientation are extracted and\n",
    "    returned as user-defining features.\n",
    "    Arguments:\n",
    "    debates_data -- Dictionary containing the debates data.\n",
    "    users_data -- Dictionary containing the users and their properties.\n",
    "    \"\"\"\n",
    "    extracted_data = []\n",
    "    properties_of_interest = [\"birthday\", \"ethnicity\", \"gender\", \"political_ideology\", \"education\", \n",
    "                              \"interested\", \"income\", \"looking\", \"party\", \"relationship\", \"win_ratio\", \n",
    "                              \"religious_ideology\", \"number_of_all_debates\", \"big_issues_dict\"]\n",
    "\n",
    "    for key, debate in tqdm(debates_data.items()):\n",
    "        # Sometimes, the users of the debate didn't exist anymore at the time\n",
    "        # the data was collected.\n",
    "        try:\n",
    "            category = debate[\"category\"]\n",
    "        except KeyError:\n",
    "            category = None\n",
    "            \n",
    "        try:\n",
    "            title = debate[\"title\"]\n",
    "        except KeyError:\n",
    "            title = None\n",
    "        \n",
    "        try:\n",
    "            date = debate[\"start_date\"]\n",
    "        except KeyError:\n",
    "            date = None\n",
    "        \n",
    "        try:\n",
    "            user1 = users_data[debate[\"participant_1_name\"]]\n",
    "        except KeyError:\n",
    "            user1 = None\n",
    "\n",
    "        try:\n",
    "            user2 = users_data[debate[\"participant_2_name\"]]\n",
    "        except KeyError:\n",
    "            user2 = None\n",
    "\n",
    "        # If both users do not exist, skip this debate\n",
    "        if not user1 and not user2:\n",
    "            logging.debug(\"Both users are absent from debate data. Skipping.\")\n",
    "            continue\n",
    "\n",
    "        # For each round in this debate...\n",
    "        for debate_round in debate[\"rounds\"]:\n",
    "            # For each argument in this round...\n",
    "            for argument in debate_round:\n",
    "                arguing_user = (\n",
    "                    user1 if argument[\"side\"] == debate[\"participant_1_position\"] else user2)\n",
    "                \n",
    "                arguing_user_name = (\n",
    "                    debate[\"participant_1_name\"] if argument[\"side\"] == debate[\"participant_1_position\"] else debate[\"participant_2_name\"])\n",
    "\n",
    "                # Skip this argument if arguing user does not exist in the dta\n",
    "                if not arguing_user:\n",
    "                    continue\n",
    "                    \n",
    "                # Filtering for votes\n",
    "                votes = []\n",
    "                for vote in debate['votes']:\n",
    "                    votes.append(vote['votes_map'][arguing_user_name])\n",
    "\n",
    "                # Filtering for relevant properties\n",
    "                properties = {\n",
    "                    key: value\n",
    "                    for key, value in arguing_user.items() if key in properties_of_interest}\n",
    "\n",
    "                # Save the text and find the political ideology of the user.\n",
    "                extracted_data.append({\n",
    "                    \"argument\": argument[\"text\"],\n",
    "                    \"title\": title,\n",
    "                    \"category\": category,\n",
    "                    \"date\": date,\n",
    "                    **properties,\n",
    "                    \"votes\": votes})\n",
    "\n",
    "    return pd.DataFrame(columns=[\"argument\", \"title\", \"category\", \"date\", *properties_of_interest, \"votes\"], data=extracted_data)\n",
    "\n",
    "df_debates = extract_data(debates_dict, users_dict)\n",
    "\n",
    "df_debates = df_debates.reset_index()\n",
    "df_debates = df_debates.rename(columns={\"index\": \"ID\"})"
   ]
  },
  {
   "cell_type": "markdown",
   "id": "annual-kenya",
   "metadata": {},
   "source": [
    "# Queerness Bias"
   ]
  },
  {
   "cell_type": "markdown",
   "id": "quality-import",
   "metadata": {},
   "source": [
    "## Distribution of biased sentences"
   ]
  },
  {
   "cell_type": "code",
   "execution_count": 17,
   "id": "fitting-treasure",
   "metadata": {},
   "outputs": [
    {
     "data": {
      "text/plain": [
       "860"
      ]
     },
     "execution_count": 17,
     "metadata": {},
     "output_type": "execute_result"
    }
   ],
   "source": [
    "abba_qb_per_sentence = abba_qb[['Biased Sentence']].dropna()\n",
    "len(abba_qb_per_sentence)"
   ]
  },
  {
   "cell_type": "code",
   "execution_count": 18,
   "id": "married-chancellor",
   "metadata": {},
   "outputs": [
    {
     "data": {
      "text/plain": [
       "Text(0.5, 1.0, 'Actually biased Sentences')"
      ]
     },
     "execution_count": 18,
     "metadata": {},
     "output_type": "execute_result"
    },
    {
     "data": {
      "image/png": "[encoded data removed]",
      "text/plain": [
       "<Figure size 432x288 with 1 Axes>"
      ]
     },
     "metadata": {
      "needs_background": "light"
     },
     "output_type": "display_data"
    }
   ],
   "source": [
    "abba_qb_per_sentence['Biased'] = np.where(abba_qb_per_sentence['Biased Sentence']== 1.0, 'Biased', 'Unbiased')\n",
    "abba_qb_per_sentence['Biased'].hist()\n",
    "plt.title('Actually biased Sentences')"
   ]
  },
  {
   "cell_type": "code",
   "execution_count": 12,
   "id": "fundamental-congo",
   "metadata": {},
   "outputs": [
    {
     "data": {
      "text/plain": [
       "Unbiased    502\n",
       "Biased      358\n",
       "Name: Biased, dtype: int64"
      ]
     },
     "execution_count": 12,
     "metadata": {},
     "output_type": "execute_result"
    }
   ],
   "source": [
    "abba_qb_per_sentence['Biased'].value_counts()"
   ]
  },
  {
   "cell_type": "markdown",
   "id": "reliable-strengthening",
   "metadata": {},
   "source": [
    "## Distribution of biased comments"
   ]
  },
  {
   "cell_type": "code",
   "execution_count": 20,
   "id": "preliminary-album",
   "metadata": {},
   "outputs": [
    {
     "data": {
      "text/plain": [
       "600"
      ]
     },
     "execution_count": 20,
     "metadata": {},
     "output_type": "execute_result"
    }
   ],
   "source": [
    "abba_qb_per_comments = abba_qb[['ID', 'Biased Comment']].dropna()\n",
    "abba_qb_per_comments = abba_qb_per_comments.groupby(by=['ID']).mean().reset_index()\n",
    "len(abba_qb_per_comments)"
   ]
  },
  {
   "cell_type": "code",
   "execution_count": 21,
   "id": "genuine-railway",
   "metadata": {},
   "outputs": [
    {
     "data": {
      "text/plain": [
       "Text(0.5, 1.0, 'Actually biased Comments')"
      ]
     },
     "execution_count": 21,
     "metadata": {},
     "output_type": "execute_result"
    },
    {
     "data": {
      "image/png": "[encoded data removed]",
      "text/plain": [
       "<Figure size 432x288 with 1 Axes>"
      ]
     },
     "metadata": {
      "needs_background": "light"
     },
     "output_type": "display_data"
    }
   ],
   "source": [
    "abba_qb_per_comments['Biased'] = np.where(abba_qb_per_comments['Biased Comment']== 1.0, 'Biased', 'Unbiased')\n",
    "abba_qb_per_comments['Biased'].hist()\n",
    "plt.title('Actually biased Comments')"
   ]
  },
  {
   "cell_type": "code",
   "execution_count": 22,
   "id": "developed-liberty",
   "metadata": {},
   "outputs": [
    {
     "data": {
      "text/plain": [
       "Unbiased    395\n",
       "Biased      205\n",
       "Name: Biased, dtype: int64"
      ]
     },
     "execution_count": 22,
     "metadata": {},
     "output_type": "execute_result"
    }
   ],
   "source": [
    "abba_qb_per_comments['Biased'].value_counts()"
   ]
  },
  {
   "cell_type": "markdown",
   "id": "waiting-ethnic",
   "metadata": {},
   "source": [
    "## Merge user data"
   ]
  },
  {
   "cell_type": "code",
   "execution_count": 48,
   "id": "computational-agency",
   "metadata": {},
   "outputs": [],
   "source": [
    "def calculateUserPercentage(row, total, attribute):\n",
    "    return (row[attribute] / total) * 100    "
   ]
  },
  {
   "cell_type": "code",
   "execution_count": 35,
   "id": "broken-wells",
   "metadata": {},
   "outputs": [],
   "source": [
    "merged_qb = pd.merge(df_debates, abba_qb, how=\"inner\",  on=\"ID\")\n",
    "merged_qb = merged_qb.drop(columns = ['Column1', 'votes', 'Argument', 'Sentence', 'birthday', 'argument'])"
   ]
  },
  {
   "cell_type": "code",
   "execution_count": 53,
   "id": "stupid-newspaper",
   "metadata": {},
   "outputs": [],
   "source": [
    "merged_qb_biased = merged_qb[merged_qb['Biased Comment'] == 1.0]"
   ]
  },
  {
   "cell_type": "markdown",
   "id": "upper-touch",
   "metadata": {},
   "source": [
    "### Political Ideology"
   ]
  },
  {
   "cell_type": "code",
   "execution_count": 52,
   "id": "paperback-kernel",
   "metadata": {
    "scrolled": true
   },
   "outputs": [
    {
     "data": {
      "text/html": [
       "<div>\n",
       "<style scoped>\n",
       "    .dataframe tbody tr th:only-of-type {\n",
       "        vertical-align: middle;\n",
       "    }\n",
       "\n",
       "    .dataframe tbody tr th {\n",
       "        vertical-align: top;\n",
       "    }\n",
       "\n",
       "    .dataframe thead th {\n",
       "        text-align: right;\n",
       "    }\n",
       "</style>\n",
       "<table border=\"1\" class=\"dataframe\">\n",
       "  <thead>\n",
       "    <tr style=\"text-align: right;\">\n",
       "      <th></th>\n",
       "      <th>index</th>\n",
       "      <th>political_ideology</th>\n",
       "      <th>percentage</th>\n",
       "    </tr>\n",
       "  </thead>\n",
       "  <tbody>\n",
       "    <tr>\n",
       "      <th>0</th>\n",
       "      <td>Not Saying</td>\n",
       "      <td>166</td>\n",
       "      <td>53.896104</td>\n",
       "    </tr>\n",
       "    <tr>\n",
       "      <th>1</th>\n",
       "      <td>Conservative</td>\n",
       "      <td>68</td>\n",
       "      <td>22.077922</td>\n",
       "    </tr>\n",
       "    <tr>\n",
       "      <th>2</th>\n",
       "      <td>Libertarian</td>\n",
       "      <td>27</td>\n",
       "      <td>8.766234</td>\n",
       "    </tr>\n",
       "    <tr>\n",
       "      <th>3</th>\n",
       "      <td>Socialist</td>\n",
       "      <td>18</td>\n",
       "      <td>5.844156</td>\n",
       "    </tr>\n",
       "    <tr>\n",
       "      <th>4</th>\n",
       "      <td>Moderate</td>\n",
       "      <td>11</td>\n",
       "      <td>3.571429</td>\n",
       "    </tr>\n",
       "    <tr>\n",
       "      <th>5</th>\n",
       "      <td>Other</td>\n",
       "      <td>7</td>\n",
       "      <td>2.272727</td>\n",
       "    </tr>\n",
       "    <tr>\n",
       "      <th>6</th>\n",
       "      <td>Liberal</td>\n",
       "      <td>6</td>\n",
       "      <td>1.948052</td>\n",
       "    </tr>\n",
       "    <tr>\n",
       "      <th>7</th>\n",
       "      <td>Communist</td>\n",
       "      <td>3</td>\n",
       "      <td>0.974026</td>\n",
       "    </tr>\n",
       "    <tr>\n",
       "      <th>8</th>\n",
       "      <td>Progressive</td>\n",
       "      <td>1</td>\n",
       "      <td>0.324675</td>\n",
       "    </tr>\n",
       "    <tr>\n",
       "      <th>9</th>\n",
       "      <td>Undecided</td>\n",
       "      <td>1</td>\n",
       "      <td>0.324675</td>\n",
       "    </tr>\n",
       "  </tbody>\n",
       "</table>\n",
       "</div>"
      ],
      "text/plain": [
       "          index  political_ideology  percentage\n",
       "0    Not Saying                 166   53.896104\n",
       "1  Conservative                  68   22.077922\n",
       "2   Libertarian                  27    8.766234\n",
       "3     Socialist                  18    5.844156\n",
       "4      Moderate                  11    3.571429\n",
       "5         Other                   7    2.272727\n",
       "6       Liberal                   6    1.948052\n",
       "7     Communist                   3    0.974026\n",
       "8   Progressive                   1    0.324675\n",
       "9     Undecided                   1    0.324675"
      ]
     },
     "execution_count": 52,
     "metadata": {},
     "output_type": "execute_result"
    }
   ],
   "source": [
    "merged_qb_biased_ideology = merged_qb_biased['political_ideology'].value_counts().reset_index()\n",
    "total_ideology = merged_qb_biased_ideology['political_ideology'].sum()\n",
    "merged_qb_biased_ideology['percentage'] = merged_qb_biased_ideology.apply(lambda row: calculateUserPercentage(row, total_ideology, 'political_ideology'), axis = 1)\n",
    "merged_qb_biased_ideology"
   ]
  },
  {
   "cell_type": "markdown",
   "id": "exclusive-strap",
   "metadata": {},
   "source": [
    "### Ethnicity"
   ]
  },
  {
   "cell_type": "code",
   "execution_count": 59,
   "id": "monetary-desktop",
   "metadata": {
    "scrolled": true
   },
   "outputs": [
    {
     "data": {
      "text/html": [
       "<div>\n",
       "<style scoped>\n",
       "    .dataframe tbody tr th:only-of-type {\n",
       "        vertical-align: middle;\n",
       "    }\n",
       "\n",
       "    .dataframe tbody tr th {\n",
       "        vertical-align: top;\n",
       "    }\n",
       "\n",
       "    .dataframe thead th {\n",
       "        text-align: right;\n",
       "    }\n",
       "</style>\n",
       "<table border=\"1\" class=\"dataframe\">\n",
       "  <thead>\n",
       "    <tr style=\"text-align: right;\">\n",
       "      <th></th>\n",
       "      <th>index</th>\n",
       "      <th>ethnicity</th>\n",
       "      <th>percentage</th>\n",
       "    </tr>\n",
       "  </thead>\n",
       "  <tbody>\n",
       "    <tr>\n",
       "      <th>0</th>\n",
       "      <td>Not Saying</td>\n",
       "      <td>162</td>\n",
       "      <td>52.597403</td>\n",
       "    </tr>\n",
       "    <tr>\n",
       "      <th>1</th>\n",
       "      <td>White</td>\n",
       "      <td>124</td>\n",
       "      <td>40.259740</td>\n",
       "    </tr>\n",
       "    <tr>\n",
       "      <th>2</th>\n",
       "      <td>Asian</td>\n",
       "      <td>6</td>\n",
       "      <td>1.948052</td>\n",
       "    </tr>\n",
       "    <tr>\n",
       "      <th>3</th>\n",
       "      <td>Black</td>\n",
       "      <td>4</td>\n",
       "      <td>1.298701</td>\n",
       "    </tr>\n",
       "    <tr>\n",
       "      <th>4</th>\n",
       "      <td>Other</td>\n",
       "      <td>4</td>\n",
       "      <td>1.298701</td>\n",
       "    </tr>\n",
       "    <tr>\n",
       "      <th>5</th>\n",
       "      <td>Native American</td>\n",
       "      <td>3</td>\n",
       "      <td>0.974026</td>\n",
       "    </tr>\n",
       "    <tr>\n",
       "      <th>6</th>\n",
       "      <td>Latino</td>\n",
       "      <td>3</td>\n",
       "      <td>0.974026</td>\n",
       "    </tr>\n",
       "    <tr>\n",
       "      <th>7</th>\n",
       "      <td>Middle Eastern</td>\n",
       "      <td>2</td>\n",
       "      <td>0.649351</td>\n",
       "    </tr>\n",
       "  </tbody>\n",
       "</table>\n",
       "</div>"
      ],
      "text/plain": [
       "             index  ethnicity  percentage\n",
       "0       Not Saying        162   52.597403\n",
       "1            White        124   40.259740\n",
       "2            Asian          6    1.948052\n",
       "3            Black          4    1.298701\n",
       "4            Other          4    1.298701\n",
       "5  Native American          3    0.974026\n",
       "6           Latino          3    0.974026\n",
       "7   Middle Eastern          2    0.649351"
      ]
     },
     "execution_count": 59,
     "metadata": {},
     "output_type": "execute_result"
    }
   ],
   "source": [
    "merged_qb_biased_ethnicity = merged_qb_biased['ethnicity'].value_counts().reset_index()\n",
    "total_ethnicity = merged_qb_biased_ethnicity['ethnicity'].sum()\n",
    "merged_qb_biased_ethnicity['percentage'] = merged_qb_biased_ethnicity.apply(lambda row: calculateUserPercentage(row, total_ethnicity, 'ethnicity'), axis = 1)\n",
    "merged_qb_biased_ethnicity"
   ]
  },
  {
   "cell_type": "markdown",
   "id": "engaged-swaziland",
   "metadata": {},
   "source": [
    "### Gender"
   ]
  },
  {
   "cell_type": "code",
   "execution_count": 60,
   "id": "concerned-separate",
   "metadata": {},
   "outputs": [
    {
     "data": {
      "text/html": [
       "<div>\n",
       "<style scoped>\n",
       "    .dataframe tbody tr th:only-of-type {\n",
       "        vertical-align: middle;\n",
       "    }\n",
       "\n",
       "    .dataframe tbody tr th {\n",
       "        vertical-align: top;\n",
       "    }\n",
       "\n",
       "    .dataframe thead th {\n",
       "        text-align: right;\n",
       "    }\n",
       "</style>\n",
       "<table border=\"1\" class=\"dataframe\">\n",
       "  <thead>\n",
       "    <tr style=\"text-align: right;\">\n",
       "      <th></th>\n",
       "      <th>index</th>\n",
       "      <th>gender</th>\n",
       "      <th>percentage</th>\n",
       "    </tr>\n",
       "  </thead>\n",
       "  <tbody>\n",
       "    <tr>\n",
       "      <th>0</th>\n",
       "      <td>Prefer not to say</td>\n",
       "      <td>144</td>\n",
       "      <td>46.753247</td>\n",
       "    </tr>\n",
       "    <tr>\n",
       "      <th>1</th>\n",
       "      <td>Male</td>\n",
       "      <td>140</td>\n",
       "      <td>45.454545</td>\n",
       "    </tr>\n",
       "    <tr>\n",
       "      <th>2</th>\n",
       "      <td>Female</td>\n",
       "      <td>24</td>\n",
       "      <td>7.792208</td>\n",
       "    </tr>\n",
       "  </tbody>\n",
       "</table>\n",
       "</div>"
      ],
      "text/plain": [
       "               index  gender  percentage\n",
       "0  Prefer not to say     144   46.753247\n",
       "1               Male     140   45.454545\n",
       "2             Female      24    7.792208"
      ]
     },
     "execution_count": 60,
     "metadata": {},
     "output_type": "execute_result"
    }
   ],
   "source": [
    "merged_qb_biased_gender = merged_qb_biased['gender'].value_counts().reset_index()\n",
    "total_gender= merged_qb_biased_gender['gender'].sum()\n",
    "merged_qb_biased_gender['percentage'] = merged_qb_biased_gender.apply(lambda row: calculateUserPercentage(row, total_gender, 'gender'), axis = 1)\n",
    "merged_qb_biased_gender"
   ]
  },
  {
   "cell_type": "markdown",
   "id": "velvet-checkout",
   "metadata": {},
   "source": [
    "# Religious Bias"
   ]
  },
  {
   "cell_type": "markdown",
   "id": "amended-ivory",
   "metadata": {},
   "source": [
    "## Distribution of biased sentences"
   ]
  },
  {
   "cell_type": "code",
   "execution_count": 65,
   "id": "coastal-likelihood",
   "metadata": {},
   "outputs": [
    {
     "data": {
      "text/plain": [
       "1821"
      ]
     },
     "execution_count": 65,
     "metadata": {},
     "output_type": "execute_result"
    }
   ],
   "source": [
    "abba_rb_per_sentence = abba_rb[['Biased Sentence']].dropna()\n",
    "len(abba_rb_per_sentence)"
   ]
  },
  {
   "cell_type": "code",
   "execution_count": 66,
   "id": "another-cliff",
   "metadata": {},
   "outputs": [
    {
     "data": {
      "text/plain": [
       "Text(0.5, 1.0, 'Actually biased Sentences')"
      ]
     },
     "execution_count": 66,
     "metadata": {},
     "output_type": "execute_result"
    },
    {
     "data": {
      "image/png": "[encoded data removed]",
      "text/plain": [
       "<Figure size 432x288 with 1 Axes>"
      ]
     },
     "metadata": {
      "needs_background": "light"
     },
     "output_type": "display_data"
    }
   ],
   "source": [
    "abba_rb_per_sentence['Biased'] = np.where(abba_rb_per_sentence['Biased Sentence']== 1.0, 'Biased', 'Unbiased')\n",
    "abba_rb_per_sentence['Biased'].hist()\n",
    "plt.title('Actually biased Sentences')"
   ]
  },
  {
   "cell_type": "code",
   "execution_count": 67,
   "id": "fundamental-congo",
   "metadata": {},
   "outputs": [
    {
     "data": {
      "text/plain": [
       "Unbiased    1173\n",
       "Biased       648\n",
       "Name: Biased, dtype: int64"
      ]
     },
     "execution_count": 67,
     "metadata": {},
     "output_type": "execute_result"
    }
   ],
   "source": [
    "abba_rb_per_sentence['Biased'].value_counts()"
   ]
  },
  {
   "cell_type": "markdown",
   "id": "double-forest",
   "metadata": {},
   "source": [
    "## Distribution of biased comments"
   ]
  },
  {
   "cell_type": "code",
   "execution_count": 68,
   "id": "preliminary-album",
   "metadata": {},
   "outputs": [
    {
     "data": {
      "text/plain": [
       "1084"
      ]
     },
     "execution_count": 68,
     "metadata": {},
     "output_type": "execute_result"
    }
   ],
   "source": [
    "abba_rb_per_comments = abba_rb[['ID', 'Biased Comment']].dropna()\n",
    "abba_rb_per_comments = abba_rb_per_comments.groupby(by=['ID']).mean().reset_index()\n",
    "len(abba_rb_per_comments)"
   ]
  },
  {
   "cell_type": "code",
   "execution_count": 69,
   "id": "genuine-railway",
   "metadata": {},
   "outputs": [
    {
     "data": {
      "text/plain": [
       "Text(0.5, 1.0, 'Actually biased Comments')"
      ]
     },
     "execution_count": 69,
     "metadata": {},
     "output_type": "execute_result"
    },
    {
     "data": {
      "image/png": "[encoded data removed]",
      "text/plain": [
       "<Figure size 432x288 with 1 Axes>"
      ]
     },
     "metadata": {
      "needs_background": "light"
     },
     "output_type": "display_data"
    }
   ],
   "source": [
    "abba_rb_per_comments['Biased'] = np.where(abba_rb_per_comments['Biased Comment']== 1.0, 'Biased', 'Unbiased')\n",
    "abba_rb_per_comments['Biased'].hist()\n",
    "plt.title('Actually biased Comments')"
   ]
  },
  {
   "cell_type": "code",
   "execution_count": 70,
   "id": "developed-liberty",
   "metadata": {},
   "outputs": [
    {
     "data": {
      "text/plain": [
       "Unbiased    752\n",
       "Biased      332\n",
       "Name: Biased, dtype: int64"
      ]
     },
     "execution_count": 70,
     "metadata": {},
     "output_type": "execute_result"
    }
   ],
   "source": [
    "abba_rb_per_comments['Biased'].value_counts()"
   ]
  },
  {
   "cell_type": "markdown",
   "id": "waiting-ethnic",
   "metadata": {},
   "source": [
    "## Merge user data"
   ]
  },
  {
   "cell_type": "code",
   "execution_count": 71,
   "id": "broken-wells",
   "metadata": {},
   "outputs": [],
   "source": [
    "merged_rb = pd.merge(df_debates, abba_rb, how=\"inner\",  on=\"ID\")\n",
    "merged_rb = merged_rb.drop(columns = ['Column1', 'votes', 'Argument', 'Sentence', 'birthday', 'argument'])"
   ]
  },
  {
   "cell_type": "code",
   "execution_count": 72,
   "id": "radical-repeat",
   "metadata": {},
   "outputs": [],
   "source": [
    "merged_rb_biased = merged_rb[merged_rb['Biased Comment'] == 1.0]"
   ]
  },
  {
   "cell_type": "markdown",
   "id": "upper-touch",
   "metadata": {},
   "source": [
    "### Political Ideology"
   ]
  },
  {
   "cell_type": "code",
   "execution_count": 74,
   "id": "paperback-kernel",
   "metadata": {
    "scrolled": true
   },
   "outputs": [
    {
     "data": {
      "text/html": [
       "<div>\n",
       "<style scoped>\n",
       "    .dataframe tbody tr th:only-of-type {\n",
       "        vertical-align: middle;\n",
       "    }\n",
       "\n",
       "    .dataframe tbody tr th {\n",
       "        vertical-align: top;\n",
       "    }\n",
       "\n",
       "    .dataframe thead th {\n",
       "        text-align: right;\n",
       "    }\n",
       "</style>\n",
       "<table border=\"1\" class=\"dataframe\">\n",
       "  <thead>\n",
       "    <tr style=\"text-align: right;\">\n",
       "      <th></th>\n",
       "      <th>index</th>\n",
       "      <th>political_ideology</th>\n",
       "      <th>percentage</th>\n",
       "    </tr>\n",
       "  </thead>\n",
       "  <tbody>\n",
       "    <tr>\n",
       "      <th>0</th>\n",
       "      <td>Not Saying</td>\n",
       "      <td>276</td>\n",
       "      <td>45.847176</td>\n",
       "    </tr>\n",
       "    <tr>\n",
       "      <th>1</th>\n",
       "      <td>Conservative</td>\n",
       "      <td>142</td>\n",
       "      <td>23.588040</td>\n",
       "    </tr>\n",
       "    <tr>\n",
       "      <th>2</th>\n",
       "      <td>Moderate</td>\n",
       "      <td>43</td>\n",
       "      <td>7.142857</td>\n",
       "    </tr>\n",
       "    <tr>\n",
       "      <th>3</th>\n",
       "      <td>Libertarian</td>\n",
       "      <td>41</td>\n",
       "      <td>6.810631</td>\n",
       "    </tr>\n",
       "    <tr>\n",
       "      <th>4</th>\n",
       "      <td>Other</td>\n",
       "      <td>25</td>\n",
       "      <td>4.152824</td>\n",
       "    </tr>\n",
       "    <tr>\n",
       "      <th>5</th>\n",
       "      <td>Progressive</td>\n",
       "      <td>20</td>\n",
       "      <td>3.322259</td>\n",
       "    </tr>\n",
       "    <tr>\n",
       "      <th>6</th>\n",
       "      <td>Anarchist</td>\n",
       "      <td>19</td>\n",
       "      <td>3.156146</td>\n",
       "    </tr>\n",
       "    <tr>\n",
       "      <th>7</th>\n",
       "      <td>Liberal</td>\n",
       "      <td>17</td>\n",
       "      <td>2.823920</td>\n",
       "    </tr>\n",
       "    <tr>\n",
       "      <th>8</th>\n",
       "      <td>Socialist</td>\n",
       "      <td>9</td>\n",
       "      <td>1.495017</td>\n",
       "    </tr>\n",
       "    <tr>\n",
       "      <th>9</th>\n",
       "      <td>Undecided</td>\n",
       "      <td>6</td>\n",
       "      <td>0.996678</td>\n",
       "    </tr>\n",
       "    <tr>\n",
       "      <th>10</th>\n",
       "      <td>Apathetic</td>\n",
       "      <td>3</td>\n",
       "      <td>0.498339</td>\n",
       "    </tr>\n",
       "    <tr>\n",
       "      <th>11</th>\n",
       "      <td>Communist</td>\n",
       "      <td>1</td>\n",
       "      <td>0.166113</td>\n",
       "    </tr>\n",
       "  </tbody>\n",
       "</table>\n",
       "</div>"
      ],
      "text/plain": [
       "           index  political_ideology  percentage\n",
       "0     Not Saying                 276   45.847176\n",
       "1   Conservative                 142   23.588040\n",
       "2       Moderate                  43    7.142857\n",
       "3    Libertarian                  41    6.810631\n",
       "4          Other                  25    4.152824\n",
       "5    Progressive                  20    3.322259\n",
       "6      Anarchist                  19    3.156146\n",
       "7        Liberal                  17    2.823920\n",
       "8      Socialist                   9    1.495017\n",
       "9      Undecided                   6    0.996678\n",
       "10     Apathetic                   3    0.498339\n",
       "11     Communist                   1    0.166113"
      ]
     },
     "execution_count": 74,
     "metadata": {},
     "output_type": "execute_result"
    }
   ],
   "source": [
    "merged_rb_biased_ideology = merged_rb_biased['political_ideology'].value_counts().reset_index()\n",
    "total_ideology = merged_rb_biased_ideology['political_ideology'].sum()\n",
    "merged_rb_biased_ideology['percentage'] = merged_rb_biased_ideology.apply(lambda row: calculateUserPercentage(row, total_ideology, 'political_ideology'), axis = 1)\n",
    "merged_rb_biased_ideology"
   ]
  },
  {
   "cell_type": "markdown",
   "id": "female-apparatus",
   "metadata": {},
   "source": [
    "### Ethnicity"
   ]
  },
  {
   "cell_type": "code",
   "execution_count": 75,
   "id": "confidential-handle",
   "metadata": {
    "scrolled": true
   },
   "outputs": [
    {
     "data": {
      "text/html": [
       "<div>\n",
       "<style scoped>\n",
       "    .dataframe tbody tr th:only-of-type {\n",
       "        vertical-align: middle;\n",
       "    }\n",
       "\n",
       "    .dataframe tbody tr th {\n",
       "        vertical-align: top;\n",
       "    }\n",
       "\n",
       "    .dataframe thead th {\n",
       "        text-align: right;\n",
       "    }\n",
       "</style>\n",
       "<table border=\"1\" class=\"dataframe\">\n",
       "  <thead>\n",
       "    <tr style=\"text-align: right;\">\n",
       "      <th></th>\n",
       "      <th>index</th>\n",
       "      <th>ethnicity</th>\n",
       "      <th>percentage</th>\n",
       "    </tr>\n",
       "  </thead>\n",
       "  <tbody>\n",
       "    <tr>\n",
       "      <th>0</th>\n",
       "      <td>White</td>\n",
       "      <td>274</td>\n",
       "      <td>45.514950</td>\n",
       "    </tr>\n",
       "    <tr>\n",
       "      <th>1</th>\n",
       "      <td>Not Saying</td>\n",
       "      <td>207</td>\n",
       "      <td>34.385382</td>\n",
       "    </tr>\n",
       "    <tr>\n",
       "      <th>2</th>\n",
       "      <td>Other</td>\n",
       "      <td>33</td>\n",
       "      <td>5.481728</td>\n",
       "    </tr>\n",
       "    <tr>\n",
       "      <th>3</th>\n",
       "      <td>Asian</td>\n",
       "      <td>30</td>\n",
       "      <td>4.983389</td>\n",
       "    </tr>\n",
       "    <tr>\n",
       "      <th>4</th>\n",
       "      <td>Native American</td>\n",
       "      <td>18</td>\n",
       "      <td>2.990033</td>\n",
       "    </tr>\n",
       "    <tr>\n",
       "      <th>5</th>\n",
       "      <td>East Indian</td>\n",
       "      <td>17</td>\n",
       "      <td>2.823920</td>\n",
       "    </tr>\n",
       "    <tr>\n",
       "      <th>6</th>\n",
       "      <td>Black</td>\n",
       "      <td>10</td>\n",
       "      <td>1.661130</td>\n",
       "    </tr>\n",
       "    <tr>\n",
       "      <th>7</th>\n",
       "      <td>Middle Eastern</td>\n",
       "      <td>10</td>\n",
       "      <td>1.661130</td>\n",
       "    </tr>\n",
       "    <tr>\n",
       "      <th>8</th>\n",
       "      <td>Latino</td>\n",
       "      <td>3</td>\n",
       "      <td>0.498339</td>\n",
       "    </tr>\n",
       "  </tbody>\n",
       "</table>\n",
       "</div>"
      ],
      "text/plain": [
       "             index  ethnicity  percentage\n",
       "0            White        274   45.514950\n",
       "1       Not Saying        207   34.385382\n",
       "2            Other         33    5.481728\n",
       "3            Asian         30    4.983389\n",
       "4  Native American         18    2.990033\n",
       "5      East Indian         17    2.823920\n",
       "6            Black         10    1.661130\n",
       "7   Middle Eastern         10    1.661130\n",
       "8           Latino          3    0.498339"
      ]
     },
     "execution_count": 75,
     "metadata": {},
     "output_type": "execute_result"
    }
   ],
   "source": [
    "merged_rb_biased_ethnicity = merged_rb_biased['ethnicity'].value_counts().reset_index()\n",
    "total_ethnicity = merged_rb_biased_ethnicity['ethnicity'].sum()\n",
    "merged_rb_biased_ethnicity['percentage'] = merged_rb_biased_ethnicity.apply(lambda row: calculateUserPercentage(row, total_ethnicity, 'ethnicity'), axis = 1)\n",
    "merged_rb_biased_ethnicity"
   ]
  },
  {
   "cell_type": "markdown",
   "id": "bacterial-trainer",
   "metadata": {},
   "source": [
    "### Gender"
   ]
  },
  {
   "cell_type": "code",
   "execution_count": 76,
   "id": "smoking-musician",
   "metadata": {},
   "outputs": [
    {
     "data": {
      "text/html": [
       "<div>\n",
       "<style scoped>\n",
       "    .dataframe tbody tr th:only-of-type {\n",
       "        vertical-align: middle;\n",
       "    }\n",
       "\n",
       "    .dataframe tbody tr th {\n",
       "        vertical-align: top;\n",
       "    }\n",
       "\n",
       "    .dataframe thead th {\n",
       "        text-align: right;\n",
       "    }\n",
       "</style>\n",
       "<table border=\"1\" class=\"dataframe\">\n",
       "  <thead>\n",
       "    <tr style=\"text-align: right;\">\n",
       "      <th></th>\n",
       "      <th>index</th>\n",
       "      <th>gender</th>\n",
       "      <th>percentage</th>\n",
       "    </tr>\n",
       "  </thead>\n",
       "  <tbody>\n",
       "    <tr>\n",
       "      <th>0</th>\n",
       "      <td>Prefer not to say</td>\n",
       "      <td>335</td>\n",
       "      <td>55.647841</td>\n",
       "    </tr>\n",
       "    <tr>\n",
       "      <th>1</th>\n",
       "      <td>Male</td>\n",
       "      <td>233</td>\n",
       "      <td>38.704319</td>\n",
       "    </tr>\n",
       "    <tr>\n",
       "      <th>2</th>\n",
       "      <td>Female</td>\n",
       "      <td>31</td>\n",
       "      <td>5.149502</td>\n",
       "    </tr>\n",
       "    <tr>\n",
       "      <th>3</th>\n",
       "      <td>Transgender Male</td>\n",
       "      <td>3</td>\n",
       "      <td>0.498339</td>\n",
       "    </tr>\n",
       "  </tbody>\n",
       "</table>\n",
       "</div>"
      ],
      "text/plain": [
       "               index  gender  percentage\n",
       "0  Prefer not to say     335   55.647841\n",
       "1               Male     233   38.704319\n",
       "2             Female      31    5.149502\n",
       "3   Transgender Male       3    0.498339"
      ]
     },
     "execution_count": 76,
     "metadata": {},
     "output_type": "execute_result"
    }
   ],
   "source": [
    "merged_rb_biased_gender = merged_rb_biased['gender'].value_counts().reset_index()\n",
    "total_gender= merged_rb_biased_gender['gender'].sum()\n",
    "merged_rb_biased_gender['percentage'] = merged_rb_biased_gender.apply(lambda row: calculateUserPercentage(row, total_gender, 'gender'), axis = 1)\n",
    "merged_rb_biased_gender"
   ]
  }
 ],
 "metadata": {
  "kernelspec": {
   "display_name": "Python 3",
   "language": "python",
   "name": "python3"
  },
  "language_info": {
   "codemirror_mode": {
    "name": "ipython",
    "version": 3
   },
   "file_extension": ".py",
   "mimetype": "text/x-python",
   "name": "python",
   "nbconvert_exporter": "python",
   "pygments_lexer": "ipython3",
   "version": "3.7.10"
  },
  "toc": {
   "base_numbering": 1,
   "nav_menu": {},
   "number_sections": true,
   "sideBar": true,
   "skip_h1_title": false,
   "title_cell": "Table of Contents",
   "title_sidebar": "Contents",
   "toc_cell": false,
   "toc_position": {},
   "toc_section_display": true,
   "toc_window_display": false
  }
 },
 "nbformat": 4,
 "nbformat_minor": 5
}
