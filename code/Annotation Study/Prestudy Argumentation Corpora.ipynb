{
 "cells": [
  {
   "cell_type": "markdown",
   "metadata": {
    "id": "E0L9fL5ttfyh"
   },
   "source": [
    "# Imports"
   ]
  },
  {
   "cell_type": "code",
   "execution_count": 2,
   "metadata": {
    "colab": {
     "base_uri": "https://localhost:8080/"
    },
    "executionInfo": {
     "elapsed": 4311,
     "status": "ok",
     "timestamp": 1615478201884,
     "user": {
      "displayName": "Carolin Holtermann",
      "photoUrl": "",
      "userId": "03090939707808142119"
     },
     "user_tz": -60
    },
    "id": "His5SFJv5May",
    "outputId": "8f3d5d9b-2c3a-444b-8f3d-bb76ed9b7d35"
   },
   "outputs": [
    {
     "name": "stdout",
     "output_type": "stream",
     "text": [
      "Requirement already satisfied: json_lines in c:\\users\\d067795\\appdata\\local\\continuum\\anaconda3\\lib\\site-packages (0.5.0)\n",
      "Requirement already satisfied: six in c:\\users\\d067795\\appdata\\local\\continuum\\anaconda3\\lib\\site-packages (from json_lines) (1.15.0)\n"
     ]
    }
   ],
   "source": [
    "! pip install json_lines"
   ]
  },
  {
   "cell_type": "code",
   "execution_count": 3,
   "metadata": {
    "colab": {
     "base_uri": "https://localhost:8080/"
    },
    "executionInfo": {
     "elapsed": 5866,
     "status": "ok",
     "timestamp": 1615478204147,
     "user": {
      "displayName": "Carolin Holtermann",
      "photoUrl": "",
      "userId": "03090939707808142119"
     },
     "user_tz": -60
    },
    "id": "f__7Bl9Dpgei",
    "outputId": "fc2f6c5f-a6ef-4d9d-cd4f-856317181aa8"
   },
   "outputs": [
    {
     "name": "stderr",
     "output_type": "stream",
     "text": [
      "[nltk_data] Downloading package stopwords to\n",
      "[nltk_data]     C:\\Users\\d067795\\AppData\\Roaming\\nltk_data...\n",
      "[nltk_data]   Package stopwords is already up-to-date!\n",
      "[nltk_data] Downloading package punkt to\n",
      "[nltk_data]     C:\\Users\\d067795\\AppData\\Roaming\\nltk_data...\n",
      "[nltk_data]   Package punkt is already up-to-date!\n"
     ]
    }
   ],
   "source": [
    "import pandas as pd\n",
    "import re\n",
    "import nltk\n",
    "import json\n",
    "import itertools\n",
    "import string\n",
    "from nltk.tokenize import word_tokenize\n",
    "from nltk.corpus import stopwords\n",
    "from nltk import tokenize\n",
    "from itertools import *\n",
    "from click import style\n",
    "import numpy as np\n",
    "import matplotlib.pyplot as plt\n",
    "from tqdm import tqdm\n",
    "import logging\n",
    "import os\n",
    "import json_lines\n",
    "tqdm.pandas()\n",
    "\n",
    "import seaborn as sns\n",
    "sns.set_theme()\n",
    "sns.set_palette(\"pastel\")\n",
    "\n",
    "\n",
    "nltk.download('stopwords')\n",
    "nltk.download('punkt')\n",
    "pd.set_option('display.max_colwidth', None)"
   ]
  },
  {
   "cell_type": "markdown",
   "metadata": {
    "id": "7u97jvcztiJq"
   },
   "source": [
    "# Load Data Sets"
   ]
  },
  {
   "cell_type": "markdown",
   "metadata": {
    "id": "zpp7lBj6t-Hk"
   },
   "source": [
    "## GAQ Corpus"
   ]
  },
  {
   "cell_type": "code",
   "execution_count": 4,
   "metadata": {
    "executionInfo": {
     "elapsed": 901,
     "status": "ok",
     "timestamp": 1615461882151,
     "user": {
      "displayName": "Carolin Holtermann",
      "photoUrl": "",
      "userId": "03090939707808142119"
     },
     "user_tz": -60
    },
    "id": "zXR27qeNtwcs"
   },
   "outputs": [],
   "source": [
    "# Get Debate Data Set (from: IAC (Convince Me) Reddit (ChangeMyView))\n",
    "df_debate_train = pd.read_csv('../data/GAQCorpus_split/debate_forums_mixtrain_overlaptest_train.csv')\n",
    "df_debate_dev = pd.read_csv('../data/GAQCorpus_split/debate_forums_mixtrain_overlaptest_dev.csv')\n",
    "df_debate_test = pd.read_csv(\"../data/GAQCorpus_split/debate_forums_mixtrain_overlaptest_crowdtest.csv\")\n",
    "\n",
    "debate_frames = [df_debate_train, df_debate_dev, df_debate_test]\n",
    "\n",
    "gaq_debate = pd.concat(debate_frames)\n",
    "gaq_debate = gaq_debate[['text', 'title']]\n",
    "\n",
    "# Community Questions and Answers Forums (CQA) (from: Yahoo Answers)\n",
    "\n",
    "df_cqa_train = pd.read_csv('../data/GAQCorpus_split/qa_forums_mixtrain_overlaptest_train.csv')\n",
    "df_cqa_dev = pd.read_csv(\"../data/GAQCorpus_split/qa_forums_mixtrain_overlaptest_dev.csv\")\n",
    "df_cqa_test = pd.read_csv(\"../data/GAQCorpus_split/qa_forums_mixtrain_overlaptest_crowdtest.csv\")\n",
    "\n",
    "cqa_frames = [df_cqa_train, df_cqa_dev, df_cqa_test]\n",
    "\n",
    "gaq_cqa = pd.concat(cqa_frames)\n",
    "gaq_cqa = gaq_cqa[['text', 'title']]\n",
    "\n",
    "# Reviews (from: Yelp restaurant reviews)\n",
    "\n",
    "df_review_train = pd.read_csv(\"../data/GAQCorpus_split/review_forums_mixtrain_overlaptest_train.csv\")\n",
    "df_review_dev = pd.read_csv(\"../data/GAQCorpus_split/review_forums_mixtrain_overlaptest_dev.csv\")\n",
    "df_review_test = pd.read_csv(\"../data/GAQCorpus_split/review_forums_mixtrain_overlaptest_crowdtest.csv\")\n",
    "\n",
    "review_frames = [df_review_train, df_review_dev, df_review_test]\n",
    "\n",
    "gaq_reviews = pd.concat(review_frames)\n",
    "gaq_reviews = gaq_reviews[['text', 'title']]\n"
   ]
  },
  {
   "cell_type": "markdown",
   "metadata": {
    "id": "ikNGdfWN19kP"
   },
   "source": [
    "## Debate.org Corpus"
   ]
  },
  {
   "cell_type": "code",
   "execution_count": 5,
   "metadata": {
    "executionInfo": {
     "elapsed": 48451,
     "status": "ok",
     "timestamp": 1615463044487,
     "user": {
      "displayName": "Carolin Holtermann",
      "photoUrl": "",
      "userId": "03090939707808142119"
     },
     "user_tz": -60
    },
    "id": "5I-AY4Mx_L3k"
   },
   "outputs": [],
   "source": [
    "with open(\"../data/debateorg/debateorg.json\", \"r\") as d:\n",
    "    debates_dict = json.load(d)\n",
    "with open(\"../data/debateorg/users.json\", \"r\") as u:\n",
    "      users_dict = json.load(u)"
   ]
  },
  {
   "cell_type": "code",
   "execution_count": 6,
   "metadata": {
    "executionInfo": {
     "elapsed": 47742,
     "status": "ok",
     "timestamp": 1615463044488,
     "user": {
      "displayName": "Carolin Holtermann",
      "photoUrl": "",
      "userId": "03090939707808142119"
     },
     "user_tz": -60
    },
    "id": "EA_0pUxa_q4W"
   },
   "outputs": [],
   "source": [
    "def extract_data(debates_data: dict, users_data: dict) -> pd.DataFrame:\n",
    "    \"\"\"Extract and combines debates and user data into a single dataframe. Return the dataframe.\n",
    "    Currently, only the birthday, education, gender and political orientation are extracted and\n",
    "    returned as user-defining features.\n",
    "    Arguments:\n",
    "    debates_data -- Dictionary containing the debates data.\n",
    "    users_data -- Dictionary containing the users and their properties.\n",
    "    \"\"\"\n",
    "    extracted_data = []\n",
    "    properties_of_interest = [\"birthday\", \"ethnicity\", \"gender\", \"political_ideology\"]\n",
    "\n",
    "    for key, debate in tqdm(debates_data.items()):\n",
    "        # Sometimes, the users of the debate didn't exist anymore at the time\n",
    "        # the data was collected.\n",
    "        try:\n",
    "            user1 = users_data[debate[\"participant_1_name\"]]\n",
    "        except KeyError:\n",
    "            user1 = None\n",
    "\n",
    "        try:\n",
    "            user2 = users_data[debate[\"participant_2_name\"]]\n",
    "        except KeyError:\n",
    "            user2 = None\n",
    "\n",
    "        # If both users do not exist, skip this debate\n",
    "        if not user1 and not user2:\n",
    "            logging.debug(\"Both users are absent from debate data. Skipping.\")\n",
    "            continue\n",
    "\n",
    "        # For each round in this debate...\n",
    "        for debate_round in debate[\"rounds\"]:\n",
    "            # For each argument in this round...\n",
    "            for argument in debate_round:\n",
    "                arguing_user = (\n",
    "                    user1 if argument[\"side\"] == debate[\"participant_1_position\"] else user2)\n",
    "\n",
    "                # Skip this argument if arguing user does not exist in the dta\n",
    "                if not arguing_user:\n",
    "                    continue\n",
    "\n",
    "                # Filtering for relevant properties\n",
    "                properties = {\n",
    "                    key: value\n",
    "                    for key, value in arguing_user.items() if key in properties_of_interest}\n",
    "\n",
    "                # Save the text and find the political ideology of the user.\n",
    "                extracted_data.append({\n",
    "                    \"argument\": argument[\"text\"],\n",
    "                    **properties})\n",
    "\n",
    "    return pd.DataFrame(columns=[\"argument\", *properties_of_interest], data=extracted_data)\n",
    "\n",
    "debatesOrg_frame = extract_data(debates_dict, users_dict)\n",
    "debatesOrg_frame.rename(columns={\"argument\": \"text\"}, inplace = True)"
   ]
  },
  {
   "cell_type": "markdown",
   "metadata": {
    "id": "Ys_0g4zGtMvv"
   },
   "source": [
    "## Internet Argumentation Corpus (ConvinceMe)"
   ]
  },
  {
   "cell_type": "code",
   "execution_count": 20,
   "metadata": {
    "executionInfo": {
     "elapsed": 1504,
     "status": "ok",
     "timestamp": 1615461884932,
     "user": {
      "displayName": "Carolin Holtermann",
      "photoUrl": "",
      "userId": "03090939707808142119"
     },
     "user_tz": -60
    },
    "id": "C6alx_rMtopP"
   },
   "outputs": [],
   "source": [
    "iac_convinceMe =  pd.read_csv('../data/convinceme/convinceMeCSV.csv',  sep=';', engine='python')\n",
    "iac_convinceMe.rename(columns={\"Column1\": \"text\"}, inplace = True)\n",
    "iac_convinceMe = iac_convinceMe.dropna()"
   ]
  },
  {
   "cell_type": "markdown",
   "metadata": {
    "id": "KWz3bWJJ5Dvr"
   },
   "source": [
    "## Bias Specifications"
   ]
  },
  {
   "cell_type": "markdown",
   "metadata": {
    "id": "LVLzJ0w7vyhT"
   },
   "source": [
    "### Gender"
   ]
  },
  {
   "cell_type": "code",
   "execution_count": 6,
   "metadata": {
    "executionInfo": {
     "elapsed": 640,
     "status": "ok",
     "timestamp": 1615478217897,
     "user": {
      "displayName": "Carolin Holtermann",
      "photoUrl": "",
      "userId": "03090939707808142119"
     },
     "user_tz": -60
    },
    "id": "yDmXBpl8Yb7M"
   },
   "outputs": [],
   "source": [
    "# sex- career\n",
    "def weat_6():\n",
    "    targets_1 = [\"Amy\", \"Joan\", \"Lisa\", \"Sarah\", \"Diana\", \"Kate\", \"Ann\", \"Donna\"]\n",
    "    targets_2 = [\"John\", \"Paul\", \"Mike\", \"Kevin\", \"Steve\", \"Greg\", \"Jeff\", \"Bill\"]\n",
    "    attributes_1 = [\"home\", \"parents\", \"children\", \"family\", \"cousins\", \"marriage\", \"wedding\", \"relatives\"]\n",
    "    attributes_2 = [\"executive\", \"management\", \"professional\", \"corporation\", \"salary\", \"office\", \"business\", \"career\"]\n",
    "\n",
    "    return targets_1, targets_2, attributes_1, attributes_2\n",
    "\n",
    "# sex - math\n",
    "def weat_7():\n",
    "    targets_1 = [\"female\", \"woman\", \"girl\", \"sister\", \"she\", \"her\", \"hers\", \"daughter\"]\n",
    "    targets_2 = [\"male\", \"man\", \"boy\", \"brother\", \"he\", \"him\", \"his\", \"son\"]\n",
    "    attributes_1 = [\"poetry\", \"art\", \"dance\", \"literature\", \"novel\", \"symphony\", \"drama\", \"sculpture\"]\n",
    "    attributes_2 = [\"math\", \"algebra\", \"geometry\", \"calculus\", \"equations\", \"computation\", \"numbers\", \"addition\"]\n",
    "    return targets_1, targets_2, attributes_1, attributes_2\n",
    "\n",
    "\n",
    "# sex - science\n",
    "def weat_8():\n",
    "    targets_1 = [\"sister\", \"mother\", \"aunt\", \"grandmother\", \"daughter\", \"she\", \"hers\", \"her\"]\n",
    "    targets_2 = [\"brother\", \"father\", \"uncle\", \"grandfather\", \"son\", \"he\", \"his\", \"him\"]\n",
    "    attributes_1 = [\"poetry\", \"art\", \"Shakespeare\", \"dance\", \"literature\", \"novel\", \"symphony\", \"drama\"]\n",
    "    attributes_2 = [\"science\", \"technology\", \"physics\", \"chemistry\", \"einstein\", \"nasa\", \"experiment\", \"astronomy\"]\n",
    "    return targets_1, targets_2, attributes_1, attributes_2\n",
    "\n",
    "\n",
    "# Multi class word embeddings (Caliskan inspired) \n",
    "def naaclGender():\n",
    "    targets_1 = [\"sister\", \"mother\", \"aunt\", \"grandmother\", \"daughter\", \"she\", \"hers\", \"her\"]\n",
    "    targets_2 = [\"brother\", \"father\", \"uncle\", \"grandfather\", \"son\", \"he\", \"his\", \"him\"]   \n",
    "    attributes_1 = [\"secretary\", \"nurse\", \"clerk\", \"artist\", \"homemaker\", \"dancer\", \"singer\", \"librarian\", \"maid\", \n",
    "                    \"hairdresser\", \"stylist\", \"receptionist\", \"counselor\"]\n",
    "    attributes_2 = [\"manager\", \"executive\", \"doctor\", \"lawyer\", \"programmer\", \"scientist\", \"soldier\", \"supervisor\", \n",
    "                    \"rancher\", \"janitor\", \"firefighter\", \"officer\"]\n",
    "    return targets_1, targets_2, attributes_1, attributes_2\n",
    "\n",
    "\n",
    "# WinoBias (Zhao et.al.)\n",
    "def winoBias():\n",
    "    targets_1 = ['actress', 'actresses', 'airwoman', 'airwomen', 'aunt', 'aunts', 'bride', 'brides', 'businesswoman', \n",
    "                 'businesswomen', 'chairwoman', 'chairwomen', 'chick', 'chicks', 'daughter', 'daughters', 'female', \n",
    "                 'females', 'gal', 'gals', 'girl', 'girls', 'granddaughter', 'granddaughters', 'her', 'herself', \n",
    "                 'ladies', 'lady', 'maam', 'mentleman', 'miss', 'mom', 'mommies', 'mommy', 'moms', 'mother', 'mothers',\n",
    "                 'mrs', 'ms', 'policewoman', 'princess', 'princesses', 'princessesprincess', 'queen', 'queens', 'she',\n",
    "                 'sister', 'sisters', 'spokeswoman', 'spokeswomen', 'wife', 'wives', 'woman', 'women']\n",
    "    targets_2 = [\"actor\", \"actors\", \"airman\", \"airmen\", \"uncle\", \"uncles\", \"boy\", \"boys\", \"groom\", \"grooms\", \n",
    "                 \"brother\", \"brothers\", \"businessman\", \"businessmen\", \"chairman\", \"chairmen\", \"dude\", \"dudes\", \n",
    "                 \"dad\", \"dads\", \"daddy\", \"daddies\", \"son\", \"sons\", \"father\", \"fathers\", \"male\",  \"males\", \"guy\", \n",
    "                 \"guys\", \"gentleman\", \"gentlemen\", \"grandson\", \"grandsons\", \"he\", \"himself\", \"him\", \"his\", \"husband\", \n",
    "                 \"husbands\", \"king\", \"kings\", \"lord\", \"lords\", \"sir\", \"man\", \"men\", \"mr\", \"policeman\", \"policemen\", \n",
    "                 \"prince\", \"princes\", \"spokesman\", \"spokesmen\"]\n",
    "    attributes_1 = [\"attendant\", \"cashier\", \"teacher\", \"nurse\", \"assistant\", \"secretary\", \"auditor\", \"cleaner\", \n",
    "                    \"receptionist\", \"clerk\", \"counselor\", \"designer\", \"hairdresser\", \"writer\", \"housekeeper\", \n",
    "                    \"baker\", \"accountant\", \"editor\", \"librarian\", \"tailor\"]\n",
    "    attributes_2 = [\"driver\", \"supervisor\", \"janitor\", \"cook\", \"mover\", \"laborer\", \"construction worker\", \"chief\", \n",
    "                    \"developer\", \"carpenter\", \"manager\", \"lawyer\", \"farmer\", \"salesperson\", \"physician\", \"guard\", \n",
    "                    \"analyst\", \"mechanic\", \"sheriff\", \"CEO\", \"doctor\"]\n",
    "    return targets_1, targets_2, attributes_1, attributes_2\n"
   ]
  },
  {
   "cell_type": "markdown",
   "metadata": {
    "id": "4aCFj7PNv2RM"
   },
   "source": [
    "### Ethnicity"
   ]
  },
  {
   "cell_type": "code",
   "execution_count": 8,
   "metadata": {
    "executionInfo": {
     "elapsed": 822,
     "status": "ok",
     "timestamp": 1615478218085,
     "user": {
      "displayName": "Carolin Holtermann",
      "photoUrl": "",
      "userId": "03090939707808142119"
     },
     "user_tz": -60
    },
    "id": "iofSEUpFYb-o"
   },
   "outputs": [],
   "source": [
    "# (European / African American) (WEAT-3, WEAT-4, WEAT-5) --> Also changed order\n",
    "\n",
    "# Here they deleted the infrequent african american names, and the same number randomly choosen from the european american names\n",
    "def weat_3():\n",
    "    # excluded: Lerone, Percell, Rasaan, Rashaun, Everol, Terryl, Aiesha, Lashelle, Temeka, Tameisha, Teretha, Latonya, Shanise,\n",
    "    # Sharise, Tashika, Lashandra, Shavonn, Tawanda,\n",
    "    targets_1 = [\"Alonzo\", \"Jamel\",  \"Theo\", \"Alphonse\", \"Jerome\", \"Leroy\", \"Torrance\", \"Darnell\", \"Lamar\", \"Lionel\",\n",
    "            \"Tyree\", \"Deion\", \"Lamont\", \"Malik\", \"Terrence\", \"Tyrone\",  \"Lavon\", \"Marcellus\", \"Wardell\", \"Nichelle\",\n",
    "            \"Shereen\", \"Ebony\", \"Latisha\", \"Shaniqua\", \"Jasmine\", \"Tanisha\", \"Tia\", \"Lakisha\", \"Latoya\",  \"Yolanda\",\n",
    "            \"Malika\",  \"Yvette\", \"Lerone\", \"Percell\", \"Rasaan\", \"Rashaun\", \"Everol\", \"Terryl\", \"Aiesha\", \"Lashelle\",\n",
    "            \"Temeka\", \"Tameisha\", \"Teretha\", \"Latonya\", \"Shanise\", \"Sharise\", \"Tashika\", \"Lashandra\", \"Shavonn\", \"Tawanda\"]\n",
    "\n",
    "    # excluded in the original paper: Chip, Ian, Fred, Jed, Todd, Brandon, Wilbur, Sara, Amber, Crystal, Meredith, Shannon, Donna,\n",
    "    # Bobbie-Sue, Peggy, Sue-Ellen, Wendy\n",
    "    targets_2 = [\"Adam\", \"Harry\", \"Josh\", \"Roger\", \"Alan\", \"Frank\", \"Justin\", \"Ryan\", \"Andrew\", \"Jack\", \"Matthew\", \"Stephen\",\n",
    "                \"Brad\", \"Greg\", \"Paul\", \"Hank\", \"Jonathan\", \"Peter\", \"Amanda\", \"Courtney\", \"Heather\", \"Melanie\",\n",
    "                \"Katie\", \"Betsy\", \"Kristin\", \"Nancy\", \"Stephanie\", \"Ellen\", \"Lauren\",  \"Colleen\", \"Emily\", \"Megan\", \"Rachel\",\n",
    "                \"Chip\", \"Ian\", \"Fred\", \"Jed\", \"Todd\", \"Brandon\", \"Wilbur\", \"Sara\", \"Amber\", \"Crystal\", \"Meredith\", \"Shannon\",\n",
    "                \"Donna\", \"Bobbie-Sue\", \"Peggy\", \"Sue-Ellen\", \"Wendy\"]\n",
    "\n",
    "    # same as before but agony and prison are replaced with bomb and evil\n",
    "    attributes_1 = [\"abuse\", \"crash\", \"filth\", \"murder\", \"sickness\", \"accident\", \"death\", \"grief\", \"poison\", \"stink\",\n",
    "                \"assault\", \"disaster\", \"hatred\", \"pollute\", \"tragedy\", \"divorce\", \"jail\", \"poverty\", \"ugly\", \"cancer\",\n",
    "                \"kill\", \"rotten\",\n",
    "                \"vomit\", \"bomb\", \"evil\"]\n",
    "\n",
    "    attributes_2 = [\"caress\", \"freedom\", \"health\", \"love\", \"peace\", \"cheer\", \"friend\", \"heaven\", \"loyal\", \"pleasure\",\n",
    "              \"diamond\", \"gentle\", \"honest\", \"lucky\", \"rainbow\", \"diploma\", \"gift\", \"honor\", \"miracle\", \"sunrise\",\n",
    "              \"family\", \"happy\", \"laughter\", \"paradise\", \"vacation\"]\n",
    "    return targets_1, targets_2, attributes_1, attributes_2\n",
    "\n",
    "\n",
    "# again: african american names vs. european american names and pleasant vs unpleasant but with different names\n",
    "def weat_4():\n",
    "    # excluded in GloVe experiments:  Tremayne, Latonya,\n",
    "    targets_1 = [\"Darnell\", \"Hakim\", \"Jermaine\", \"Kareem\", \"Jamal\", \"Leroy\", \"Rasheed\", \"Tyrone\", \"Aisha\", \"Ebony\",\n",
    "                \"Keisha\", \"Kenya\",  \"Lakisha\", \"Latoya\", \"Tamika\", \"Tanisha\", \"Tremayne\", \"Latonya\"]\n",
    "\n",
    "    # excluded as in the original paper: Jay, Kristen, (here only excluded in the glove experiments)\n",
    "    targets_2 = [\"Brad\", \"Brendan\", \"Geoffrey\", \"Greg\", \"Brett\",  \"Matthew\", \"Neil\", \"Todd\", \"Allison\", \"Anne\",\n",
    "                \"Carrie\", \"Emily\", \"Jill\", \"Laurie\",  \"Meredith\", \"Sarah\", \"Jay\", \"Kristen\"]\n",
    "\n",
    "    # same as before but agony and prison are replaced with bomb and evil\n",
    "    attributes_1 = [\"abuse\", \"crash\", \"filth\", \"murder\", \"sickness\", \"accident\", \"death\", \"grief\", \"poison\", \"stink\",\n",
    "                  \"assault\", \"disaster\", \"hatred\", \"pollute\", \"tragedy\", \"divorce\", \"jail\", \"poverty\", \"ugly\",\n",
    "                  \"cancer\",\n",
    "                  \"kill\", \"rotten\",\n",
    "                  \"vomit\", \"bomb\", \"evil\"]\n",
    "\n",
    "    attributes_2 = [\"caress\", \"freedom\", \"health\", \"love\", \"peace\", \"cheer\", \"friend\", \"heaven\", \"loyal\", \"pleasure\",\n",
    "                  \"diamond\", \"gentle\", \"honest\", \"lucky\", \"rainbow\", \"diploma\", \"gift\", \"honor\", \"miracle\", \"sunrise\",\n",
    "                  \"family\", \"happy\", \"laughter\", \"paradise\", \"vacation\"]\n",
    "\n",
    "    return targets_1, targets_2, attributes_1, attributes_2\n",
    "\n",
    "\n",
    "# again african american vs european american names, but with different attributes\n",
    "def weat_5():\n",
    "    # excluded in GloVe experiments:  Tremayne, Latonya,\n",
    "    targets_1 = [\"Darnell\", \"Hakim\", \"Jermaine\", \"Kareem\", \"Jamal\", \"Leroy\", \"Rasheed\", \"Tyrone\", \"Aisha\", \"Ebony\",\n",
    "                \"Keisha\", \"Kenya\",  \"Lakisha\", \"Latoya\", \"Tamika\", \"Tanisha\", \"Tremayne\", \"Latonya\"]\n",
    "\n",
    "    # excluded as in the original paper: Jay, Kristen, (here only excluded in the glove experiments)\n",
    "    targets_2 = [\"Brad\", \"Brendan\", \"Geoffrey\", \"Greg\", \"Brett\",  \"Matthew\", \"Neil\", \"Todd\", \"Allison\", \"Anne\",\n",
    "                \"Carrie\", \"Emily\", \"Jill\", \"Laurie\",  \"Meredith\", \"Sarah\", \"Jay\", \"Kristen\"]\n",
    "\n",
    "    attributes_1 = [\"agony\", \"terrible\", \"horrible\", \"nasty\", \"evil\", \"war\", \"awful\", \"failure\"]\n",
    "\n",
    "    attributes_2 = [\"joy\", \"love\", \"peace\", \"wonderful\", \"pleasure\", \"friend\", \"laughter\", \"happy\"]\n",
    "\n",
    "    return targets_1, targets_2, attributes_1, attributes_2\n",
    "\n",
    "\n",
    "# NAACL \n",
    "def naacl():\n",
    "    targets_1 = [\"black\", \"africa\", \"african\", \"blacks\", \"africans\"]\n",
    "    targets_2 = [\"caucasian\", \"america\", \"european\", \"white\", \"bible\", \"priest\", \"caucasians\", \"americans\", \"europeans\"]\n",
    "    attributes_1 = [\"slave\", \"musician\", \"runner\", \"criminal\", \"homeless\", \"violent\", \"abuse\", \"crash\", \"drug\", \"dealer\", \"uncivilized\"]\n",
    "    attributes_2 = [\"manager\", \"executive\", \"redneck\", \"hillbilly\", \"farmer\", \"leader\", \"disciplined\", \"peaceful\", \"pure\", \"clean\", \"pleasant\", \"nice\"]\n",
    "    return targets_1, targets_2, attributes_1, attributes_2\n"
   ]
  },
  {
   "cell_type": "markdown",
   "metadata": {
    "id": "Gue2UH1kDVVO"
   },
   "source": [
    "### Religion"
   ]
  },
  {
   "cell_type": "code",
   "execution_count": 9,
   "metadata": {
    "executionInfo": {
     "elapsed": 818,
     "status": "ok",
     "timestamp": 1615478218086,
     "user": {
      "displayName": "Carolin Holtermann",
      "photoUrl": "",
      "userId": "03090939707808142119"
     },
     "user_tz": -60
    },
    "id": "DfY1cFzcwImO"
   },
   "outputs": [],
   "source": [
    "# NAACL\n",
    "def religiousTermsJews():\n",
    "    targets_1 = [\"judaism\", \"jew\", \"jews\", \"synagogue\", \"rabbi\", \"jewish\"]\n",
    "    targets_2 = [\"christianity\", \"christian\", \"christians\", \"church\", \"bible\", \"priest\"]\n",
    "    attributes_1 = [\"greedy\", \"cheap\", \"hairy\", \"liberal\", \"greed\", \"meek\", \"nerdy\", \"nerd\", \"hook-nose\", \"violin\"]\n",
    "    attributes_2 = [\"judgemental\", \"conservative\", \"familial\", \"generous\", \"generosity\", \"confident\", \"disciplined\", \"spiritual\"]\n",
    "    return targets_1, targets_2, attributes_1, attributes_2\n",
    "\n",
    "\n",
    "def religiousTermsMuslims():\n",
    "    targets_1 = [\"islam\", \"muslim\", \"muslims\", \"mosque\", \"quran\", \"imam\"]\n",
    "    targets_2 = [\"christianity\", \"christian\", \"christians\", \"church\", \"bible\", \"priest\"]\n",
    "    attributes_1 = [\"terrorist\", \"violent\", \"dirty\", \"uneducated\", \"threat\", \"dangerous\", \"criminal\"]\n",
    "    attributes_2 = [\"nonviolence\", \"safety\", \"lawful\", \"defend\", \"friendly\", \"friend\", \"peaceful\", \"clean\"]\n",
    "    return targets_1, targets_2, attributes_1, attributes_2"
   ]
  },
  {
   "cell_type": "markdown",
   "metadata": {
    "id": "m3NaLRBKDfxp"
   },
   "source": [
    "### Queerness"
   ]
  },
  {
   "cell_type": "code",
   "execution_count": 10,
   "metadata": {
    "executionInfo": {
     "elapsed": 813,
     "status": "ok",
     "timestamp": 1615478218086,
     "user": {
      "displayName": "Carolin Holtermann",
      "photoUrl": "",
      "userId": "03090939707808142119"
     },
     "user_tz": -60
    },
    "id": "3AxW8cqJYcCL"
   },
   "outputs": [],
   "source": [
    "def sexualTerms():\n",
    "    targets_1 = [\"gays\", \"lesbians\", \"homosexual\", \"bisexual\", \"queer\", \"imam\", \"homosexuals\", \"bisexual\", \"queers\", \"gay\", \"transgender\"]\n",
    "    targets_2 = [\"heterosexual\", \"straights\", \"heterosexuals\", \"monosexual\", \"monosexuals\", \"straight\"]\n",
    "    attributes_1 = [\"mentally\", \"ill\", \"flamboyant\", \"pedophile\", \"sin\", \"promiscuous\", \"unnormal\", \"immoral\", \"unethical\", \"wrong\"]\n",
    "    attributes_2 = [\"mentally\", \"strong\", \"modest\", \"normal\", \"moral\", \"clean\", \"true\", \"right\"]\n",
    "    return targets_1, targets_2, attributes_1, attributes_2"
   ]
  },
  {
   "cell_type": "markdown",
   "metadata": {
    "id": "n4SB9ebdJZpu"
   },
   "source": [
    "### Disabilities"
   ]
  },
  {
   "cell_type": "code",
   "execution_count": 11,
   "metadata": {
    "executionInfo": {
     "elapsed": 809,
     "status": "ok",
     "timestamp": 1615478218087,
     "user": {
      "displayName": "Carolin Holtermann",
      "photoUrl": "",
      "userId": "03090939707808142119"
     },
     "user_tz": -60
    },
    "id": "6zA8UPd8yKKg"
   },
   "outputs": [],
   "source": [
    "# desease - uncontrollability\n",
    "def weat_9():\n",
    "    targets_1 = [\"sick\", \"illness\", \"influenza\", \"disease\", \"virus\", \"cancer\"]\n",
    "    targets_2 = [\"sad\", \"hopeless\", \"gloomy\", \"tearful\", \"miserable\", \"depressed\"]\n",
    "    # in w2v experiments, the've replaced short-term with short\n",
    "    attributes_1 = [\"stable\", \"always\", \"constant\", \"persistent\", \"chronic\", \"prolonged\", \"forever\"]\n",
    "    attributes_2 = [\"impermanent\", \"unstable\", \"variable\", \"fleeting\", \"short-term\", \"brief\", \"occasional\"]\n",
    "\n",
    "    return targets_1, targets_2, attributes_1, attributes_2\n",
    "\n",
    "# disability vs healthy\n",
    "def disease_healthy():\n",
    "    targets_1 = [\"epilepsy\", \"deaf\", \"blind\", \"wheelchair\", \"schizophrenia\", \"paraplegia\", \"paraplegic\", \"quadriplegia\", \"chronical\", \"illness\", \"cognitive\", \"down\", \"syndrome\", \"mongoloid\", \"disability\", \n",
    "                \"invalid\", \"mental\", \"mentally\", \"cerebral\", \"mute\", \"disabled\", \"epileptic\", \"retarded\", \"dyslexia\", \"disorder\"]\n",
    "    targets_2 = [\"without\", \"normal\", \"healthy\"]\n",
    "    attributes_1 = [\"dumb\", \"cripple\", \"problem\", \"homeless\", \"drug\", \"alcohol\", \"ugly\", \"gun\", \"guns\", \"drugs\", \"addicts\", \"addict\", \"disgusting\"]\n",
    "    attributes_2 = [\"smart\", \"lawful\", \"strong\", \"normal\", \"life\"]\n",
    "\n",
    "    return targets_1, targets_2, attributes_1, attributes_2"
   ]
  },
  {
   "cell_type": "markdown",
   "metadata": {},
   "source": [
    "# Calculate Bias Statistics"
   ]
  },
  {
   "cell_type": "markdown",
   "metadata": {
    "id": "PaykCjHzcg1I"
   },
   "source": [
    "## Preprocessing and Functions"
   ]
  },
  {
   "cell_type": "code",
   "execution_count": 15,
   "metadata": {
    "executionInfo": {
     "elapsed": 503,
     "status": "ok",
     "timestamp": 1615478353269,
     "user": {
      "displayName": "Carolin Holtermann",
      "photoUrl": "",
      "userId": "03090939707808142119"
     },
     "user_tz": -60
    },
    "id": "X6LXn9LBWzQF"
   },
   "outputs": [],
   "source": [
    "def decontracted(phrase):\n",
    "    # specific\n",
    "    phrase = re.sub(r\"won\\'t\", \"will not\", phrase)\n",
    "    phrase = re.sub(r\"can\\'t\", \"can not\", phrase)\n",
    "\n",
    "    # general\n",
    "    phrase = re.sub(r\"n\\'t\", \" not\", phrase)\n",
    "    phrase = re.sub(r\"\\'re\", \" are\", phrase)\n",
    "    phrase = re.sub(r\"\\'s\", \" is\", phrase)\n",
    "    phrase = re.sub(r\"\\'d\", \" would\", phrase)\n",
    "    phrase = re.sub(r\"\\'ll\", \" will\", phrase)\n",
    "    phrase = re.sub(r\"\\'t\", \" not\", phrase)\n",
    "    phrase = re.sub(r\"\\'ve\", \" have\", phrase)\n",
    "    phrase = re.sub(r\"\\'m\", \" am\", phrase)\n",
    "    return phrase\n",
    "\n",
    "stop_words = set(stopwords.words('english')) \n",
    "\n",
    "def preprocessString(opinion_string):\n",
    "    # 1. First Lower Case everything\n",
    "    opinion_string = opinion_string.lower()\n",
    "\n",
    "    # 2. Decontract words\n",
    "    opinion_string = decontracted(opinion_string)\n",
    "\n",
    "    # 3. Remove numbers\n",
    "    opinion_string = re.sub(r'\\d+', '', opinion_string)\n",
    "\n",
    "    # 4. Remove URLs\n",
    "    opinion_string = re.sub(r'\\w+:\\/{2}[\\d\\w-]+(\\.[\\d\\w-]+)*(?:(?:\\/[^\\s/]*))*', '', opinion_string)\n",
    "\n",
    "    # 5. Split into sentences\n",
    "    opinion_sentences = tokenize.sent_tokenize(opinion_string)\n",
    "\n",
    "    # 6. Split into tokens and remove punctuation\n",
    "    wordMap = []\n",
    "    for s in opinion_sentences:\n",
    "        s = re.sub(r\"[^A-Za-z]+\", \" \", s)\n",
    "        wordMap.append(word_tokenize(s))\n",
    "\n",
    "    return wordMap\n",
    "\n",
    "# Create Cartesian product\n",
    "def cartesianProductList(list1, list2):\n",
    "    cartesianProductList = []\n",
    "    for element in itertools.product(list1, list2):\n",
    "        cartesianProductList.append(element)\n",
    "    return cartesianProductList\n",
    "\n",
    "# Count occurrences\n",
    "def countOccurrence(comment, targetWordList):\n",
    "    totalCount = 0\n",
    "    for sentence in comment: \n",
    "        for e in targetWordList:\n",
    "            temp = sentence.count(e)\n",
    "            totalCount = totalCount + temp\n",
    "    return totalCount\n",
    "\n",
    "# Check whether tuple in sentence\n",
    "def findBias(comment, cartesianProductList):\n",
    "    biasedSentences = []\n",
    "    foundTuples = []\n",
    "    for sentence in comment:\n",
    "        for tup in cartesianProductList:\n",
    "            if tup[0] in sentence and tup[1] in sentence:\n",
    "                biasedSentences.append(sentence)\n",
    "                foundTuples.append(tup)\n",
    "    return pd.Series([biasedSentences, foundTuples, len(foundTuples)])\n",
    "\n",
    "# Check whether tuple in sentence\n",
    "def findBiasCount(comment, cartesianProductList):\n",
    "    foundTuples = []\n",
    "    for sentence in comment:\n",
    "        for tup in cartesianProductList:\n",
    "            if tup[0] in sentence and tup[1] in sentence:\n",
    "                foundTuples.append(tup)\n",
    "    return len(foundTuples)\n"
   ]
  },
  {
   "cell_type": "code",
   "execution_count": 22,
   "metadata": {
    "id": "_MwZ7VL89nID"
   },
   "outputs": [],
   "source": [
    "# Apply preprocessing on all dataframes\n",
    "dataset_list = [gaq_debate, gaq_cqa, gaq_reviews, debatesOrg_frame, iac_convinceMe]\n",
    "\n",
    "for df in dataset_list:\n",
    "    df['preprocessed'] = df.apply(lambda row: preprocessString(row['text']),axis=1)"
   ]
  },
  {
   "cell_type": "markdown",
   "metadata": {
    "id": "wzeMZVpUyv3T"
   },
   "source": [
    "## Run all combinations"
   ]
  },
  {
   "cell_type": "code",
   "execution_count": 23,
   "metadata": {
    "executionInfo": {
     "elapsed": 941,
     "status": "ok",
     "timestamp": 1615444616015,
     "user": {
      "displayName": "Carolin Holtermann",
      "photoUrl": "",
      "userId": "03090939707808142119"
     },
     "user_tz": -60
    },
    "id": "fwPywRV4d2el"
   },
   "outputs": [],
   "source": [
    "resultData = []\n",
    "def calculateSummary(datasetName, dataSet, biasName, targetTermDesc, targetTermFunctionName, targetTermFunction):\n",
    "    t1, t2, a1, a2 = targetTermFunction()\n",
    "    t1 = [x.lower() for x in t1]\n",
    "    t2 = [x.lower() for x in t2]\n",
    "    a1 = [x.lower() for x in a1]\n",
    "    a2 = [x.lower() for x in a2]\n",
    "    df = dataSet.copy()\n",
    "\n",
    "    print(t1)\n",
    "    print(t2)\n",
    "\n",
    "    # Count word occurrences\n",
    "    df['minorityCount'] =  df.apply(lambda row: countOccurrence(row['preprocessed'], t1),axis=1)\n",
    "    df['majorityCount'] =  df.apply(lambda row: countOccurrence(row['preprocessed'], t2),axis=1)\n",
    "\n",
    "    totalMinorityOccurrence = df['minorityCount'].sum() \n",
    "    totalMajorityOccurrence = df['majorityCount'].sum() \n",
    "\n",
    "    # Get biased statistics\n",
    "    T1_A1_cartesianProduct = cartesianProductList(t1, a1)\n",
    "    T1_A2_cartesianProduct = cartesianProductList(t1, a2)\n",
    "    T2_A1_cartesianProduct = cartesianProductList(t2, a1)\n",
    "    T2_A2_cartesianProduct = cartesianProductList(t2, a2)\n",
    "\n",
    "    df[['T1 x A1 Sentences', 'T1 x A1 Tuples Found', 'T1 x A1 Count']] = df.apply(lambda row: findBias(row['preprocessed'], T1_A1_cartesianProduct),axis=1)\n",
    "    df[['T1 x A2 Sentences', 'T1 x A2 Tuples Found', 'T1 x A2 Count']] = df.apply(lambda row: findBias(row['preprocessed'], T1_A2_cartesianProduct),axis=1)\n",
    "    df[['T2 x A1 Sentences', 'T2 x A1 Tuples Found', 'T2 x A1 Count']] = df.apply(lambda row: findBias(row['preprocessed'], T2_A1_cartesianProduct),axis=1)\n",
    "    df[['T2 x A2 Sentences', 'T2 x A2 Tuples Found', 'T2 x A2 Count']] = df.apply(lambda row: findBias(row['preprocessed'], T2_A2_cartesianProduct),axis=1)\n",
    "\n",
    "    t1_a1_total = df['T1 x A1 Count'].sum() \n",
    "    if (t1_a1_total > 0):\n",
    "        t1_a1_percentage = (t1_a1_total / totalMinorityOccurrence) * 100\n",
    "        t1_a1_percentage = round(t1_a1_percentage, 2)\n",
    "    else:\n",
    "        t1_a1_percentage = 0\n",
    "\n",
    "    t1_a2_total = df['T1 x A2 Count'].sum() \n",
    "    if (t1_a2_total > 0):\n",
    "        t1_a2_percentage = (t1_a2_total / totalMinorityOccurrence) * 100\n",
    "        t1_a2_percentage = round(t1_a2_percentage, 2)\n",
    "    else:\n",
    "        t1_a2_percentage = 0\n",
    "\n",
    "    t2_a1_total = df['T2 x A1 Count'].sum() \n",
    "    if (t2_a1_total > 0):\n",
    "        t2_a1_percentage = (t2_a1_total / totalMajorityOccurrence) * 100\n",
    "        t2_a1_percentage = round(t2_a1_percentage, 2)\n",
    "    else: \n",
    "        t2_a1_percentage = 0\n",
    "\n",
    "    t2_a2_total = df['T2 x A2 Count'].sum() \n",
    "    if (t2_a2_total > 0):\n",
    "        t2_a2_percentage = (t2_a2_total / totalMajorityOccurrence) * 100\n",
    "        t2_a2_percentage = round(t2_a2_percentage, 2)\n",
    "    else:\n",
    "        t2_a2_percentage = 0\n",
    "\n",
    "    resultData.append([datasetName, biasName, targetTermDesc, targetTermFunctionName, totalMinorityOccurrence, totalMajorityOccurrence, t1_a1_total, t1_a1_percentage, t1_a2_total, t1_a2_percentage, t2_a1_total, t2_a1_percentage, t2_a2_total, t2_a2_percentage])\n",
    "\n",
    "    return pd.Series([totalMinorityOccurrence, totalMajorityOccurrence, t1_a1_total, t1_a2_total, t2_a1_total, t2_a2_total]), df\n"
   ]
  },
  {
   "cell_type": "code",
   "execution_count": 71,
   "metadata": {
    "colab": {
     "base_uri": "https://localhost:8080/",
     "output_embedded_package_id": "19-rH9-bomGGRSL-Ar6T3za3rqq0IAlsj"
    },
    "executionInfo": {
     "elapsed": 12402539,
     "status": "ok",
     "timestamp": 1615457019794,
     "user": {
      "displayName": "Carolin Holtermann",
      "photoUrl": "",
      "userId": "03090939707808142119"
     },
     "user_tz": -60
    },
    "id": "lUE2_fSKqBD9",
    "outputId": "82a1cc15-5ab0-4da9-f426-33c27cdd9945"
   },
   "outputs": [
    {
     "data": {
      "text/plain": [
       "Output hidden; open in https://colab.research.google.com to view."
      ]
     },
     "metadata": {},
     "output_type": "display_data"
    }
   ],
   "source": [
    "resultData = []\n",
    "dataset_list = [['GAQ Debate', gaq_debate],\n",
    "                ['GAQ CQA', gaq_cqa],\n",
    "                ['GAQ Reviews', gaq_reviews],\n",
    "                ['Debates.org', debatesOrg_frame],\n",
    "                ['IAC ConvinceMe', iac_convinceMe]]\n",
    "\n",
    "target_term_function_list = [['Gender', 'Professions', 'WinoBias', winoBias],\n",
    "                             ['Gender', 'Female vs. Male Names', 'Weat-6', weat_6],\n",
    "                             ['Gender', 'Math', 'Weat-7', weat_7],\n",
    "                             ['Gender', 'Science', 'Weat-8', weat_8],\n",
    "\n",
    "                             ['Ethnicity', 'Eur.-Afr. American Names', 'Weat-3', weat_3],\n",
    "                             ['Ethnicity', 'Eur.-Afr. American Names', 'Weat-4', weat_4],\n",
    "                             ['Ethnicity', 'Eur.-Afr. American Names', 'Weat-5', weat_5],\n",
    "                             ['Ethnicity', 'Eur.-Afr. Terms', 'NAACL', naacl],\n",
    "\n",
    "                             ['Religious', 'Jews vs. Christians', 'NAACL', religiousTermsJews],\n",
    "                             ['Religious', 'Muslims vs. Christians', 'NAACL', religiousTermsMuslims],\n",
    "\n",
    "                             ['Sexual Orientation', 'All vs. Hetero', 'NAACL', sexualTerms],\n",
    "\n",
    "                             ['Disease', 'Mental vs. Physical Disease', 'NAACL', weat_9],\n",
    "                             ['Disability', 'Disability vs. Healthy', 'NAACL', disease_healthy]\n",
    "                             ]\n",
    "\n",
    "def runall():\n",
    "    for d in dataset_list: \n",
    "        for t in target_term_function_list:\n",
    "            print(d)\n",
    "            print(t)\n",
    "            calculateSummary(d[0], d[1], t[0], t[1], t[2], t[3])\n",
    "\n",
    "runall()"
   ]
  },
  {
   "cell_type": "code",
   "execution_count": 72,
   "metadata": {
    "colab": {
     "base_uri": "https://localhost:8080/",
     "height": 419
    },
    "executionInfo": {
     "elapsed": 455,
     "status": "ok",
     "timestamp": 1615457021358,
     "user": {
      "displayName": "Carolin Holtermann",
      "photoUrl": "",
      "userId": "03090939707808142119"
     },
     "user_tz": -60
    },
    "id": "Hs9jutHlfipC",
    "outputId": "369d3cc8-fcbf-4544-e6c3-2bb41edbe21b"
   },
   "outputs": [
    {
     "data": {
      "text/html": [
       "<div>\n",
       "<style scoped>\n",
       "    .dataframe tbody tr th:only-of-type {\n",
       "        vertical-align: middle;\n",
       "    }\n",
       "\n",
       "    .dataframe tbody tr th {\n",
       "        vertical-align: top;\n",
       "    }\n",
       "\n",
       "    .dataframe thead th {\n",
       "        text-align: right;\n",
       "    }\n",
       "</style>\n",
       "<table border=\"1\" class=\"dataframe\">\n",
       "  <thead>\n",
       "    <tr style=\"text-align: right;\">\n",
       "      <th></th>\n",
       "      <th>Dataset</th>\n",
       "      <th>Bias Topic</th>\n",
       "      <th>Target Terms</th>\n",
       "      <th>Target Term List</th>\n",
       "      <th>Occ. Minority Group</th>\n",
       "      <th>Occ. Majority Group</th>\n",
       "      <th># T1xA1</th>\n",
       "      <th>% T1xA1</th>\n",
       "      <th># T1xA2</th>\n",
       "      <th>% T1xA2</th>\n",
       "      <th># T2xA1</th>\n",
       "      <th>% T2xA1</th>\n",
       "      <th># T2xA2</th>\n",
       "      <th>% T2xA2</th>\n",
       "    </tr>\n",
       "  </thead>\n",
       "  <tbody>\n",
       "    <tr>\n",
       "      <th>0</th>\n",
       "      <td>GAQ Debate</td>\n",
       "      <td>Gender</td>\n",
       "      <td>Professions</td>\n",
       "      <td>WinoBias</td>\n",
       "      <td>824</td>\n",
       "      <td>1808</td>\n",
       "      <td>6</td>\n",
       "      <td>0.73</td>\n",
       "      <td>13</td>\n",
       "      <td>1.58</td>\n",
       "      <td>6</td>\n",
       "      <td>0.33</td>\n",
       "      <td>8</td>\n",
       "      <td>0.44</td>\n",
       "    </tr>\n",
       "    <tr>\n",
       "      <th>1</th>\n",
       "      <td>GAQ Debate</td>\n",
       "      <td>Gender</td>\n",
       "      <td>Female vs. Male Names</td>\n",
       "      <td>Weat-6</td>\n",
       "      <td>5</td>\n",
       "      <td>60</td>\n",
       "      <td>0</td>\n",
       "      <td>0.00</td>\n",
       "      <td>0</td>\n",
       "      <td>0.00</td>\n",
       "      <td>1</td>\n",
       "      <td>1.67</td>\n",
       "      <td>1</td>\n",
       "      <td>1.67</td>\n",
       "    </tr>\n",
       "    <tr>\n",
       "      <th>2</th>\n",
       "      <td>GAQ Debate</td>\n",
       "      <td>Gender</td>\n",
       "      <td>Math</td>\n",
       "      <td>Weat-7</td>\n",
       "      <td>510</td>\n",
       "      <td>1374</td>\n",
       "      <td>2</td>\n",
       "      <td>0.39</td>\n",
       "      <td>1</td>\n",
       "      <td>0.20</td>\n",
       "      <td>1</td>\n",
       "      <td>0.07</td>\n",
       "      <td>6</td>\n",
       "      <td>0.44</td>\n",
       "    </tr>\n",
       "    <tr>\n",
       "      <th>3</th>\n",
       "      <td>GAQ Debate</td>\n",
       "      <td>Gender</td>\n",
       "      <td>Science</td>\n",
       "      <td>Weat-8</td>\n",
       "      <td>365</td>\n",
       "      <td>1207</td>\n",
       "      <td>1</td>\n",
       "      <td>0.27</td>\n",
       "      <td>1</td>\n",
       "      <td>0.27</td>\n",
       "      <td>0</td>\n",
       "      <td>0.00</td>\n",
       "      <td>13</td>\n",
       "      <td>1.08</td>\n",
       "    </tr>\n",
       "    <tr>\n",
       "      <th>4</th>\n",
       "      <td>GAQ Debate</td>\n",
       "      <td>Ethnicity</td>\n",
       "      <td>Eur.-Afr. American Names</td>\n",
       "      <td>Weat-3</td>\n",
       "      <td>1</td>\n",
       "      <td>47</td>\n",
       "      <td>0</td>\n",
       "      <td>0.00</td>\n",
       "      <td>0</td>\n",
       "      <td>0.00</td>\n",
       "      <td>1</td>\n",
       "      <td>2.13</td>\n",
       "      <td>4</td>\n",
       "      <td>8.51</td>\n",
       "    </tr>\n",
       "    <tr>\n",
       "      <th>...</th>\n",
       "      <td>...</td>\n",
       "      <td>...</td>\n",
       "      <td>...</td>\n",
       "      <td>...</td>\n",
       "      <td>...</td>\n",
       "      <td>...</td>\n",
       "      <td>...</td>\n",
       "      <td>...</td>\n",
       "      <td>...</td>\n",
       "      <td>...</td>\n",
       "      <td>...</td>\n",
       "      <td>...</td>\n",
       "      <td>...</td>\n",
       "      <td>...</td>\n",
       "    </tr>\n",
       "    <tr>\n",
       "      <th>60</th>\n",
       "      <td>IAC ConvinceMe</td>\n",
       "      <td>Religious</td>\n",
       "      <td>Jews vs. Christians</td>\n",
       "      <td>NAACL</td>\n",
       "      <td>1432</td>\n",
       "      <td>10782</td>\n",
       "      <td>9</td>\n",
       "      <td>0.63</td>\n",
       "      <td>5</td>\n",
       "      <td>0.35</td>\n",
       "      <td>41</td>\n",
       "      <td>0.38</td>\n",
       "      <td>80</td>\n",
       "      <td>0.74</td>\n",
       "    </tr>\n",
       "    <tr>\n",
       "      <th>61</th>\n",
       "      <td>IAC ConvinceMe</td>\n",
       "      <td>Religious</td>\n",
       "      <td>Muslims vs. Christians</td>\n",
       "      <td>NAACL</td>\n",
       "      <td>2434</td>\n",
       "      <td>10782</td>\n",
       "      <td>115</td>\n",
       "      <td>4.72</td>\n",
       "      <td>57</td>\n",
       "      <td>2.34</td>\n",
       "      <td>70</td>\n",
       "      <td>0.65</td>\n",
       "      <td>110</td>\n",
       "      <td>1.02</td>\n",
       "    </tr>\n",
       "    <tr>\n",
       "      <th>62</th>\n",
       "      <td>IAC ConvinceMe</td>\n",
       "      <td>Sexual Orientation</td>\n",
       "      <td>All vs. Hetero</td>\n",
       "      <td>NAACL</td>\n",
       "      <td>3360</td>\n",
       "      <td>785</td>\n",
       "      <td>266</td>\n",
       "      <td>7.92</td>\n",
       "      <td>321</td>\n",
       "      <td>9.55</td>\n",
       "      <td>30</td>\n",
       "      <td>3.82</td>\n",
       "      <td>67</td>\n",
       "      <td>8.54</td>\n",
       "    </tr>\n",
       "    <tr>\n",
       "      <th>63</th>\n",
       "      <td>IAC ConvinceMe</td>\n",
       "      <td>Disease</td>\n",
       "      <td>Mental vs. Physical Disease</td>\n",
       "      <td>NAACL</td>\n",
       "      <td>1750</td>\n",
       "      <td>527</td>\n",
       "      <td>35</td>\n",
       "      <td>2.00</td>\n",
       "      <td>0</td>\n",
       "      <td>0.00</td>\n",
       "      <td>21</td>\n",
       "      <td>3.98</td>\n",
       "      <td>0</td>\n",
       "      <td>0.00</td>\n",
       "    </tr>\n",
       "    <tr>\n",
       "      <th>64</th>\n",
       "      <td>IAC ConvinceMe</td>\n",
       "      <td>Disability</td>\n",
       "      <td>Disability vs. Healthy</td>\n",
       "      <td>NAACL</td>\n",
       "      <td>5469</td>\n",
       "      <td>5534</td>\n",
       "      <td>230</td>\n",
       "      <td>4.21</td>\n",
       "      <td>265</td>\n",
       "      <td>4.85</td>\n",
       "      <td>240</td>\n",
       "      <td>4.34</td>\n",
       "      <td>1011</td>\n",
       "      <td>18.27</td>\n",
       "    </tr>\n",
       "  </tbody>\n",
       "</table>\n",
       "<p>65 rows × 14 columns</p>\n",
       "</div>"
      ],
      "text/plain": [
       "           Dataset          Bias Topic  ... # T2xA2 % T2xA2\n",
       "0       GAQ Debate              Gender  ...       8    0.44\n",
       "1       GAQ Debate              Gender  ...       1    1.67\n",
       "2       GAQ Debate              Gender  ...       6    0.44\n",
       "3       GAQ Debate              Gender  ...      13    1.08\n",
       "4       GAQ Debate           Ethnicity  ...       4    8.51\n",
       "..             ...                 ...  ...     ...     ...\n",
       "60  IAC ConvinceMe           Religious  ...      80    0.74\n",
       "61  IAC ConvinceMe           Religious  ...     110    1.02\n",
       "62  IAC ConvinceMe  Sexual Orientation  ...      67    8.54\n",
       "63  IAC ConvinceMe             Disease  ...       0    0.00\n",
       "64  IAC ConvinceMe          Disability  ...    1011   18.27\n",
       "\n",
       "[65 rows x 14 columns]"
      ]
     },
     "execution_count": 72,
     "metadata": {
      "tags": []
     },
     "output_type": "execute_result"
    }
   ],
   "source": [
    "headers = ['Dataset', 'Bias Topic', 'Target Terms', 'Target Term List', 'Occ. Minority Group', 'Occ. Majority Group', '# T1xA1', '% T1xA1', '# T1xA2',  '% T1xA2', '# T2xA1', '% T2xA1', '# T2xA2', '% T2xA2']\n",
    "\n",
    "result_df = pd.DataFrame(resultData, columns = headers) \n",
    "result_df"
   ]
  },
  {
   "cell_type": "code",
   "execution_count": null,
   "metadata": {},
   "outputs": [],
   "source": [
    "result_df.to_csv('results_corpora_evaluation')"
   ]
  },
  {
   "cell_type": "markdown",
   "metadata": {},
   "source": [
    "# CHARTS"
   ]
  },
  {
   "cell_type": "code",
   "execution_count": 26,
   "metadata": {},
   "outputs": [
    {
     "name": "stderr",
     "output_type": "stream",
     "text": [
      "The PostScript backend does not support transparency; partially transparent artists will be rendered opaque.\n",
      "The PostScript backend does not support transparency; partially transparent artists will be rendered opaque.\n",
      "The PostScript backend does not support transparency; partially transparent artists will be rendered opaque.\n",
      "The PostScript backend does not support transparency; partially transparent artists will be rendered opaque.\n",
      "The PostScript backend does not support transparency; partially transparent artists will be rendered opaque.\n",
      "The PostScript backend does not support transparency; partially transparent artists will be rendered opaque.\n",
      "The PostScript backend does not support transparency; partially transparent artists will be rendered opaque.\n",
      "The PostScript backend does not support transparency; partially transparent artists will be rendered opaque.\n",
      "The PostScript backend does not support transparency; partially transparent artists will be rendered opaque.\n",
      "The PostScript backend does not support transparency; partially transparent artists will be rendered opaque.\n",
      "The PostScript backend does not support transparency; partially transparent artists will be rendered opaque.\n",
      "The PostScript backend does not support transparency; partially transparent artists will be rendered opaque.\n",
      "The PostScript backend does not support transparency; partially transparent artists will be rendered opaque.\n",
      "The PostScript backend does not support transparency; partially transparent artists will be rendered opaque.\n",
      "The PostScript backend does not support transparency; partially transparent artists will be rendered opaque.\n",
      "The PostScript backend does not support transparency; partially transparent artists will be rendered opaque.\n",
      "The PostScript backend does not support transparency; partially transparent artists will be rendered opaque.\n",
      "The PostScript backend does not support transparency; partially transparent artists will be rendered opaque.\n",
      "The PostScript backend does not support transparency; partially transparent artists will be rendered opaque.\n",
      "The PostScript backend does not support transparency; partially transparent artists will be rendered opaque.\n",
      "The PostScript backend does not support transparency; partially transparent artists will be rendered opaque.\n",
      "The PostScript backend does not support transparency; partially transparent artists will be rendered opaque.\n",
      "The PostScript backend does not support transparency; partially transparent artists will be rendered opaque.\n",
      "The PostScript backend does not support transparency; partially transparent artists will be rendered opaque.\n",
      "The PostScript backend does not support transparency; partially transparent artists will be rendered opaque.\n",
      "The PostScript backend does not support transparency; partially transparent artists will be rendered opaque.\n",
      "The PostScript backend does not support transparency; partially transparent artists will be rendered opaque.\n",
      "The PostScript backend does not support transparency; partially transparent artists will be rendered opaque.\n",
      "The PostScript backend does not support transparency; partially transparent artists will be rendered opaque.\n",
      "The PostScript backend does not support transparency; partially transparent artists will be rendered opaque.\n",
      "The PostScript backend does not support transparency; partially transparent artists will be rendered opaque.\n",
      "The PostScript backend does not support transparency; partially transparent artists will be rendered opaque.\n",
      "The PostScript backend does not support transparency; partially transparent artists will be rendered opaque.\n",
      "The PostScript backend does not support transparency; partially transparent artists will be rendered opaque.\n",
      "The PostScript backend does not support transparency; partially transparent artists will be rendered opaque.\n",
      "The PostScript backend does not support transparency; partially transparent artists will be rendered opaque.\n",
      "The PostScript backend does not support transparency; partially transparent artists will be rendered opaque.\n",
      "The PostScript backend does not support transparency; partially transparent artists will be rendered opaque.\n",
      "The PostScript backend does not support transparency; partially transparent artists will be rendered opaque.\n",
      "The PostScript backend does not support transparency; partially transparent artists will be rendered opaque.\n",
      "The PostScript backend does not support transparency; partially transparent artists will be rendered opaque.\n",
      "The PostScript backend does not support transparency; partially transparent artists will be rendered opaque.\n",
      "The PostScript backend does not support transparency; partially transparent artists will be rendered opaque.\n",
      "The PostScript backend does not support transparency; partially transparent artists will be rendered opaque.\n",
      "The PostScript backend does not support transparency; partially transparent artists will be rendered opaque.\n",
      "The PostScript backend does not support transparency; partially transparent artists will be rendered opaque.\n",
      "The PostScript backend does not support transparency; partially transparent artists will be rendered opaque.\n",
      "The PostScript backend does not support transparency; partially transparent artists will be rendered opaque.\n",
      "The PostScript backend does not support transparency; partially transparent artists will be rendered opaque.\n",
      "The PostScript backend does not support transparency; partially transparent artists will be rendered opaque.\n",
      "The PostScript backend does not support transparency; partially transparent artists will be rendered opaque.\n",
      "The PostScript backend does not support transparency; partially transparent artists will be rendered opaque.\n",
      "The PostScript backend does not support transparency; partially transparent artists will be rendered opaque.\n",
      "The PostScript backend does not support transparency; partially transparent artists will be rendered opaque.\n",
      "The PostScript backend does not support transparency; partially transparent artists will be rendered opaque.\n",
      "The PostScript backend does not support transparency; partially transparent artists will be rendered opaque.\n",
      "The PostScript backend does not support transparency; partially transparent artists will be rendered opaque.\n",
      "The PostScript backend does not support transparency; partially transparent artists will be rendered opaque.\n",
      "The PostScript backend does not support transparency; partially transparent artists will be rendered opaque.\n",
      "The PostScript backend does not support transparency; partially transparent artists will be rendered opaque.\n",
      "The PostScript backend does not support transparency; partially transparent artists will be rendered opaque.\n",
      "The PostScript backend does not support transparency; partially transparent artists will be rendered opaque.\n"
     ]
    },
    {
     "data": {
      "image/png": "[encoded data removed]",
      "text/plain": [
       "<Figure size 576x288 with 1 Axes>"
      ]
     },
     "metadata": {},
     "output_type": "display_data"
    }
   ],
   "source": [
    "result_df = pd.read_csv(\"results_corpora_evaluation.csv\")\n",
    "\n",
    "result_df.loc[result_df['Bias Topic'] == 'Sexual Orientation', 'Bias Topic'] = 'Queerness'\n",
    "\n",
    "result_df.loc[result_df['Dataset'] == 'IAC ConvinceMe', 'Dataset'] = 'IAC'\n",
    "\n",
    "result_df['Dataset'].unique()\n",
    "\n",
    "result_df = result_df[result_df['Bias Topic'] != 'Disability']\n",
    "\n",
    "# Define the sorter\n",
    "sorter = ['Gender', 'Queerness', 'Ethnicity', 'Religious', 'Disease']\n",
    "\n",
    "result_df['Bias Topic'] = result_df['Bias Topic'].astype(\"category\")\n",
    "result_df['Bias Topic'].cat.set_categories(sorter, inplace=True, ordered=True)\n",
    "result_df.sort_values('Bias Topic', inplace=True)\n",
    "\n",
    "subset = result_df[['Dataset', 'Bias Topic', '% T1xA1']]\n",
    "\n",
    "df_per_bias = subset.groupby(by=['Dataset', 'Bias Topic']).mean().reset_index()\n",
    "\n",
    "# Create Color Palette\n",
    "palette ={\"Debate.org\": \"C1\", \n",
    "          \"GAQ CQA\": \"C6\", \n",
    "          \"IAC\": \"C4\", \n",
    "          \"GAQ Reviews\": \"C3\",\n",
    "          \"GAQ Debate\": \"C2\"\n",
    "         }\n",
    "\n",
    "sns.set_palette(\"Paired\")\n",
    "plt.figure(figsize=(8,4))\n",
    "ax = sns.barplot(x=\"Bias Topic\", y=\"% T1xA1\", hue='Dataset', data=df_per_bias, alpha=0.9, palette=palette)\n",
    "\n",
    "\n",
    "ax.set_title('')\n",
    "ax.set_ylabel('% T1xA1')\n",
    "ax.set_xticklabels(ax.get_xticklabels(), fontsize=12)\n",
    "plt.legend(loc='upper right')\n",
    "\n",
    "ax.figure.savefig('../plots/corpora_bias_evaluation.eps', format='eps', dpi=1000)"
   ]
  }
 ],
 "metadata": {
  "colab": {
   "authorship_tag": "ABX9TyMOoX+4bF9OpxUPilILCoSj",
   "collapsed_sections": [
    "zpp7lBj6t-Hk",
    "ikNGdfWN19kP",
    "Ys_0g4zGtMvv",
    "Mhi-l4nuHsWb",
    "KWz3bWJJ5Dvr",
    "LVLzJ0w7vyhT"
   ],
   "name": "Argumentation Bias Evaluation.ipynb",
   "provenance": [],
   "toc_visible": true
  },
  "kernelspec": {
   "display_name": "Python 3",
   "language": "python",
   "name": "python3"
  },
  "language_info": {
   "codemirror_mode": {
    "name": "ipython",
    "version": 3
   },
   "file_extension": ".py",
   "mimetype": "text/x-python",
   "name": "python",
   "nbconvert_exporter": "python",
   "pygments_lexer": "ipython3",
   "version": "3.7.10"
  },
  "toc": {
   "base_numbering": 1,
   "nav_menu": {},
   "number_sections": true,
   "sideBar": true,
   "skip_h1_title": false,
   "title_cell": "Table of Contents",
   "title_sidebar": "Contents",
   "toc_cell": false,
   "toc_position": {},
   "toc_section_display": true,
   "toc_window_display": true
  }
 },
 "nbformat": 4,
 "nbformat_minor": 1
}
