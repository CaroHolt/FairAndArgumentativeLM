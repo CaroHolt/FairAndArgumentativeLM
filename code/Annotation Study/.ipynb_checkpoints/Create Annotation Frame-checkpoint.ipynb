{
 "cells": [
  {
   "cell_type": "code",
   "execution_count": 1,
   "id": "medical-leeds",
   "metadata": {},
   "outputs": [
    {
     "name": "stderr",
     "output_type": "stream",
     "text": [
      "[nltk_data] Downloading package stopwords to\n",
      "[nltk_data]     C:\\Users\\d067795\\AppData\\Roaming\\nltk_data...\n",
      "[nltk_data]   Package stopwords is already up-to-date!\n",
      "[nltk_data] Downloading package punkt to\n",
      "[nltk_data]     C:\\Users\\d067795\\AppData\\Roaming\\nltk_data...\n",
      "[nltk_data]   Package punkt is already up-to-date!\n"
     ]
    }
   ],
   "source": [
    "import pandas as pd\n",
    "import re\n",
    "import nltk\n",
    "import json\n",
    "import itertools\n",
    "import string\n",
    "from nltk.tokenize import word_tokenize\n",
    "from nltk.corpus import stopwords\n",
    "from nltk import tokenize\n",
    "from itertools import *\n",
    "from click import style\n",
    "import numpy as np\n",
    "import matplotlib.pyplot as plt\n",
    "from tqdm import tqdm\n",
    "import logging\n",
    "import os\n",
    "import json_lines\n",
    "import seaborn as sns\n",
    "tqdm.pandas()\n",
    "\n",
    "\n",
    "nltk.download('stopwords')\n",
    "nltk.download('punkt')\n",
    "pd.set_option('display.max_colwidth', None)"
   ]
  },
  {
   "cell_type": "markdown",
   "id": "65257595",
   "metadata": {},
   "source": [
    "# Include Utils"
   ]
  },
  {
   "cell_type": "code",
   "execution_count": null,
   "id": "aedd1267",
   "metadata": {},
   "outputs": [],
   "source": [
    "%run ../utils/helper_functions.py"
   ]
  },
  {
   "cell_type": "markdown",
   "id": "emerging-barbados",
   "metadata": {},
   "source": [
    "# Load dataset"
   ]
  },
  {
   "cell_type": "code",
   "execution_count": 2,
   "id": "disciplinary-austria",
   "metadata": {},
   "outputs": [],
   "source": [
    "with open(\"../../data/debateorg/debateorg.json\", \"r\") as d:\n",
    "    debates_dict = json.load(d)\n",
    "with open(\"../../data/debateorg/users.json\", \"r\") as u:\n",
    "      users_dict = json.load(u)"
   ]
  },
  {
   "cell_type": "code",
   "execution_count": 4,
   "id": "devoted-verse",
   "metadata": {},
   "outputs": [
    {
     "name": "stderr",
     "output_type": "stream",
     "text": [
      "100%|██████████████████████████████████████████████████████████████████████████| 78376/78376 [00:07<00:00, 9827.50it/s]\n"
     ]
    }
   ],
   "source": [
    "df_debates = extract_data(debates_dict, users_dict)"
   ]
  },
  {
   "cell_type": "markdown",
   "id": "neither-three",
   "metadata": {},
   "source": [
    "# Load Target Terms"
   ]
  },
  {
   "cell_type": "markdown",
   "id": "interested-education",
   "metadata": {},
   "source": [
    "## Queerphobia"
   ]
  },
  {
   "cell_type": "code",
   "execution_count": 10,
   "id": "refined-japan",
   "metadata": {},
   "outputs": [],
   "source": [
    "def queerphobia_tt():\n",
    "    targets_1 = [\"gay\", \"gays\", \"lesbian\", \"lesbians\", \"bisexual\", \"bisexuals\", \"homosexual\", \"homosexuals\",\n",
    "                \"transgender\", \"transgenders\", \"sapphic\", \"sapphics\", \"pansexual\", \"pansexuals\", \"queer\", \"queers\",\n",
    "                \"genderqueer\", \"genderqueers\", \"transsexual\", \"transsexuals\", \"crosssexual\", \"crosssexuals\", \"epicene\",\n",
    "                 \"epicenes\", \"lgbtq\", \"lgbtqi\", \"hermaphroditic\", \"hermaphrodite\", \"hermaphrodites\", \"androgynous\", \"androgyne\",\n",
    "                 \"androgynes\", \"intersex\"]\n",
    "    targets_2 = [\"straight\", \"straights\", \"monosexual\", \"monosexuals\", \"heterosexual\", \"heterosexuals\", \"cisgender\",\n",
    "                \"cisgenders\", \"sexually normal\", \"hetero\", \"heteros\", \"unisexual\", \"unisexuals\"]  \n",
    "    attributes_1 = [\"mentally ill\", \"polygamous\", \"flamboyant\", \"pedophile\", \"sexual predator\", \"mental disorder\",\n",
    "                    \"irreligious\", \"villain\", \"serial killer\", \"depress\", \"adultery\", \"drug addict\", \"sadist\", \"arts\",\n",
    "                    \"artistic\", \"theatre\", \"dramatic\", \"show queen\", \"fashion\", \"predator\", \"party drugs\",\n",
    "                    \"illicit drugs\", \"alcohol\", \"sexual abuse\", \"child rapist\", \"indecisi\", \"promiscuous\",\n",
    "                    \"sexually manipulative\", \"prostitute\", \"drag queen\", \"drag king\", \"criminal\", \"hypersexual\",\n",
    "                    \"asexual\", \"pervert\", \"perverts\", \"poofter\", \"faggot\", \"fag\", \"weak\", \"timid\", \"loser\", \"loner\",\n",
    "                    \"lonely\", \"sin\", \"disease\", \"confuse\", \"strange\", \"weird\", \"coward\", \"sexually abnormal\",\n",
    "                    \"immoral\", \"insecure\", \"repulsive\", \"frustrat\", \"sinful\", \"sensitive\", \"weak minded\", \"lack self control\",\n",
    "                    \"oversex\", \"submissive\", \"emotional\"]\n",
    "    attributes_2 = [\"mentally\", \"strong\", \"monogamous\", \"modest\", \"teleiophile\", \"protector\", \"mental stability\",\n",
    "                    \"hero\", \"police officer\", \"cheerful\", \"healthy\", \"compassionate\", \"scientific\", \"science\", \"subtle\",\n",
    "                    \"unfashion\", \"defender\", \"determined\", \"moral\", \"chaste\", \"cisgender\", \"lawful\", \"decent\", \"saint\",\n",
    "                    \"faggot\", \"strong\", \"daring\", \"winner\", \"cheerful\", \"virtue\", \"health\", \"assured\", \"normal\",\n",
    "                    \"normal\", \"brave\", \"moral\", \"confident\", \"delightful\", \"satisfied\", \"innocent\", \"tough\",\n",
    "                    \"dominating\", \"unemotional\"]\n",
    "    return targets_1, targets_2, attributes_1, attributes_2"
   ]
  },
  {
   "cell_type": "markdown",
   "id": "interested-creation",
   "metadata": {},
   "source": [
    "## Islamophobia"
   ]
  },
  {
   "cell_type": "code",
   "execution_count": 43,
   "id": "seventh-block",
   "metadata": {},
   "outputs": [],
   "source": [
    "def islamophobia_tt():\n",
    "    targets_1 = [\"muslim\", \"muslims\", \"islam\", \"islamic\", \"islamism\", \"arab\", \"arabs\", \"quran\", \"koran\"]\n",
    "    targets_2 = [\"christian\", \"christians\", \"christianity\", \"church\", \"bible\", \"priest\"]   \n",
    "    attributes_1 = [\"terrorist\", \"terrorism\", \"threat\", \"threaten\", \"dangerous\", \"deadly\", \"attack\", \"bomb\", \"murder\",\n",
    "                    \"hijack\", \"criminal\", \"enemy\", \"war\", \"enemies\", \"extremist\", \"radical\", \"hate\", \"rich\", \"lazy\",\n",
    "                    \"flashy\", \"lazy sheik\", \"oil sheik\", \"rapist\", \"slaves\", \"shooter\", \"belly dancers\", \"hijab\",\n",
    "                    \"viel\", \"vielded\", \"oppressed\", \"patriarchy\", \"misogyny\", \"patriarchal\", \"deport\", \"detain\",\n",
    "                    \"thieves\", \"thug\", \"charlatan\", \"brute\", \"power hungry\", \"beard\", \"wealthy oilmen\",\n",
    "                    \"harem maiden\", \"suicide bomb\", \"headscarves\", \"violence\", \"violent\", \"hostile\", \"sinister\"]\n",
    "    attributes_2 = [\"police\", \"nonviolence\", \"safety\", \"defend\", \"helpful\", \"safe\", \"defend\", \"build\", \"restore\",\n",
    "                    \"relinquish\", \"lawful\", \"friend\", \"peace\", \"friends\", \"moderate\", \"conservative\", \"love\", \"poor\",\n",
    "                    \"energetic\", \"simple\", \"defender\", \"freemen\", \"hero\", \"hat\", \"unviel\", \"unvielded\", \"rejoiced\",\n",
    "                    \"matriarchy\", \"philogyny\", \"matriarchal\", \"admit\", \"liberate\", \"police\", \"hero\", \"honest\", \"mild\",\n",
    "                    \"gratified\", \"clean shave\", \"negotiator\", \"compassion\", \"gentle\", \"kind\", \"happy\"]\n",
    "    return targets_1, targets_2, attributes_1, attributes_2\n"
   ]
  },
  {
   "cell_type": "markdown",
   "id": "wooden-apache",
   "metadata": {},
   "source": [
    "# Preprocess Dataset"
   ]
  },
  {
   "cell_type": "code",
   "execution_count": 5,
   "id": "local-rating",
   "metadata": {},
   "outputs": [],
   "source": [
    "# Returns number of words in string\n",
    "def countWords(string):\n",
    "    state = 'OUT'\n",
    "    wc = 0\n",
    " \n",
    "    # Scan all characters one by one\n",
    "    for i in range(len(string)):\n",
    " \n",
    "        # If next character is a separator,\n",
    "        # set the state as OUT\n",
    "        if (string[i] == ' ' or string[i] == '\\n' or\n",
    "            string[i] == '\\t'):\n",
    "            state = 'OUT'\n",
    " \n",
    "        # If next character is not a word\n",
    "        # separator and state is OUT, then\n",
    "        # set the state as IN and increment\n",
    "        # word count\n",
    "        elif state == 'OUT':\n",
    "            state = 'IN'\n",
    "            wc += 1\n",
    " \n",
    "    # Return the number of words\n",
    "    return wc\n",
    " \n",
    "\n",
    "def decontracted(phrase):\n",
    "    # specific\n",
    "    phrase = re.sub(r\"won\\'t\", \"will not\", phrase)\n",
    "    phrase = re.sub(r\"can\\'t\", \"can not\", phrase)\n",
    "\n",
    "    # general\n",
    "    phrase = re.sub(r\"n\\'t\", \" not\", phrase)\n",
    "    phrase = re.sub(r\"\\'re\", \" are\", phrase)\n",
    "    phrase = re.sub(r\"\\'s\", \" is\", phrase)\n",
    "    phrase = re.sub(r\"\\'d\", \" would\", phrase)\n",
    "    phrase = re.sub(r\"\\'ll\", \" will\", phrase)\n",
    "    phrase = re.sub(r\"\\'t\", \" not\", phrase)\n",
    "    phrase = re.sub(r\"\\'ve\", \" have\", phrase)\n",
    "    phrase = re.sub(r\"\\'m\", \" am\", phrase)\n",
    "    return phrase\n",
    "\n",
    "stop_words = set(stopwords.words('english')) \n",
    "\n",
    "def preprocessStringToTokens(opinion_string):\n",
    "    # 1. First Lower Case everything\n",
    "    opinion_string = opinion_string.lower()\n",
    "\n",
    "    # 2. Decontract words\n",
    "    opinion_string = decontracted(opinion_string)\n",
    "\n",
    "    # 3. Remove numbers\n",
    "    opinion_string = re.sub(r'\\d+', '', opinion_string)\n",
    "\n",
    "    # 4. Remove URLs\n",
    "    opinion_string = re.sub(r'\\w+:\\/{2}[\\d\\w-]+(\\.[\\d\\w-]+)*(?:(?:\\/[^\\s/]*))*', '', opinion_string)\n",
    "\n",
    "    # 5. Split into sentences\n",
    "    opinion_sentences = tokenize.sent_tokenize(opinion_string)\n",
    "\n",
    "    # 6. Split into tokens and remove punctuation\n",
    "    wordMap = []\n",
    "    for s in opinion_sentences:\n",
    "        s = re.sub(r\"[^A-Za-z]+\", \" \", s)\n",
    "        wordMap.append(word_tokenize(s))\n",
    "\n",
    "    return wordMap\n",
    "\n",
    "def preprocessForAnnotation(opinion_string):\n",
    "    # 1. Lowercase letters\n",
    "    opinion_string = opinion_string.lower()\n",
    "    \n",
    "    # 2. Remove numbers\n",
    "    opinion_string = re.sub(r'\\d+', '', opinion_string)\n",
    "\n",
    "    # 3. Remove URLs\n",
    "    opinion_string = re.sub(r'\\w+:\\/{2}[\\d\\w-]+(\\.[\\d\\w-]+)*(?:(?:\\/[^\\s/]*))*', '', opinion_string)  \n",
    "    \n",
    "    # 4. Remove special characters\n",
    "    opinion_string = opinion_string.replace('\\n',' ')\n",
    "    opinion_string = opinion_string.replace('\\r',' ')\n",
    "    \n",
    "    # 5. Remove large white spaces    \n",
    "    opinion_string = ' '.join(opinion_string.split())\n",
    "    return opinion_string\n",
    "\n",
    "def splitIntoSentences(opinion_sentence):\n",
    "    # Split into sentences\n",
    "    opinion_sentences = tokenize.sent_tokenize(opinion_sentence)\n",
    "    \n",
    "    return opinion_sentences\n",
    "\n",
    "def preprocessStringToSentences(opinion_string):\n",
    "    # 1. First Lower Case everything\n",
    "    opinion_string = opinion_string.lower()\n",
    "\n",
    "    # 2. Decontract words\n",
    "    opinion_string = decontracted(opinion_string)\n",
    "\n",
    "    # 3. Remove numbers\n",
    "    opinion_string = re.sub(r'\\d+', '', opinion_string)\n",
    "\n",
    "    # 4. Remove URLs\n",
    "    opinion_string = re.sub(r'\\w+:\\/{2}[\\d\\w-]+(\\.[\\d\\w-]+)*(?:(?:\\/[^\\s/]*))*', '', opinion_string)\n",
    "\n",
    "    # 5. Split into sentences\n",
    "    opinion_sentences = tokenize.sent_tokenize(opinion_string)\n",
    "\n",
    "    # 6. Remove punctuation\n",
    "    wordMap = []\n",
    "    for s in opinion_sentences:\n",
    "        s = re.sub(r\"[^A-Za-z]+\", \" \", s)\n",
    "        wordMap.append(s)\n",
    "\n",
    "    return wordMap"
   ]
  },
  {
   "cell_type": "code",
   "execution_count": 6,
   "id": "minimal-pocket",
   "metadata": {},
   "outputs": [
    {
     "name": "stderr",
     "output_type": "stream",
     "text": [
      "100%|█████████████████████████████████████████████████████████████████████████| 510771/510771 [24:13<00:00, 351.41it/s]\n",
      "100%|████████████████████████████████████████████████████████████████████████| 510771/510771 [01:59<00:00, 4289.57it/s]\n",
      "100%|████████████████████████████████████████████████████████████████████████| 510771/510771 [06:35<00:00, 1291.22it/s]\n",
      "100%|████████████████████████████████████████████████████████████████████████| 510771/510771 [08:21<00:00, 1018.33it/s]\n"
     ]
    }
   ],
   "source": [
    "df_debates['preprocessedArgTokens'] = df_debates.progress_apply(lambda row: preprocessStringToTokens(row['argument']),axis=1)\n",
    "df_debates['annotationComment'] = df_debates.progress_apply(lambda row: preprocessForAnnotation(row['argument']),axis=1)\n",
    "df_debates['annotationSentence'] = df_debates.progress_apply(lambda row: splitIntoSentences(row['annotationComment']),axis=1)\n",
    "df_debates['preprocessedArgSentence'] = df_debates.progress_apply(lambda row: preprocessStringToSentences(row['argument']),axis=1)"
   ]
  },
  {
   "cell_type": "code",
   "execution_count": 7,
   "id": "aerial-astrology",
   "metadata": {},
   "outputs": [],
   "source": [
    "df_debates = df_debates.reset_index()"
   ]
  },
  {
   "cell_type": "code",
   "execution_count": 8,
   "id": "adequate-imperial",
   "metadata": {},
   "outputs": [],
   "source": [
    "df_debates = df_debates.rename(columns = {'index':'ID'})"
   ]
  },
  {
   "cell_type": "markdown",
   "id": "literary-malpractice",
   "metadata": {},
   "source": [
    "## Extract biased co-occurrence in sliding window"
   ]
  },
  {
   "cell_type": "code",
   "execution_count": 12,
   "id": "bored-decrease",
   "metadata": {},
   "outputs": [],
   "source": [
    "def get_windows(words, window_size):\n",
    "    i = 0\n",
    "    while i < len(words):\n",
    "        center_word = words[i]\n",
    "        # Calculate context words\n",
    "        if ((i-window_size) < 0):\n",
    "            first_word_index = 0\n",
    "        else:\n",
    "            first_word_index = (i-window_size)\n",
    "        if (i + window_size) < (len(words)):\n",
    "            last_word_index = i + window_size\n",
    "        else:\n",
    "            last_word_index = len(words)\n",
    "        context_words = words[first_word_index:i] + words[(i+1):last_word_index+1]\n",
    "        yield center_word, context_words\n",
    "        i += 1"
   ]
  },
  {
   "cell_type": "code",
   "execution_count": 13,
   "id": "opposite-collectible",
   "metadata": {},
   "outputs": [],
   "source": [
    "# Create Cartesian product\n",
    "def cartesianProductList(list1, list2):\n",
    "    cartesianProductList = []\n",
    "    for element in itertools.product(list1, list2):\n",
    "        cartesianProductList.append(element)\n",
    "    return cartesianProductList\n",
    "\n",
    "# Count occurrences\n",
    "def countOccurrence(comment, targetWordList):\n",
    "    totalCount = 0\n",
    "    for sentence in comment: \n",
    "        for e in targetWordList:\n",
    "            temp = sentence.count(e)\n",
    "            totalCount = totalCount + temp\n",
    "    return totalCount\n",
    "\n",
    "# Check whether tuple in sentence\n",
    "def findBias(comment, cartesianProductList):\n",
    "    biasedSentences = []\n",
    "    foundTuples = []\n",
    "    for sentence in comment:\n",
    "        for tup in cartesianProductList:\n",
    "            if tup[0] in sentence and tup[1] in sentence:\n",
    "                biasedSentences.append(sentence)\n",
    "                foundTuples.append(tup)\n",
    "    return pd.Series([biasedSentences, foundTuples, len(foundTuples)])\n",
    "\n",
    "# Returns number of words in string\n",
    "def countWords(string):\n",
    "    state = 'OUT'\n",
    "    wc = 0\n",
    " \n",
    "    # Scan all characters one by one\n",
    "    for i in range(len(string)):\n",
    " \n",
    "        # If next character is a separator,\n",
    "        # set the state as OUT\n",
    "        if (string[i] == ' ' or string[i] == '\\n' or\n",
    "            string[i] == '\\t'):\n",
    "            state = 'OUT'\n",
    " \n",
    "        # If next character is not a word\n",
    "        # separator and state is OUT, then\n",
    "        # set the state as IN and increment\n",
    "        # word count\n",
    "        elif state == 'OUT':\n",
    "            state = 'IN'\n",
    "            wc += 1\n",
    " \n",
    "    # Return the number of words\n",
    "    return wc\n",
    " \n",
    "\n",
    "# Check whether context word is target word and whether attribute is in context\n",
    "def findBiasInSlidingWindow(comment, sentences, t_list, a_list, windowSize):\n",
    "    biasedSentences = []\n",
    "    foundTuples = []\n",
    "    print(comment)\n",
    "    for index, sentence in enumerate(comment):\n",
    "        for center_word, context_words in get_windows(sentence, windowSize):\n",
    "            if center_word in t_list:\n",
    "                for e in a_list:\n",
    "                    if countWords(e) > 1:\n",
    "                        split = e.split()\n",
    "                        if split[0] in context_words and split[1] in context_words:\n",
    "                            biasedSentences.append(sentences[index])\n",
    "                            foundTuples.append(tuple([e, center_word]))\n",
    "                    elif e in context_words:\n",
    "                        biasedSentences.append(sentences[index])\n",
    "                        foundTuples.append(tuple([e, center_word]))\n",
    "    return pd.Series([biasedSentences, foundTuples, len(foundTuples)])\n",
    "\n",
    "# Check whether tuple in sentence\n",
    "def findBiasCount(comment, cartesianProductList):\n",
    "    foundTuples = []\n",
    "    for sentence in comment:\n",
    "        for tup in cartesianProductList:\n",
    "            if tup[0] in sentence and tup[1] in sentence:\n",
    "                foundTuples.append(tup)\n",
    "    return len(foundTuples)\n",
    "\n",
    "def calculateSummarySlidingWindow(dataSet, targetTermFunction, windowSize):\n",
    "    t1, t2, a1, a2 = targetTermFunction()\n",
    "    t1 = [x.lower() for x in t1]\n",
    "    t2 = [x.lower() for x in t2]\n",
    "    a1 = [x.lower() for x in a1]\n",
    "    a2 = [x.lower() for x in a2]\n",
    "    df = dataSet.copy()\n",
    "\n",
    "    # Count word occurrences\n",
    "    df['minorityCount'] =  df.progress_apply(lambda row: countOccurrence(row['preprocessedArgTokens'], t1),axis=1)\n",
    "    df['majorityCount'] =  df.progress_apply(lambda row: countOccurrence(row['preprocessedArgTokens'], t2),axis=1)\n",
    "    \n",
    "\n",
    "    totalMinorityOccurrence = df['minorityCount'].sum() \n",
    "    totalMajorityOccurrence = df['majorityCount'].sum() \n",
    "\n",
    "    df[['T1 x A1 Sentences', 'T1 x A1 Tuples Found', 'T1 x A1 Count']] = df.progress_apply(lambda row: findBiasInSlidingWindow(row['preprocessedArgTokens'], row['annotationSentence'], t1, a1, windowSize),axis=1)\n",
    "   \n",
    "    t1_a1_total = df['T1 x A1 Count'].sum() \n",
    "    if (t1_a1_total > 0):\n",
    "        t1_a1_percentage = (t1_a1_total / totalMinorityOccurrence) * 100\n",
    "        t1_a1_percentage = round(t1_a1_percentage, 2)\n",
    "    else:\n",
    "        t1_a1_percentage = 0\n",
    "\n",
    "    return pd.Series([totalMinorityOccurrence, totalMajorityOccurrence, t1_a1_total, t1_a1_percentage]), df"
   ]
  },
  {
   "cell_type": "code",
   "execution_count": 82,
   "id": "pressed-equilibrium",
   "metadata": {},
   "outputs": [],
   "source": [
    "queerphobia_outcome_SW7, df_debate_queerphobia_SW7 = calculateSummarySlidingWindow(df_debates, queerphobia_tt, 7)"
   ]
  },
  {
   "cell_type": "code",
   "execution_count": 83,
   "id": "dated-sponsorship",
   "metadata": {},
   "outputs": [
    {
     "data": {
      "text/plain": [
       "0    71953.00\n",
       "1    17114.00\n",
       "2     1894.00\n",
       "3        2.63\n",
       "dtype: float64"
      ]
     },
     "execution_count": 83,
     "metadata": {},
     "output_type": "execute_result"
    }
   ],
   "source": [
    "queerphobia_outcome_SW7"
   ]
  },
  {
   "cell_type": "code",
   "execution_count": 84,
   "id": "higher-newcastle",
   "metadata": {},
   "outputs": [],
   "source": [
    "queerphobia_outcome_SW8, df_debate_queerphobia_SW8 = calculateSummarySlidingWindow(df_debates, queerphobia_tt, 8)"
   ]
  },
  {
   "cell_type": "code",
   "execution_count": 85,
   "id": "composite-contest",
   "metadata": {},
   "outputs": [
    {
     "data": {
      "text/plain": [
       "0    71953.00\n",
       "1    17114.00\n",
       "2     2071.00\n",
       "3        2.88\n",
       "dtype: float64"
      ]
     },
     "execution_count": 85,
     "metadata": {},
     "output_type": "execute_result"
    }
   ],
   "source": [
    "queerphobia_outcome_SW8"
   ]
  },
  {
   "cell_type": "code",
   "execution_count": 86,
   "id": "together-receipt",
   "metadata": {},
   "outputs": [],
   "source": [
    "queerphobia_outcome_SW9, df_debate_queerphobia_SW9 = calculateSummarySlidingWindow(df_debates, queerphobia_tt, 9)"
   ]
  },
  {
   "cell_type": "code",
   "execution_count": 87,
   "id": "disabled-textbook",
   "metadata": {},
   "outputs": [
    {
     "data": {
      "text/plain": [
       "0    71953.0\n",
       "1    17114.0\n",
       "2     2232.0\n",
       "3        3.1\n",
       "dtype: float64"
      ]
     },
     "execution_count": 87,
     "metadata": {},
     "output_type": "execute_result"
    }
   ],
   "source": [
    "queerphobia_outcome_SW9"
   ]
  },
  {
   "cell_type": "code",
   "execution_count": null,
   "id": "rocky-plastic",
   "metadata": {},
   "outputs": [],
   "source": [
    "queerphobia_outcome_SW10, df_debate_queerphobia_SW10 = calculateSummarySlidingWindow(df_debates, queerphobia_tt, 10)"
   ]
  },
  {
   "cell_type": "code",
   "execution_count": 11,
   "id": "identical-bunny",
   "metadata": {},
   "outputs": [
    {
     "data": {
      "text/plain": [
       "0    71953.00\n",
       "1    17114.00\n",
       "2     2359.00\n",
       "3        3.28\n",
       "dtype: float64"
      ]
     },
     "execution_count": 11,
     "metadata": {},
     "output_type": "execute_result"
    }
   ],
   "source": [
    "queerphobia_outcome_SW10"
   ]
  },
  {
   "cell_type": "code",
   "execution_count": null,
   "id": "judicial-asset",
   "metadata": {},
   "outputs": [],
   "source": [
    "islamophobia_outcome_SW10, df_debate_islamophobia_SW10 = calculateSummarySlidingWindow(df_debates, islamophobia_tt, 10)"
   ]
  },
  {
   "cell_type": "code",
   "execution_count": 11,
   "id": "incorporate-seating",
   "metadata": {},
   "outputs": [
    {
     "data": {
      "text/plain": [
       "0     44405.00\n",
       "1    169678.00\n",
       "2      5734.00\n",
       "3        12.91\n",
       "dtype: float64"
      ]
     },
     "execution_count": 11,
     "metadata": {},
     "output_type": "execute_result"
    }
   ],
   "source": [
    "islamophobia_outcome_SW10"
   ]
  },
  {
   "cell_type": "markdown",
   "id": "sweet-responsibility",
   "metadata": {},
   "source": [
    "# Analyze comments and sentences extracted for Queerphobia bias"
   ]
  },
  {
   "cell_type": "code",
   "execution_count": null,
   "id": "turned-syndication",
   "metadata": {},
   "outputs": [],
   "source": [
    "#Create subset of biased sentences and comments\n",
    "queerphobiaSubset = df_debate_queerphobia_SW10[df_debate_queerphobia_SW10['T1 x A1 Count'] > 0]\n",
    "len(queerphobiaSubset)"
   ]
  },
  {
   "cell_type": "markdown",
   "id": "stuffed-vermont",
   "metadata": {},
   "source": [
    "## Calculate number of found sentences per comment"
   ]
  },
  {
   "cell_type": "code",
   "execution_count": 17,
   "id": "employed-stevens",
   "metadata": {
    "scrolled": true
   },
   "outputs": [
    {
     "data": {
      "text/plain": [
       "<AxesSubplot:>"
      ]
     },
     "execution_count": 17,
     "metadata": {},
     "output_type": "execute_result"
    },
    {
     "data": {
      "image/png": "[encoded data removed]",
      "text/plain": [
       "<Figure size 432x288 with 1 Axes>"
      ]
     },
     "metadata": {
      "needs_background": "light"
     },
     "output_type": "display_data"
    }
   ],
   "source": [
    "queerphobiaSubset['T1 x A1 Count'].hist(bins = 20)"
   ]
  },
  {
   "cell_type": "code",
   "execution_count": 18,
   "id": "entertaining-miami",
   "metadata": {
    "scrolled": false
   },
   "outputs": [
    {
     "data": {
      "text/plain": [
       "1     1059\n",
       "2      294\n",
       "3       88\n",
       "4       46\n",
       "5       18\n",
       "6       14\n",
       "7        7\n",
       "10       2\n",
       "8        1\n",
       "13       1\n",
       "Name: T1 x A1 Count, dtype: int64"
      ]
     },
     "execution_count": 18,
     "metadata": {},
     "output_type": "execute_result"
    }
   ],
   "source": [
    "queerphobiaSubset['T1 x A1 Count'].value_counts()"
   ]
  },
  {
   "cell_type": "code",
   "execution_count": 145,
   "id": "absent-crest",
   "metadata": {
    "scrolled": false
   },
   "outputs": [
    {
     "data": {
      "text/plain": [
       "<AxesSubplot:>"
      ]
     },
     "execution_count": 145,
     "metadata": {},
     "output_type": "execute_result"
    },
    {
     "data": {
      "image/png": "[encoded data removed]",
      "text/plain": [
       "<Figure size 432x288 with 1 Axes>"
      ]
     },
     "metadata": {
      "needs_background": "light"
     },
     "output_type": "display_data"
    }
   ],
   "source": [
    "queerphobiaSubset['Number of Words'].hist(bins=10)"
   ]
  },
  {
   "cell_type": "markdown",
   "id": "executed-enlargement",
   "metadata": {},
   "source": [
    "## Analyze length of arguments and reduce to comments < 500 words"
   ]
  },
  {
   "cell_type": "code",
   "execution_count": 62,
   "id": "exceptional-sample",
   "metadata": {
    "scrolled": true
   },
   "outputs": [
    {
     "name": "stderr",
     "output_type": "stream",
     "text": [
      "100%|████████████████████████████████████████████████████████████████████████████| 1530/1530 [00:00<00:00, 1825.70it/s]\n"
     ]
    }
   ],
   "source": [
    "queerphobiaSubset['Number of Words'] = queerphobiaSubset.progress_apply(lambda row: countWords(row['annotationComment']),axis=1)"
   ]
  },
  {
   "cell_type": "code",
   "execution_count": 85,
   "id": "headed-china",
   "metadata": {},
   "outputs": [],
   "source": [
    "queerphobiaSubset = queerphobiaSubset[queerphobiaSubset['Number of Words'] < 500]\n",
    "len(queerphobiaSubset)"
   ]
  },
  {
   "cell_type": "markdown",
   "id": "overall-insurance",
   "metadata": {},
   "source": [
    "## Create annotation ready dataframe per found biased tuple"
   ]
  },
  {
   "cell_type": "code",
   "execution_count": 87,
   "id": "municipal-permit",
   "metadata": {},
   "outputs": [],
   "source": [
    "def perFoundTupleFrame(df):\n",
    "    result = []\n",
    "    for index, row in df.iterrows():\n",
    "        rowList = []\n",
    "        if row['T1 x A1 Count'] > 1:\n",
    "            for i in range(row['T1 x A1 Count']):\n",
    "                rowList = []\n",
    "                rowList.append(row['index'])\n",
    "                rowList.append(row['title'])\n",
    "                rowList.append(row['annotationComment'])\n",
    "                rowList.append(row['T1 x A1 Sentences'][i])\n",
    "                rowList.append(row['T1 x A1 Tuples Found'][i])\n",
    "                result.append(rowList)\n",
    "        else: \n",
    "            rowList.append(row['index'])\n",
    "            rowList.append(row['title'])\n",
    "            rowList.append(row['annotationComment'])\n",
    "            rowList.append(row['T1 x A1 Sentences'])\n",
    "            rowList.append(row['T1 x A1 Tuples Found'])\n",
    "            result.append(rowList)\n",
    "            \n",
    "    resultFrame = pd.DataFrame(result, columns=['index', 'title', 'annotationComment', 'T1 x A1 Sentences', 'T1 x A1 Tuples Found'])\n",
    "    return resultFrame\n",
    "\n",
    "def createStringFromList(entry):\n",
    "    if isinstance(entry, list):\n",
    "        returnString = entry[0]\n",
    "    else: \n",
    "        returnString = entry\n",
    "    return returnString"
   ]
  },
  {
   "cell_type": "code",
   "execution_count": 88,
   "id": "talented-geography",
   "metadata": {},
   "outputs": [],
   "source": [
    "queerphobiaAnnotationFrame = perFoundTupleFrame(queerphobiaSubset)\n",
    "queerphobiaAnnotationFrame['T1 x A1 Sentences'] = queerphobiaAnnotationFrame.progress_apply(lambda row: createStringFromList(row['T1 x A1 Sentences']),axis=1)\n",
    "queerphobiaAnnotationFrame['T1 x A1 Tuples Found'] = queerphobiaAnnotationFrame.progress_apply(lambda row: createStringFromList(row['T1 x A1 Tuples Found']),axis=1)\n",
    "queerphobiaAnnotationFrame['Biased Sentence'] = ''\n",
    "queerphobiaAnnotationFrame['Biased Comment'] = ''\n",
    "queerphobiaAnnotationFrame['Comment'] = ''"
   ]
  },
  {
   "cell_type": "code",
   "execution_count": 93,
   "id": "rising-auditor",
   "metadata": {},
   "outputs": [
    {
     "data": {
      "text/plain": [
       "889"
      ]
     },
     "execution_count": 93,
     "metadata": {},
     "output_type": "execute_result"
    }
   ],
   "source": [
    "len(queerphobiaAnnotationFrame)"
   ]
  },
  {
   "cell_type": "code",
   "execution_count": null,
   "id": "110f21a4",
   "metadata": {},
   "outputs": [],
   "source": [
    "# Save to csv\n",
    "#queerphobiaAnnotationFrame.to_csv('queerphobia_annotation_frame.csv', encoding='UTF-8')\n",
    "\n",
    "# Create sample for IAA\n",
    "#ten_percent_sample = queerphobiaAnnotationFrame.sample(frac=0.1, replace=False, random_state=1)\n",
    "#ten_percent_sample.to_csv('queerphobia_iaa_frame.csv')"
   ]
  },
  {
   "cell_type": "markdown",
   "id": "visible-found",
   "metadata": {},
   "source": [
    "## Analyze found tuples"
   ]
  },
  {
   "cell_type": "code",
   "execution_count": 96,
   "id": "prescribed-trick",
   "metadata": {
    "scrolled": true
   },
   "outputs": [
    {
     "ename": "TypeError",
     "evalue": "unhashable type: 'list'",
     "output_type": "error",
     "traceback": [
      "\u001b[1;31m---------------------------------------------------------------------------\u001b[0m",
      "\u001b[1;31mTypeError\u001b[0m                                 Traceback (most recent call last)",
      "\u001b[1;32mpandas\\_libs\\hashtable_class_helper.pxi\u001b[0m in \u001b[0;36mpandas._libs.hashtable.PyObjectHashTable.map_locations\u001b[1;34m()\u001b[0m\n",
      "\u001b[1;31mTypeError\u001b[0m: unhashable type: 'list'"
     ]
    },
    {
     "name": "stderr",
     "output_type": "stream",
     "text": [
      "Exception ignored in: 'pandas._libs.index.IndexEngine._call_map_locations'\n",
      "Traceback (most recent call last):\n",
      "  File \"pandas\\_libs\\hashtable_class_helper.pxi\", line 4588, in pandas._libs.hashtable.PyObjectHashTable.map_locations\n",
      "TypeError: unhashable type: 'list'\n"
     ]
    },
    {
     "data": {
      "text/plain": [
       "(sin, gay)                  77\n",
       "[(sin, gay)]                64\n",
       "[(sin, homosexual)]         38\n",
       "[(immoral, gay)]            37\n",
       "[(immoral, homosexual)]     30\n",
       "(immoral, homosexual)       24\n",
       "(sin, homosexual)           23\n",
       "(disease, gay)              20\n",
       "[(disease, gay)]            18\n",
       "(sinful, homosexual)        18\n",
       "(pedophile, homosexual)     16\n",
       "(repulsive, gay)            15\n",
       "(immoral, gay)              12\n",
       "(pedophile, gay)            12\n",
       "(polygamous, gay)           11\n",
       "(asexual, bisexual)         11\n",
       "[(sin, homosexuals)]        10\n",
       "[(immoral, homosexuals)]     9\n",
       "(immoral, homosexuals)       9\n",
       "(asexual, gay)               9\n",
       "Name: T1 x A1 Tuples Found, dtype: int64"
      ]
     },
     "execution_count": 96,
     "metadata": {},
     "output_type": "execute_result"
    }
   ],
   "source": [
    "queerphobiaAnnotationFrame['T1 x A1 Tuples Found'].value_counts().nlargest(20)"
   ]
  },
  {
   "cell_type": "code",
   "execution_count": 79,
   "id": "stock-raise",
   "metadata": {
    "scrolled": true
   },
   "outputs": [
    {
     "data": {
      "text/plain": [
       "gay             978\n",
       "homosexual      740\n",
       "homosexuals     307\n",
       "gays            127\n",
       "transgender      72\n",
       "lesbian          42\n",
       "bisexual         37\n",
       "lesbians         18\n",
       "bisexuals         9\n",
       "transgenders      8\n",
       "queer             7\n",
       "transsexuals      4\n",
       "pansexual         4\n",
       "transsexual       3\n",
       "lgbtq             3\n",
       "Name: T1, dtype: int64"
      ]
     },
     "execution_count": 79,
     "metadata": {},
     "output_type": "execute_result"
    }
   ],
   "source": [
    "queerphobiaAnnotationFrame['T1'].value_counts()"
   ]
  },
  {
   "cell_type": "code",
   "execution_count": 80,
   "id": "reverse-murray",
   "metadata": {},
   "outputs": [
    {
     "name": "stderr",
     "output_type": "stream",
     "text": [
      "100%|███████████████████████████████████████████████████████████████████████████| 2359/2359 [00:00<00:00, 78633.41it/s]\n"
     ]
    }
   ],
   "source": [
    "queerphobiaAnnotationFrame['A1'] = queerphobiaAnnotationFrame.progress_apply(lambda row: row['T1 x A1 Tuples Found'][0],axis=1)"
   ]
  },
  {
   "cell_type": "code",
   "execution_count": 82,
   "id": "coupled-suite",
   "metadata": {
    "scrolled": true
   },
   "outputs": [
    {
     "data": {
      "text/plain": [
       "sin                  555\n",
       "immoral              472\n",
       "disease              259\n",
       "sinful               109\n",
       "pedophile             89\n",
       "emotional             80\n",
       "promiscuous           76\n",
       "alcohol               66\n",
       "mental disorder       62\n",
       "sexual abuse          54\n",
       "asexual               49\n",
       "polygamous            46\n",
       "mentally ill          45\n",
       "perverts              44\n",
       "adultery              42\n",
       "weird                 38\n",
       "weak                  35\n",
       "repulsive             28\n",
       "criminal              28\n",
       "strange               26\n",
       "pervert               22\n",
       "fashion               21\n",
       "faggot                13\n",
       "confuse               13\n",
       "flamboyant            13\n",
       "prostitute             9\n",
       "predator               8\n",
       "dramatic               8\n",
       "sexual predator        6\n",
       "serial killer          5\n",
       "loser                  4\n",
       "sensitive              4\n",
       "drag queen             3\n",
       "insecure               3\n",
       "weak minded            3\n",
       "drug addict            3\n",
       "submissive             2\n",
       "theatre                2\n",
       "sexually abnormal      2\n",
       "arts                   2\n",
       "lack self control      1\n",
       "timid                  1\n",
       "lonely                 1\n",
       "party drugs            1\n",
       "artistic               1\n",
       "coward                 1\n",
       "illicit drugs          1\n",
       "irreligious            1\n",
       "loner                  1\n",
       "villain                1\n",
       "Name: A1, dtype: int64"
      ]
     },
     "execution_count": 82,
     "metadata": {},
     "output_type": "execute_result"
    }
   ],
   "source": [
    "queerphobiaAnnotationFrame['A1'].value_counts()"
   ]
  },
  {
   "cell_type": "markdown",
   "id": "auburn-fetish",
   "metadata": {},
   "source": [
    "# Analyze comments and sentences extracted for Islamophobia bias"
   ]
  },
  {
   "cell_type": "code",
   "execution_count": 70,
   "id": "tribal-google",
   "metadata": {},
   "outputs": [
    {
     "data": {
      "text/plain": [
       "2617"
      ]
     },
     "execution_count": 70,
     "metadata": {},
     "output_type": "execute_result"
    }
   ],
   "source": [
    "#Create subset of biased sentences and comments\n",
    "islamophobiaSubset = df_debate_islamophobia_SW10[df_debate_islamophobia_SW10['T1 x A1 Count'] > 0]\n",
    "len(islamophobiaSubset)"
   ]
  },
  {
   "cell_type": "code",
   "execution_count": 18,
   "id": "valued-kazakhstan",
   "metadata": {},
   "outputs": [
    {
     "data": {
      "text/plain": [
       "<AxesSubplot:>"
      ]
     },
     "execution_count": 18,
     "metadata": {},
     "output_type": "execute_result"
    },
    {
     "data": {
      "image/png": "[encoded data removed]",
      "text/plain": [
       "<Figure size 432x288 with 1 Axes>"
      ]
     },
     "metadata": {
      "needs_background": "light"
     },
     "output_type": "display_data"
    }
   ],
   "source": [
    "# Plot number of biased sentences per biased comment\n",
    "islamophobiaSubset['T1 x A1 Count'].hist(bins = 20)"
   ]
  },
  {
   "cell_type": "markdown",
   "id": "solar-catch",
   "metadata": {},
   "source": [
    "## Analyze length of arguments and reduce to comments < 500 words"
   ]
  },
  {
   "cell_type": "code",
   "execution_count": 59,
   "id": "nearby-uganda",
   "metadata": {},
   "outputs": [
    {
     "data": {
      "text/plain": [
       "1101"
      ]
     },
     "execution_count": 59,
     "metadata": {},
     "output_type": "execute_result"
    }
   ],
   "source": [
    "# Calculate number of words per argument\n",
    "islamophobiaSubset['Number of Words'] = islamophobiaSubset.progress_apply(lambda row: countWords(row['annotationComment']),axis=1)\n",
    "islamophobiaSubset = islamophobiaSubset[islamophobiaSubset['Number of Words'] < 500]\n",
    "len(islamophobiaSubset)"
   ]
  },
  {
   "cell_type": "markdown",
   "id": "exposed-houston",
   "metadata": {},
   "source": [
    "## Create annotation ready dataframe per found biased tuple"
   ]
  },
  {
   "cell_type": "code",
   "execution_count": 39,
   "id": "mathematical-laundry",
   "metadata": {},
   "outputs": [],
   "source": [
    "islamophobiaAnnotationFrame = perFoundTupleFrame(islamophobiaSubset)\n",
    "islamophobiaAnnotationFrame['T1 x A1 Sentences'] = islamophobiaAnnotationFrame.progress_apply(lambda row: createStringFromList(row['T1 x A1 Sentences']),axis=1)\n",
    "islamophobiaAnnotationFrame['T1 x A1 Tuples Found'] = islamophobiaAnnotationFrame.progress_apply(lambda row: createStringFromList(row['T1 x A1 Tuples Found']),axis=1)\n",
    "islamophobiaAnnotationFrame['Biased Sentence'] = ''\n",
    "islamophobiaAnnotationFrame['Biased Comment'] = ''\n",
    "islamophobiaAnnotationFrame['Comment'] = ''\n",
    "len(islamophobiaAnnotationFrame)"
   ]
  },
  {
   "cell_type": "code",
   "execution_count": 51,
   "id": "falling-edward",
   "metadata": {},
   "outputs": [
    {
     "data": {
      "text/plain": [
       "94"
      ]
     },
     "execution_count": 51,
     "metadata": {},
     "output_type": "execute_result"
    }
   ],
   "source": [
    "# Save to csv\n",
    "#islamophobiaAnnotationFrame.to_csv('islamophobia_annotation_frame.csv', encoding='UTF-8')\n",
    "\n",
    "# Create sample for IAA\n",
    "#five_percent_sample = islamophobiaAnnotationFrame.sample(frac=0.05, replace=False, random_state=1)\n",
    "#five_percent_sample.to_csv('islamophobia_iaa_frame.csv')\n",
    "len(five_percent_sample)"
   ]
  },
  {
   "cell_type": "markdown",
   "id": "stainless-investor",
   "metadata": {},
   "source": [
    "## Analyze found tuples"
   ]
  },
  {
   "cell_type": "code",
   "execution_count": 78,
   "id": "expected-installation",
   "metadata": {},
   "outputs": [
    {
     "data": {
      "text/plain": [
       "(terrorism, islam)      293\n",
       "(violence, islam)       246\n",
       "(war, muslims)          223\n",
       "(radical, islam)        220\n",
       "(terrorism, islamic)    217\n",
       "(war, islam)            211\n",
       "(violent, islam)        198\n",
       "(radical, muslims)      197\n",
       "(terrorist, muslims)    183\n",
       "(terrorist, muslim)     166\n",
       "(terrorist, islamic)    159\n",
       "(attack, muslims)       149\n",
       "(terrorism, muslims)    138\n",
       "(hate, muslims)         130\n",
       "(violence, muslims)     121\n",
       "(threat, islam)         114\n",
       "(radical, muslim)       111\n",
       "(radical, islamic)      110\n",
       "(war, islamic)          104\n",
       "(war, muslim)           100\n",
       "Name: T1 x A1 Tuples Found, dtype: int64"
      ]
     },
     "execution_count": 78,
     "metadata": {},
     "output_type": "execute_result"
    }
   ],
   "source": [
    "islamophobiaSubset['T1 x A1 Tuples Found'].value_counts().nlargest(20)"
   ]
  },
  {
   "cell_type": "code",
   "execution_count": 80,
   "id": "australian-marker",
   "metadata": {},
   "outputs": [
    {
     "name": "stderr",
     "output_type": "stream",
     "text": [
      "100%|███████████████████████████████████████████████████████████████████████████| 5734/5734 [00:00<00:00, 89595.90it/s]\n",
      "100%|███████████████████████████████████████████████████████████████████████████| 5734/5734 [00:00<00:00, 84321.07it/s]\n"
     ]
    }
   ],
   "source": [
    "islamophobiaSubset['A1'] = religiousSubset.progress_apply(lambda row: row['T1 x A1 Tuples Found'][0],axis=1)\n",
    "islamophobiaSubset['T1'] = religiousSubset.progress_apply(lambda row: row['T1 x A1 Tuples Found'][1],axis=1)"
   ]
  },
  {
   "cell_type": "code",
   "execution_count": 82,
   "id": "understood-mistress",
   "metadata": {},
   "outputs": [
    {
     "data": {
      "text/plain": [
       "war          769\n",
       "terrorism    753\n",
       "radical      644\n",
       "terrorist    615\n",
       "violence     499\n",
       "violent      389\n",
       "attack       368\n",
       "hate         336\n",
       "threat       258\n",
       "extremist    201\n",
       "murder       136\n",
       "enemies      129\n",
       "enemy         96\n",
       "dangerous     90\n",
       "hijab         73\n",
       "slaves        57\n",
       "hostile       55\n",
       "bomb          46\n",
       "oppressed     44\n",
       "rich          35\n",
       "Name: A1, dtype: int64"
      ]
     },
     "execution_count": 82,
     "metadata": {},
     "output_type": "execute_result"
    }
   ],
   "source": [
    "islamophobiaSubset['A1'].value_counts().nlargest(20)"
   ]
  },
  {
   "cell_type": "code",
   "execution_count": 83,
   "id": "cutting-medicine",
   "metadata": {},
   "outputs": [
    {
     "data": {
      "text/plain": [
       "islam       1821\n",
       "muslims     1621\n",
       "islamic     1006\n",
       "muslim       952\n",
       "arab         223\n",
       "arabs        106\n",
       "islamism       5\n",
       "Name: T1, dtype: int64"
      ]
     },
     "execution_count": 83,
     "metadata": {},
     "output_type": "execute_result"
    }
   ],
   "source": [
    "islamophobiaSubset['T1'].value_counts().nlargest(20)"
   ]
  }
 ],
 "metadata": {
  "kernelspec": {
   "display_name": "Python 3 (ipykernel)",
   "language": "python",
   "name": "python3"
  },
  "language_info": {
   "codemirror_mode": {
    "name": "ipython",
    "version": 3
   },
   "file_extension": ".py",
   "mimetype": "text/x-python",
   "name": "python",
   "nbconvert_exporter": "python",
   "pygments_lexer": "ipython3",
   "version": "3.9.7"
  },
  "toc": {
   "base_numbering": 1,
   "nav_menu": {},
   "number_sections": true,
   "sideBar": true,
   "skip_h1_title": false,
   "title_cell": "Table of Contents",
   "title_sidebar": "Contents",
   "toc_cell": false,
   "toc_position": {},
   "toc_section_display": true,
   "toc_window_display": true
  }
 },
 "nbformat": 4,
 "nbformat_minor": 5
}
